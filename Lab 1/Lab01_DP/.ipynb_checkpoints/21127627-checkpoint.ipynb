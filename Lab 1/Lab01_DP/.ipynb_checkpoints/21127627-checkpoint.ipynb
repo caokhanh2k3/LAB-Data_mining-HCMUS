{
 "cells": [
  {
   "cell_type": "markdown",
   "metadata": {},
   "source": [
    "# Lab 01: Data pre-processing"
   ]
  },
  {
   "cell_type": "markdown",
   "metadata": {},
   "source": [
    "- Student ID: 21127627\n",
    "- Student name: Cao Nguyễn Khánh"
   ]
  },
  {
   "cell_type": "markdown",
   "metadata": {},
   "source": [
    "## Instructions"
   ]
  },
  {
   "cell_type": "markdown",
   "metadata": {},
   "source": [
    "### How to do your homework\n",
    "\n",
    "To finish the project, fill in:\n",
    "- ```YOUR CODE HERE``` in code cells\n",
    "\n",
    "- ```YOUR ANSWER HERE``` in text cells."
   ]
  },
  {
   "cell_type": "markdown",
   "metadata": {},
   "source": [
    "**NOTE:**\n",
    "\n",
    "- Your project must be finished by your own self. You may discuss with the others, but must not copy (partially or entirely) their codes or solutions. You will receive a <font color='red'>0 point</font> for this project if you violate this plagiarism rule. \n",
    "- Because our plagiarism checker is very sensitive, if the plagiarism check result is <font color='red'>greater than 60%</font>, your work will receive <font color='red'>0 point</font>. Therefore we will not deal with plagiarism cases.\n",
    "\n",
    "- You can create new cells to clarify your code / answer, however, please <font color='red'>do not delete any pre-defined code cells or test case cells</font> as it may affect the grading results."
   ]
  },
  {
   "cell_type": "markdown",
   "metadata": {},
   "source": [
    "### How to submit\n",
    "\n",
    "In the grading stage, I will first select `Kernel` - `Restart Kernel & Run All Cells` to restart and run all cells in your notebook. As a result, before submitting your project, you should run `Kernel` - `Restart Kernel & Run All Cells` to ensure your code will run as you expect.\n",
    "\n",
    "After that, rename your notebook as `ID1.ipynb` (e.g. `19123.ipynb`) and submit on Moodle.\n",
    "\n",
    "<font color=yellow>Please follow the above submission guidelines. Any violation of these instructions may cost you some penalty points (0-50%)!!!</font>\n"
   ]
  },
  {
   "cell_type": "markdown",
   "metadata": {},
   "source": [
    "### Contents\n",
    "\n",
    "- Data pre-processing techniques.\n",
    "    - Exploring your data (2 pts)\n",
    "    - Encoding categorical (2 pts)\n",
    "    - Discretization techniques (2 pts)\n",
    "    - Outlier handling techniques (1 pts)\n",
    "    - Feature scaling techniques (2 pts)\n",
    "    - Clean submission (1 pts)"
   ]
  },
  {
   "cell_type": "markdown",
   "metadata": {},
   "source": [
    "## Import libs\n",
    "**Note:** <span style=\"color:yellow\">All packages you can use in this lab are imported in the cell below. Please don't modify this, just run that.</span>"
   ]
  },
  {
   "cell_type": "code",
   "execution_count": 1,
   "metadata": {},
   "outputs": [],
   "source": [
    "import warnings\n",
    "warnings.filterwarnings('ignore')"
   ]
  },
  {
   "cell_type": "code",
   "execution_count": 2,
   "metadata": {},
   "outputs": [],
   "source": [
    "import sys\n",
    "import json\n",
    "from zlib import adler32\n",
    "\n",
    "from typing import List, Dict\n",
    "\n",
    "import numpy as np\n",
    "import pandas as pd\n",
    "import matplotlib.pyplot as plt\n",
    "import seaborn as sns\n",
    "\n",
    "from sklearn.tree import DecisionTreeClassifier\n",
    "from sklearn.preprocessing import KBinsDiscretizer, LabelEncoder, StandardScaler, MinMaxScaler, MaxAbsScaler, Normalizer"
   ]
  },
  {
   "cell_type": "code",
   "execution_count": 3,
   "metadata": {},
   "outputs": [],
   "source": [
    "# Config matplotlib and pandas display\n",
    "%matplotlib inline\n",
    "pd.set_option('display.max_colwidth', 100) # For clearly\n",
    "pd.set_option('display.max_columns', None) # For clearly"
   ]
  },
  {
   "cell_type": "code",
   "execution_count": 4,
   "metadata": {},
   "outputs": [],
   "source": [
    "# Config seaborn\n",
    "plt.rcParams[\"figure.figsize\"] = [12, 8]\n",
    "\n",
    "custom = {\"axes.edgecolor\": \"blue\", \"grid.linestyle\": \"dashed\", \"grid.color\": \"black\"}\n",
    "sns.set_style(\"whitegrid\", rc = custom)"
   ]
  },
  {
   "cell_type": "code",
   "execution_count": 5,
   "metadata": {},
   "outputs": [
    {
     "data": {
      "text/plain": [
       "'C:\\\\Users\\\\Admin\\\\miniconda3\\\\envs\\\\min_ds-env\\\\python.exe'"
      ]
     },
     "execution_count": 5,
     "metadata": {},
     "output_type": "execute_result"
    }
   ],
   "source": [
    "# Checking Python virtual env\n",
    "sys.executable"
   ]
  },
  {
   "cell_type": "markdown",
   "metadata": {},
   "source": [
    "## Exploring your data (2 pts)"
   ]
  },
  {
   "cell_type": "markdown",
   "metadata": {},
   "source": [
    "### Read rawdata from file"
   ]
  },
  {
   "cell_type": "code",
   "execution_count": 6,
   "metadata": {},
   "outputs": [],
   "source": [
    "# YOUR CODE HERE\n",
    "# raise NotImplementedError()\n",
    "\n",
    "# Đọc file CSV\n",
    "raw_df = pd.read_csv('./data/spaceX_laucnh.csv')"
   ]
  },
  {
   "cell_type": "code",
   "execution_count": 7,
   "metadata": {},
   "outputs": [
    {
     "data": {
      "text/html": [
       "<div>\n",
       "<style scoped>\n",
       "    .dataframe tbody tr th:only-of-type {\n",
       "        vertical-align: middle;\n",
       "    }\n",
       "\n",
       "    .dataframe tbody tr th {\n",
       "        vertical-align: top;\n",
       "    }\n",
       "\n",
       "    .dataframe thead th {\n",
       "        text-align: right;\n",
       "    }\n",
       "</style>\n",
       "<table border=\"1\" class=\"dataframe\">\n",
       "  <thead>\n",
       "    <tr style=\"text-align: right;\">\n",
       "      <th></th>\n",
       "      <th>uct_time</th>\n",
       "      <th>launch_name</th>\n",
       "      <th>payloads</th>\n",
       "      <th>rocket_name</th>\n",
       "      <th>rocket_boosters</th>\n",
       "      <th>rocket_height</th>\n",
       "      <th>rocket_diameter</th>\n",
       "      <th>rocket_mass</th>\n",
       "      <th>launchpad_name</th>\n",
       "      <th>launchpad_region</th>\n",
       "      <th>launchpad_geo</th>\n",
       "      <th>landpad</th>\n",
       "      <th>landpad_name</th>\n",
       "      <th>landpad_type</th>\n",
       "      <th>landpad_region</th>\n",
       "      <th>landpad_geo</th>\n",
       "      <th>outcome</th>\n",
       "    </tr>\n",
       "  </thead>\n",
       "  <tbody>\n",
       "    <tr>\n",
       "      <th>0</th>\n",
       "      <td>2006-03-24T22:30:00.000Z</td>\n",
       "      <td>FalconSat</td>\n",
       "      <td>[{'type': 'Satellite', 'mass': 20, 'orbit': 'LEO'}]</td>\n",
       "      <td>Falcon 1</td>\n",
       "      <td>0</td>\n",
       "      <td>22.25</td>\n",
       "      <td>1.68</td>\n",
       "      <td>30146.0</td>\n",
       "      <td>Kwajalein Atoll</td>\n",
       "      <td>Marshall Islands</td>\n",
       "      <td>(9.0477206, 167.7431292)</td>\n",
       "      <td>NaN</td>\n",
       "      <td>NaN</td>\n",
       "      <td>NaN</td>\n",
       "      <td>NaN</td>\n",
       "      <td>(nan, nan)</td>\n",
       "      <td>Failure</td>\n",
       "    </tr>\n",
       "    <tr>\n",
       "      <th>1</th>\n",
       "      <td>2007-03-21T01:10:00.000Z</td>\n",
       "      <td>DemoSat</td>\n",
       "      <td>[{'type': 'Satellite', 'mass': None, 'orbit': 'LEO'}]</td>\n",
       "      <td>Falcon 1</td>\n",
       "      <td>0</td>\n",
       "      <td>22.25</td>\n",
       "      <td>1.68</td>\n",
       "      <td>30146.0</td>\n",
       "      <td>Kwajalein Atoll</td>\n",
       "      <td>Marshall Islands</td>\n",
       "      <td>(9.0477206, 167.7431292)</td>\n",
       "      <td>NaN</td>\n",
       "      <td>NaN</td>\n",
       "      <td>NaN</td>\n",
       "      <td>NaN</td>\n",
       "      <td>(nan, nan)</td>\n",
       "      <td>Failure</td>\n",
       "    </tr>\n",
       "    <tr>\n",
       "      <th>2</th>\n",
       "      <td>2008-08-03T03:34:00.000Z</td>\n",
       "      <td>Trailblazer</td>\n",
       "      <td>[{'type': 'Satellite', 'mass': None, 'orbit': 'LEO'}, {'type': 'Satellite', 'mass': None, 'orbit...</td>\n",
       "      <td>Falcon 1</td>\n",
       "      <td>0</td>\n",
       "      <td>22.25</td>\n",
       "      <td>1.68</td>\n",
       "      <td>NaN</td>\n",
       "      <td>Kwajalein Atoll</td>\n",
       "      <td>Marshall Islands</td>\n",
       "      <td>(9.0477206, 167.7431292)</td>\n",
       "      <td>NaN</td>\n",
       "      <td>NaN</td>\n",
       "      <td>NaN</td>\n",
       "      <td>NaN</td>\n",
       "      <td>(nan, nan)</td>\n",
       "      <td>Failure</td>\n",
       "    </tr>\n",
       "    <tr>\n",
       "      <th>3</th>\n",
       "      <td>2008-09-28T23:15:00.000Z</td>\n",
       "      <td>RatSat</td>\n",
       "      <td>[{'type': 'Satellite', 'mass': 165, 'orbit': 'LEO'}]</td>\n",
       "      <td>Falcon 1</td>\n",
       "      <td>0</td>\n",
       "      <td>22.25</td>\n",
       "      <td>1.68</td>\n",
       "      <td>NaN</td>\n",
       "      <td>Kwajalein Atoll</td>\n",
       "      <td>Marshall Islands</td>\n",
       "      <td>(9.0477206, 167.7431292)</td>\n",
       "      <td>NaN</td>\n",
       "      <td>NaN</td>\n",
       "      <td>NaN</td>\n",
       "      <td>NaN</td>\n",
       "      <td>(nan, nan)</td>\n",
       "      <td>Success</td>\n",
       "    </tr>\n",
       "    <tr>\n",
       "      <th>4</th>\n",
       "      <td>2009-07-13T03:35:00.000Z</td>\n",
       "      <td>RazakSat</td>\n",
       "      <td>[{'type': 'Satellite', 'mass': 200, 'orbit': 'LEO'}]</td>\n",
       "      <td>Falcon 1</td>\n",
       "      <td>0</td>\n",
       "      <td>22.25</td>\n",
       "      <td>1.68</td>\n",
       "      <td>30146.0</td>\n",
       "      <td>Kwajalein Atoll</td>\n",
       "      <td>Marshall Islands</td>\n",
       "      <td>(9.0477206, 167.7431292)</td>\n",
       "      <td>NaN</td>\n",
       "      <td>NaN</td>\n",
       "      <td>NaN</td>\n",
       "      <td>NaN</td>\n",
       "      <td>(nan, nan)</td>\n",
       "      <td>Success</td>\n",
       "    </tr>\n",
       "  </tbody>\n",
       "</table>\n",
       "</div>"
      ],
      "text/plain": [
       "                   uct_time  launch_name  \\\n",
       "0  2006-03-24T22:30:00.000Z    FalconSat   \n",
       "1  2007-03-21T01:10:00.000Z      DemoSat   \n",
       "2  2008-08-03T03:34:00.000Z  Trailblazer   \n",
       "3  2008-09-28T23:15:00.000Z       RatSat   \n",
       "4  2009-07-13T03:35:00.000Z     RazakSat   \n",
       "\n",
       "                                                                                              payloads  \\\n",
       "0                                                  [{'type': 'Satellite', 'mass': 20, 'orbit': 'LEO'}]   \n",
       "1                                                [{'type': 'Satellite', 'mass': None, 'orbit': 'LEO'}]   \n",
       "2  [{'type': 'Satellite', 'mass': None, 'orbit': 'LEO'}, {'type': 'Satellite', 'mass': None, 'orbit...   \n",
       "3                                                 [{'type': 'Satellite', 'mass': 165, 'orbit': 'LEO'}]   \n",
       "4                                                 [{'type': 'Satellite', 'mass': 200, 'orbit': 'LEO'}]   \n",
       "\n",
       "  rocket_name  rocket_boosters  rocket_height  rocket_diameter  rocket_mass  \\\n",
       "0    Falcon 1                0          22.25             1.68      30146.0   \n",
       "1    Falcon 1                0          22.25             1.68      30146.0   \n",
       "2    Falcon 1                0          22.25             1.68          NaN   \n",
       "3    Falcon 1                0          22.25             1.68          NaN   \n",
       "4    Falcon 1                0          22.25             1.68      30146.0   \n",
       "\n",
       "    launchpad_name  launchpad_region             launchpad_geo  landpad  \\\n",
       "0  Kwajalein Atoll  Marshall Islands  (9.0477206, 167.7431292)      NaN   \n",
       "1  Kwajalein Atoll  Marshall Islands  (9.0477206, 167.7431292)      NaN   \n",
       "2  Kwajalein Atoll  Marshall Islands  (9.0477206, 167.7431292)      NaN   \n",
       "3  Kwajalein Atoll  Marshall Islands  (9.0477206, 167.7431292)      NaN   \n",
       "4  Kwajalein Atoll  Marshall Islands  (9.0477206, 167.7431292)      NaN   \n",
       "\n",
       "  landpad_name landpad_type landpad_region landpad_geo  outcome  \n",
       "0          NaN          NaN            NaN  (nan, nan)  Failure  \n",
       "1          NaN          NaN            NaN  (nan, nan)  Failure  \n",
       "2          NaN          NaN            NaN  (nan, nan)  Failure  \n",
       "3          NaN          NaN            NaN  (nan, nan)  Success  \n",
       "4          NaN          NaN            NaN  (nan, nan)  Success  "
      ]
     },
     "execution_count": 7,
     "metadata": {},
     "output_type": "execute_result"
    }
   ],
   "source": [
    "# TEST\n",
    "raw_df.head()"
   ]
  },
  {
   "cell_type": "markdown",
   "metadata": {},
   "source": [
    "### How many rows and how many columns does the raw data have?"
   ]
  },
  {
   "cell_type": "markdown",
   "metadata": {},
   "source": [
    "Next, you calculate the number of rows and columns of the DataFrame `raw_df` and store it in the variable `shape` (tuple)."
   ]
  },
  {
   "cell_type": "code",
   "execution_count": 8,
   "metadata": {},
   "outputs": [],
   "source": [
    "# YOUR CODE HERE\n",
    "# raise NotImplementedError()\n",
    "shape = raw_df.shape"
   ]
  },
  {
   "cell_type": "code",
   "execution_count": 9,
   "metadata": {},
   "outputs": [],
   "source": [
    "# TEST\n",
    "assert adler32(str(np.sqrt(shape[0] * shape[1])).encode()) == 590480314"
   ]
  },
  {
   "cell_type": "markdown",
   "metadata": {},
   "source": [
    "### What does each line mean? Does it matter if the lines have different meanings?"
   ]
  },
  {
   "cell_type": "markdown",
   "metadata": {},
   "source": [
    "**TODO**: \n",
    "\n",
    "YOUR ANSWER HERE"
   ]
  },
  {
   "cell_type": "markdown",
   "metadata": {},
   "source": [
    "### Does the raw data have duplicate rows?"
   ]
  },
  {
   "cell_type": "markdown",
   "metadata": {},
   "source": [
    "Next, you calculate the number of rows with duplicate indexes and store it in the variable `num_duplicated_rows`. In a group of lines with the same index, the first line is not counted as repeated."
   ]
  },
  {
   "cell_type": "code",
   "execution_count": 10,
   "metadata": {},
   "outputs": [],
   "source": [
    "# YOUR CODE HERE\n",
    "# raise NotImplementedError()\n",
    "num_duplicated_rows = raw_df.duplicated().sum()\n"
   ]
  },
  {
   "cell_type": "code",
   "execution_count": 11,
   "metadata": {},
   "outputs": [],
   "source": [
    "# TEST\n",
    "assert adler32(str(num_duplicated_rows).encode()) == 3211313"
   ]
  },
  {
   "cell_type": "markdown",
   "metadata": {},
   "source": [
    "### What does each column mean?"
   ]
  },
  {
   "cell_type": "markdown",
   "metadata": {},
   "source": [
    "To see the meaning of each column:\n",
    "- First, you need to read the file \"metadata.json\" in the `data` folder into DataFrame `metadata`;\n",
    "- Then, you describe what suitable datatype for each column? "
   ]
  },
  {
   "cell_type": "code",
   "execution_count": 12,
   "metadata": {},
   "outputs": [
    {
     "data": {
      "text/html": [
       "<div>\n",
       "<style scoped>\n",
       "    .dataframe tbody tr th:only-of-type {\n",
       "        vertical-align: middle;\n",
       "    }\n",
       "\n",
       "    .dataframe tbody tr th {\n",
       "        vertical-align: top;\n",
       "    }\n",
       "\n",
       "    .dataframe thead th {\n",
       "        text-align: right;\n",
       "    }\n",
       "</style>\n",
       "<table border=\"1\" class=\"dataframe\">\n",
       "  <thead>\n",
       "    <tr style=\"text-align: right;\">\n",
       "      <th></th>\n",
       "      <th>Column</th>\n",
       "      <th>Description</th>\n",
       "    </tr>\n",
       "  </thead>\n",
       "  <tbody>\n",
       "    <tr>\n",
       "      <th>0</th>\n",
       "      <td>uct_time</td>\n",
       "      <td>Launch date in UTC format.</td>\n",
       "    </tr>\n",
       "    <tr>\n",
       "      <th>1</th>\n",
       "      <td>launch_name</td>\n",
       "      <td>Launch name. Typically the name of the space mission.</td>\n",
       "    </tr>\n",
       "    <tr>\n",
       "      <th>2</th>\n",
       "      <td>payloads</td>\n",
       "      <td>The list information about the payloads on the launch.</td>\n",
       "    </tr>\n",
       "    <tr>\n",
       "      <th>3</th>\n",
       "      <td>rocket_name</td>\n",
       "      <td>The name of the rocket.</td>\n",
       "    </tr>\n",
       "    <tr>\n",
       "      <th>4</th>\n",
       "      <td>rocket_boosters</td>\n",
       "      <td>The number of boosters on the rocket.</td>\n",
       "    </tr>\n",
       "    <tr>\n",
       "      <th>5</th>\n",
       "      <td>rocket_height</td>\n",
       "      <td>The height information about the rocket (m).</td>\n",
       "    </tr>\n",
       "    <tr>\n",
       "      <th>6</th>\n",
       "      <td>rocket_diameter</td>\n",
       "      <td>The diameter information about the rocket (m).</td>\n",
       "    </tr>\n",
       "    <tr>\n",
       "      <th>7</th>\n",
       "      <td>rocket_mass</td>\n",
       "      <td>The mass information about the rocket (kg).</td>\n",
       "    </tr>\n",
       "    <tr>\n",
       "      <th>8</th>\n",
       "      <td>launchpad_name</td>\n",
       "      <td>The name of the launchpad.</td>\n",
       "    </tr>\n",
       "    <tr>\n",
       "      <th>9</th>\n",
       "      <td>launchpad_region</td>\n",
       "      <td>The region of the launchpad.</td>\n",
       "    </tr>\n",
       "    <tr>\n",
       "      <th>10</th>\n",
       "      <td>launchpad_geo</td>\n",
       "      <td>The geo location of the launchpad.</td>\n",
       "    </tr>\n",
       "    <tr>\n",
       "      <th>11</th>\n",
       "      <td>landpad</td>\n",
       "      <td>The landpad information.</td>\n",
       "    </tr>\n",
       "    <tr>\n",
       "      <th>12</th>\n",
       "      <td>landpad_name</td>\n",
       "      <td>The name of the landing pad.</td>\n",
       "    </tr>\n",
       "    <tr>\n",
       "      <th>13</th>\n",
       "      <td>landpad_type</td>\n",
       "      <td>The type of the landing pad.</td>\n",
       "    </tr>\n",
       "    <tr>\n",
       "      <th>14</th>\n",
       "      <td>landpad_region</td>\n",
       "      <td>The region of the landing pad.</td>\n",
       "    </tr>\n",
       "    <tr>\n",
       "      <th>15</th>\n",
       "      <td>landpad_geo</td>\n",
       "      <td>The geo location of the landing pad.</td>\n",
       "    </tr>\n",
       "    <tr>\n",
       "      <th>16</th>\n",
       "      <td>outcome</td>\n",
       "      <td>Boolean indicating launch success or failure.</td>\n",
       "    </tr>\n",
       "  </tbody>\n",
       "</table>\n",
       "</div>"
      ],
      "text/plain": [
       "              Column                                             Description\n",
       "0           uct_time                              Launch date in UTC format.\n",
       "1        launch_name   Launch name. Typically the name of the space mission.\n",
       "2           payloads  The list information about the payloads on the launch.\n",
       "3        rocket_name                                 The name of the rocket.\n",
       "4    rocket_boosters                   The number of boosters on the rocket.\n",
       "5      rocket_height            The height information about the rocket (m).\n",
       "6    rocket_diameter          The diameter information about the rocket (m).\n",
       "7        rocket_mass             The mass information about the rocket (kg).\n",
       "8     launchpad_name                              The name of the launchpad.\n",
       "9   launchpad_region                            The region of the launchpad.\n",
       "10     launchpad_geo                      The geo location of the launchpad.\n",
       "11           landpad                                The landpad information.\n",
       "12      landpad_name                            The name of the landing pad.\n",
       "13      landpad_type                            The type of the landing pad.\n",
       "14    landpad_region                          The region of the landing pad.\n",
       "15       landpad_geo                    The geo location of the landing pad.\n",
       "16           outcome           Boolean indicating launch success or failure."
      ]
     },
     "execution_count": 12,
     "metadata": {},
     "output_type": "execute_result"
    }
   ],
   "source": [
    "# YOUR CODE HERE\n",
    "# raise NotImplementedError()\n",
    "# Đọc file metadata.json vào DataFrame\n",
    "with open('./data/metadata.json', 'r') as f:\n",
    "    loadfile = json.load(f)\n",
    "\n",
    "metadata = pd.DataFrame(loadfile['attributions'].items(), columns=['Column', 'Description'])\n",
    "\n",
    "metadata"
   ]
  },
  {
   "cell_type": "code",
   "execution_count": 13,
   "metadata": {},
   "outputs": [
    {
     "data": {
      "text/html": [
       "<div>\n",
       "<style scoped>\n",
       "    .dataframe tbody tr th:only-of-type {\n",
       "        vertical-align: middle;\n",
       "    }\n",
       "\n",
       "    .dataframe tbody tr th {\n",
       "        vertical-align: top;\n",
       "    }\n",
       "\n",
       "    .dataframe thead th {\n",
       "        text-align: right;\n",
       "    }\n",
       "</style>\n",
       "<table border=\"1\" class=\"dataframe\">\n",
       "  <thead>\n",
       "    <tr style=\"text-align: right;\">\n",
       "      <th></th>\n",
       "      <th>Column</th>\n",
       "      <th>Description</th>\n",
       "    </tr>\n",
       "  </thead>\n",
       "  <tbody>\n",
       "    <tr>\n",
       "      <th>0</th>\n",
       "      <td>uct_time</td>\n",
       "      <td>Launch date in UTC format.</td>\n",
       "    </tr>\n",
       "    <tr>\n",
       "      <th>1</th>\n",
       "      <td>launch_name</td>\n",
       "      <td>Launch name. Typically the name of the space mission.</td>\n",
       "    </tr>\n",
       "    <tr>\n",
       "      <th>2</th>\n",
       "      <td>payloads</td>\n",
       "      <td>The list information about the payloads on the launch.</td>\n",
       "    </tr>\n",
       "    <tr>\n",
       "      <th>3</th>\n",
       "      <td>rocket_name</td>\n",
       "      <td>The name of the rocket.</td>\n",
       "    </tr>\n",
       "    <tr>\n",
       "      <th>4</th>\n",
       "      <td>rocket_boosters</td>\n",
       "      <td>The number of boosters on the rocket.</td>\n",
       "    </tr>\n",
       "    <tr>\n",
       "      <th>5</th>\n",
       "      <td>rocket_height</td>\n",
       "      <td>The height information about the rocket (m).</td>\n",
       "    </tr>\n",
       "    <tr>\n",
       "      <th>6</th>\n",
       "      <td>rocket_diameter</td>\n",
       "      <td>The diameter information about the rocket (m).</td>\n",
       "    </tr>\n",
       "    <tr>\n",
       "      <th>7</th>\n",
       "      <td>rocket_mass</td>\n",
       "      <td>The mass information about the rocket (kg).</td>\n",
       "    </tr>\n",
       "    <tr>\n",
       "      <th>8</th>\n",
       "      <td>launchpad_name</td>\n",
       "      <td>The name of the launchpad.</td>\n",
       "    </tr>\n",
       "    <tr>\n",
       "      <th>9</th>\n",
       "      <td>launchpad_region</td>\n",
       "      <td>The region of the launchpad.</td>\n",
       "    </tr>\n",
       "    <tr>\n",
       "      <th>10</th>\n",
       "      <td>launchpad_geo</td>\n",
       "      <td>The geo location of the launchpad.</td>\n",
       "    </tr>\n",
       "    <tr>\n",
       "      <th>11</th>\n",
       "      <td>landpad</td>\n",
       "      <td>The landpad information.</td>\n",
       "    </tr>\n",
       "    <tr>\n",
       "      <th>12</th>\n",
       "      <td>landpad_name</td>\n",
       "      <td>The name of the landing pad.</td>\n",
       "    </tr>\n",
       "    <tr>\n",
       "      <th>13</th>\n",
       "      <td>landpad_type</td>\n",
       "      <td>The type of the landing pad.</td>\n",
       "    </tr>\n",
       "    <tr>\n",
       "      <th>14</th>\n",
       "      <td>landpad_region</td>\n",
       "      <td>The region of the landing pad.</td>\n",
       "    </tr>\n",
       "    <tr>\n",
       "      <th>15</th>\n",
       "      <td>landpad_geo</td>\n",
       "      <td>The geo location of the landing pad.</td>\n",
       "    </tr>\n",
       "    <tr>\n",
       "      <th>16</th>\n",
       "      <td>outcome</td>\n",
       "      <td>Boolean indicating launch success or failure.</td>\n",
       "    </tr>\n",
       "  </tbody>\n",
       "</table>\n",
       "</div>"
      ],
      "text/plain": [
       "              Column                                             Description\n",
       "0           uct_time                              Launch date in UTC format.\n",
       "1        launch_name   Launch name. Typically the name of the space mission.\n",
       "2           payloads  The list information about the payloads on the launch.\n",
       "3        rocket_name                                 The name of the rocket.\n",
       "4    rocket_boosters                   The number of boosters on the rocket.\n",
       "5      rocket_height            The height information about the rocket (m).\n",
       "6    rocket_diameter          The diameter information about the rocket (m).\n",
       "7        rocket_mass             The mass information about the rocket (kg).\n",
       "8     launchpad_name                              The name of the launchpad.\n",
       "9   launchpad_region                            The region of the launchpad.\n",
       "10     launchpad_geo                      The geo location of the launchpad.\n",
       "11           landpad                                The landpad information.\n",
       "12      landpad_name                            The name of the landing pad.\n",
       "13      landpad_type                            The type of the landing pad.\n",
       "14    landpad_region                          The region of the landing pad.\n",
       "15       landpad_geo                    The geo location of the landing pad.\n",
       "16           outcome           Boolean indicating launch success or failure."
      ]
     },
     "execution_count": 13,
     "metadata": {},
     "output_type": "execute_result"
    }
   ],
   "source": [
    "# TEST\n",
    "metadata"
   ]
  },
  {
   "cell_type": "markdown",
   "metadata": {},
   "source": [
    "**TODO: Describe datatype**"
   ]
  },
  {
   "cell_type": "markdown",
   "metadata": {},
   "source": [
    "YOUR ANSWER HERE"
   ]
  },
  {
   "cell_type": "markdown",
   "metadata": {},
   "source": [
    "Before moving forward, you should read the results displayed above and make sure you understand the meaning of the columns. To understand the meaning of the column, you may need to look at the values of the DataFrame side column `raw_df`."
   ]
  },
  {
   "cell_type": "markdown",
   "metadata": {},
   "source": [
    "### What data type does each column currently have? Are there any columns whose data types are not suitable for further processing?"
   ]
  },
  {
   "cell_type": "markdown",
   "metadata": {},
   "source": [
    "Next, you calculate the data type (dtype) of each column in DataFrame `raw_df` and save the result into Series `dtypes` (This Series has the index as the column name)."
   ]
  },
  {
   "cell_type": "code",
   "execution_count": 14,
   "metadata": {},
   "outputs": [
    {
     "data": {
      "text/plain": [
       "uct_time             object\n",
       "launch_name          object\n",
       "payloads             object\n",
       "rocket_name          object\n",
       "rocket_boosters       int64\n",
       "rocket_height       float64\n",
       "rocket_diameter     float64\n",
       "rocket_mass         float64\n",
       "launchpad_name       object\n",
       "launchpad_region     object\n",
       "launchpad_geo        object\n",
       "landpad             float64\n",
       "landpad_name         object\n",
       "landpad_type         object\n",
       "landpad_region       object\n",
       "landpad_geo          object\n",
       "outcome              object\n",
       "dtype: object"
      ]
     },
     "execution_count": 14,
     "metadata": {},
     "output_type": "execute_result"
    }
   ],
   "source": [
    "# YOUR CODE HERE\n",
    "# raise NotImplementedError()\n",
    "dtypes = raw_df.dtypes\n",
    "dtypes"
   ]
  },
  {
   "cell_type": "code",
   "execution_count": 15,
   "metadata": {},
   "outputs": [],
   "source": [
    "# TEST\n",
    "# dtypes = raw_df.dtypes\n",
    "\n",
    "int_cols = set(dtypes[(dtypes==np.int32) | (dtypes==np.int64)].index)\n",
    "assert adler32(str(len(int_cols)).encode()) == 3276850\n",
    "\n",
    "float_cols = set(dtypes[(dtypes==np.float32) | (dtypes==np.float64)].index)\n",
    "assert adler32(str(len(float_cols)).encode()) == 3473461\n",
    "\n",
    "object_cols = set(dtypes[dtypes == object].index)\n",
    "assert adler32(str(len(object_cols)).encode()) == 9830500"
   ]
  },
  {
   "cell_type": "markdown",
   "metadata": {},
   "source": [
    "#### Convert datatype for UCT times attribute"
   ]
  },
  {
   "cell_type": "markdown",
   "metadata": {},
   "source": [
    "The datatype of the column `uct_time` should be datetime. You have to convert it to the right datatype. "
   ]
  },
  {
   "cell_type": "code",
   "execution_count": 16,
   "metadata": {},
   "outputs": [],
   "source": [
    "# YOUR CODE HERE\n",
    "# raise NotImplementedError()\n",
    "\n",
    "# Chuyển cột 'uct_time' sang kiểu datetime\n",
    "raw_df['uct_time'] = pd.to_datetime(raw_df['uct_time'])"
   ]
  },
  {
   "cell_type": "code",
   "execution_count": 17,
   "metadata": {},
   "outputs": [
    {
     "data": {
      "text/plain": [
       "datetime64[ns, UTC]"
      ]
     },
     "execution_count": 17,
     "metadata": {},
     "output_type": "execute_result"
    }
   ],
   "source": [
    "# TEST\n",
    "raw_df[\"uct_time\"].dtype"
   ]
  },
  {
   "cell_type": "markdown",
   "metadata": {},
   "source": [
    "For the remain columns, we will process later. :)"
   ]
  },
  {
   "cell_type": "markdown",
   "metadata": {},
   "source": [
    "### Exploring datetime attributes"
   ]
  },
  {
   "cell_type": "code",
   "execution_count": 18,
   "metadata": {},
   "outputs": [
    {
     "data": {
      "text/html": [
       "<div>\n",
       "<style scoped>\n",
       "    .dataframe tbody tr th:only-of-type {\n",
       "        vertical-align: middle;\n",
       "    }\n",
       "\n",
       "    .dataframe tbody tr th {\n",
       "        vertical-align: top;\n",
       "    }\n",
       "\n",
       "    .dataframe thead th {\n",
       "        text-align: right;\n",
       "    }\n",
       "</style>\n",
       "<table border=\"1\" class=\"dataframe\">\n",
       "  <thead>\n",
       "    <tr style=\"text-align: right;\">\n",
       "      <th></th>\n",
       "      <th>uct_time</th>\n",
       "    </tr>\n",
       "  </thead>\n",
       "  <tbody>\n",
       "    <tr>\n",
       "      <th>0</th>\n",
       "      <td>2006-03-24 22:30:00+00:00</td>\n",
       "    </tr>\n",
       "    <tr>\n",
       "      <th>1</th>\n",
       "      <td>2007-03-21 01:10:00+00:00</td>\n",
       "    </tr>\n",
       "    <tr>\n",
       "      <th>2</th>\n",
       "      <td>2008-08-03 03:34:00+00:00</td>\n",
       "    </tr>\n",
       "    <tr>\n",
       "      <th>3</th>\n",
       "      <td>2008-09-28 23:15:00+00:00</td>\n",
       "    </tr>\n",
       "    <tr>\n",
       "      <th>4</th>\n",
       "      <td>2009-07-13 03:35:00+00:00</td>\n",
       "    </tr>\n",
       "  </tbody>\n",
       "</table>\n",
       "</div>"
      ],
      "text/plain": [
       "                   uct_time\n",
       "0 2006-03-24 22:30:00+00:00\n",
       "1 2007-03-21 01:10:00+00:00\n",
       "2 2008-08-03 03:34:00+00:00\n",
       "3 2008-09-28 23:15:00+00:00\n",
       "4 2009-07-13 03:35:00+00:00"
      ]
     },
     "execution_count": 18,
     "metadata": {},
     "output_type": "execute_result"
    }
   ],
   "source": [
    "datetime_col_df = raw_df.select_dtypes(include=['datetime64','datetime64[ns, UTC]'])\n",
    "datetime_col_df.head()"
   ]
  },
  {
   "cell_type": "code",
   "execution_count": 19,
   "metadata": {},
   "outputs": [
    {
     "data": {
      "image/png": "[encoded data removed]",
      "text/plain": [
       "<Figure size 1200x800 with 1 Axes>"
      ]
     },
     "metadata": {},
     "output_type": "display_data"
    }
   ],
   "source": [
    "# Visualization\n",
    "df_plot = raw_df.copy()\n",
    "df_plot[\"year\"] = raw_df['uct_time'].dt.year\n",
    "df_plot = df_plot.groupby(['outcome', 'year']).size().reset_index().pivot(columns='outcome', index='year', values=0)\n",
    "df_plot.plot(kind='bar', stacked=True)\n",
    "plt.title(\"Outcome over years (2006 - 2022) of spaceX rocket launch.\")\n",
    "plt.show()"
   ]
  },
  {
   "cell_type": "markdown",
   "metadata": {},
   "source": [
    "**TODO: Describe your observation from chart**"
   ]
  },
  {
   "cell_type": "markdown",
   "metadata": {},
   "source": [
    "YOUR ANSWER HERE"
   ]
  },
  {
   "cell_type": "markdown",
   "metadata": {},
   "source": [
    "### Exploring numerical attributes"
   ]
  },
  {
   "cell_type": "code",
   "execution_count": 20,
   "metadata": {},
   "outputs": [
    {
     "data": {
      "text/html": [
       "<div>\n",
       "<style scoped>\n",
       "    .dataframe tbody tr th:only-of-type {\n",
       "        vertical-align: middle;\n",
       "    }\n",
       "\n",
       "    .dataframe tbody tr th {\n",
       "        vertical-align: top;\n",
       "    }\n",
       "\n",
       "    .dataframe thead th {\n",
       "        text-align: right;\n",
       "    }\n",
       "</style>\n",
       "<table border=\"1\" class=\"dataframe\">\n",
       "  <thead>\n",
       "    <tr style=\"text-align: right;\">\n",
       "      <th></th>\n",
       "      <th>rocket_boosters</th>\n",
       "      <th>rocket_height</th>\n",
       "      <th>rocket_diameter</th>\n",
       "      <th>rocket_mass</th>\n",
       "      <th>landpad</th>\n",
       "    </tr>\n",
       "  </thead>\n",
       "  <tbody>\n",
       "    <tr>\n",
       "      <th>0</th>\n",
       "      <td>0</td>\n",
       "      <td>22.25</td>\n",
       "      <td>1.68</td>\n",
       "      <td>30146.0</td>\n",
       "      <td>NaN</td>\n",
       "    </tr>\n",
       "    <tr>\n",
       "      <th>1</th>\n",
       "      <td>0</td>\n",
       "      <td>22.25</td>\n",
       "      <td>1.68</td>\n",
       "      <td>30146.0</td>\n",
       "      <td>NaN</td>\n",
       "    </tr>\n",
       "    <tr>\n",
       "      <th>2</th>\n",
       "      <td>0</td>\n",
       "      <td>22.25</td>\n",
       "      <td>1.68</td>\n",
       "      <td>NaN</td>\n",
       "      <td>NaN</td>\n",
       "    </tr>\n",
       "    <tr>\n",
       "      <th>3</th>\n",
       "      <td>0</td>\n",
       "      <td>22.25</td>\n",
       "      <td>1.68</td>\n",
       "      <td>NaN</td>\n",
       "      <td>NaN</td>\n",
       "    </tr>\n",
       "    <tr>\n",
       "      <th>4</th>\n",
       "      <td>0</td>\n",
       "      <td>22.25</td>\n",
       "      <td>1.68</td>\n",
       "      <td>30146.0</td>\n",
       "      <td>NaN</td>\n",
       "    </tr>\n",
       "  </tbody>\n",
       "</table>\n",
       "</div>"
      ],
      "text/plain": [
       "   rocket_boosters  rocket_height  rocket_diameter  rocket_mass  landpad\n",
       "0                0          22.25             1.68      30146.0      NaN\n",
       "1                0          22.25             1.68      30146.0      NaN\n",
       "2                0          22.25             1.68          NaN      NaN\n",
       "3                0          22.25             1.68          NaN      NaN\n",
       "4                0          22.25             1.68      30146.0      NaN"
      ]
     },
     "execution_count": 20,
     "metadata": {},
     "output_type": "execute_result"
    }
   ],
   "source": [
    "num_col_df = raw_df.select_dtypes(exclude=['object', 'datetime64','datetime64[ns, UTC]'])\n",
    "num_col_df.head()"
   ]
  },
  {
   "cell_type": "markdown",
   "metadata": {},
   "source": [
    "For columns with numeric data types, you will calculate:\n",
    "- Percentage (from 0 to 100) of missing values\n",
    "- Min value\n",
    "- Lower quantile\n",
    "- Median value\n",
    "- Upper quantile\n",
    "- Max value\n",
    "\n",
    "You will save the results to a DataFrame `num_col_info_df`, where:\n",
    "- The names of the columns are the names of the numeric columns in `raw_df`\n",
    "- Names of rows: \"missing_ratio\", \"min\", \"lower_quartile\", \"median\", \"upper_quartile\", \"max\"  \n",
    "\n",
    "For ease of viewing, you round all values to 1 decimal place using the `.round(1)` method."
   ]
  },
  {
   "cell_type": "code",
   "execution_count": 21,
   "metadata": {},
   "outputs": [],
   "source": [
    "def missing_ratio(s):\n",
    "    # TODO:\n",
    "    # YOUR CODE HERE\n",
    "    # raise NotImplementedError()\n",
    "    return (s.isnull().mean() * 100).round(1)\n",
    "\n",
    "def median(df):\n",
    "    # TODO:\n",
    "    # YOUR CODE HERE\n",
    "    # raise NotImplementedError()\n",
    "    return df.quantile(0.5).round(1)\n",
    "\n",
    "def lower_quartile(df):\n",
    "    # TODO:\n",
    "    # YOUR CODE HERE\n",
    "    # raise NotImplementedError()\n",
    "    return df.quantile(0.25).round(1)\n",
    "\n",
    "def upper_quartile(df):\n",
    "    # TODO:\n",
    "    # YOUR CODE HERE\n",
    "    # raise NotImplementedError()\n",
    "    return df.quantile(0.75).round(1)"
   ]
  },
  {
   "cell_type": "code",
   "execution_count": 22,
   "metadata": {},
   "outputs": [
    {
     "data": {
      "text/html": [
       "<div>\n",
       "<style scoped>\n",
       "    .dataframe tbody tr th:only-of-type {\n",
       "        vertical-align: middle;\n",
       "    }\n",
       "\n",
       "    .dataframe tbody tr th {\n",
       "        vertical-align: top;\n",
       "    }\n",
       "\n",
       "    .dataframe thead th {\n",
       "        text-align: right;\n",
       "    }\n",
       "</style>\n",
       "<table border=\"1\" class=\"dataframe\">\n",
       "  <thead>\n",
       "    <tr style=\"text-align: right;\">\n",
       "      <th></th>\n",
       "      <th>rocket_boosters</th>\n",
       "      <th>rocket_height</th>\n",
       "      <th>rocket_diameter</th>\n",
       "      <th>rocket_mass</th>\n",
       "      <th>landpad</th>\n",
       "    </tr>\n",
       "  </thead>\n",
       "  <tbody>\n",
       "    <tr>\n",
       "      <th>missing_ratio</th>\n",
       "      <td>0.0</td>\n",
       "      <td>29.80</td>\n",
       "      <td>29.80</td>\n",
       "      <td>29.8</td>\n",
       "      <td>100.0</td>\n",
       "    </tr>\n",
       "    <tr>\n",
       "      <th>min</th>\n",
       "      <td>0.0</td>\n",
       "      <td>22.25</td>\n",
       "      <td>1.68</td>\n",
       "      <td>30146.0</td>\n",
       "      <td>NaN</td>\n",
       "    </tr>\n",
       "    <tr>\n",
       "      <th>lower_quartile</th>\n",
       "      <td>0.0</td>\n",
       "      <td>70.00</td>\n",
       "      <td>3.70</td>\n",
       "      <td>549054.0</td>\n",
       "      <td>NaN</td>\n",
       "    </tr>\n",
       "    <tr>\n",
       "      <th>median</th>\n",
       "      <td>0.0</td>\n",
       "      <td>70.00</td>\n",
       "      <td>3.70</td>\n",
       "      <td>549054.0</td>\n",
       "      <td>NaN</td>\n",
       "    </tr>\n",
       "    <tr>\n",
       "      <th>upper_quartile</th>\n",
       "      <td>0.0</td>\n",
       "      <td>70.00</td>\n",
       "      <td>3.70</td>\n",
       "      <td>549054.0</td>\n",
       "      <td>NaN</td>\n",
       "    </tr>\n",
       "    <tr>\n",
       "      <th>max</th>\n",
       "      <td>2.0</td>\n",
       "      <td>70.00</td>\n",
       "      <td>12.20</td>\n",
       "      <td>1420788.0</td>\n",
       "      <td>NaN</td>\n",
       "    </tr>\n",
       "  </tbody>\n",
       "</table>\n",
       "</div>"
      ],
      "text/plain": [
       "                rocket_boosters  rocket_height  rocket_diameter  rocket_mass  \\\n",
       "missing_ratio               0.0          29.80            29.80         29.8   \n",
       "min                         0.0          22.25             1.68      30146.0   \n",
       "lower_quartile              0.0          70.00             3.70     549054.0   \n",
       "median                      0.0          70.00             3.70     549054.0   \n",
       "upper_quartile              0.0          70.00             3.70     549054.0   \n",
       "max                         2.0          70.00            12.20    1420788.0   \n",
       "\n",
       "                landpad  \n",
       "missing_ratio     100.0  \n",
       "min                 NaN  \n",
       "lower_quartile      NaN  \n",
       "median              NaN  \n",
       "upper_quartile      NaN  \n",
       "max                 NaN  "
      ]
     },
     "execution_count": 22,
     "metadata": {},
     "output_type": "execute_result"
    }
   ],
   "source": [
    "# TEST\n",
    "num_col_info_df = num_col_df.agg([missing_ratio, \"min\", lower_quartile, median, upper_quartile, \"max\"])\n",
    "num_col_info_df"
   ]
  },
  {
   "cell_type": "markdown",
   "metadata": {},
   "source": [
    "If an attribute has missing ratio greater than 70%, you can consider to drop it from dataframe."
   ]
  },
  {
   "cell_type": "code",
   "execution_count": 23,
   "metadata": {},
   "outputs": [],
   "source": [
    "# YOUR CODE HERE\n",
    "# raise NotImplementedError()\n",
    "\n",
    "missing_ratios = num_col_info_df.loc['missing_ratio']\n",
    "\n",
    "# Lấy ra các cột có tỉ lệ thiếu lớn hơn 70%\n",
    "columns_to_drop = missing_ratios[missing_ratios > 70].index\n",
    "\n",
    "# Loại bỏ các cột từ DataFrame\n",
    "missing_ratios = missing_ratios.drop(index=columns_to_drop)\n",
    "raw_df = raw_df.drop(columns=columns_to_drop)\n",
    "\n",
    "\n",
    "num_col_df = num_col_df.drop(columns=columns_to_drop)"
   ]
  },
  {
   "cell_type": "code",
   "execution_count": 24,
   "metadata": {},
   "outputs": [
    {
     "data": {
      "text/html": [
       "<div>\n",
       "<style scoped>\n",
       "    .dataframe tbody tr th:only-of-type {\n",
       "        vertical-align: middle;\n",
       "    }\n",
       "\n",
       "    .dataframe tbody tr th {\n",
       "        vertical-align: top;\n",
       "    }\n",
       "\n",
       "    .dataframe thead th {\n",
       "        text-align: right;\n",
       "    }\n",
       "</style>\n",
       "<table border=\"1\" class=\"dataframe\">\n",
       "  <thead>\n",
       "    <tr style=\"text-align: right;\">\n",
       "      <th></th>\n",
       "      <th>rocket_boosters</th>\n",
       "      <th>rocket_height</th>\n",
       "      <th>rocket_diameter</th>\n",
       "      <th>rocket_mass</th>\n",
       "    </tr>\n",
       "  </thead>\n",
       "  <tbody>\n",
       "    <tr>\n",
       "      <th>0</th>\n",
       "      <td>0</td>\n",
       "      <td>22.25</td>\n",
       "      <td>1.68</td>\n",
       "      <td>30146.0</td>\n",
       "    </tr>\n",
       "    <tr>\n",
       "      <th>1</th>\n",
       "      <td>0</td>\n",
       "      <td>22.25</td>\n",
       "      <td>1.68</td>\n",
       "      <td>30146.0</td>\n",
       "    </tr>\n",
       "    <tr>\n",
       "      <th>2</th>\n",
       "      <td>0</td>\n",
       "      <td>22.25</td>\n",
       "      <td>1.68</td>\n",
       "      <td>NaN</td>\n",
       "    </tr>\n",
       "    <tr>\n",
       "      <th>3</th>\n",
       "      <td>0</td>\n",
       "      <td>22.25</td>\n",
       "      <td>1.68</td>\n",
       "      <td>NaN</td>\n",
       "    </tr>\n",
       "    <tr>\n",
       "      <th>4</th>\n",
       "      <td>0</td>\n",
       "      <td>22.25</td>\n",
       "      <td>1.68</td>\n",
       "      <td>30146.0</td>\n",
       "    </tr>\n",
       "  </tbody>\n",
       "</table>\n",
       "</div>"
      ],
      "text/plain": [
       "   rocket_boosters  rocket_height  rocket_diameter  rocket_mass\n",
       "0                0          22.25             1.68      30146.0\n",
       "1                0          22.25             1.68      30146.0\n",
       "2                0          22.25             1.68          NaN\n",
       "3                0          22.25             1.68          NaN\n",
       "4                0          22.25             1.68      30146.0"
      ]
     },
     "execution_count": 24,
     "metadata": {},
     "output_type": "execute_result"
    }
   ],
   "source": [
    "# TEST\n",
    "num_col_df.head()"
   ]
  },
  {
   "cell_type": "markdown",
   "metadata": {},
   "source": [
    "In the otherwise case, you have to fill missing values. To deal with missing values, you have to perform mean fill, median fill, and mode fill. Then, you study how different they are by using the visualization of probability density function (p.d.f)."
   ]
  },
  {
   "cell_type": "code",
   "execution_count": 25,
   "metadata": {},
   "outputs": [
    {
     "data": {
      "text/html": [
       "<div>\n",
       "<style scoped>\n",
       "    .dataframe tbody tr th:only-of-type {\n",
       "        vertical-align: middle;\n",
       "    }\n",
       "\n",
       "    .dataframe tbody tr th {\n",
       "        vertical-align: top;\n",
       "    }\n",
       "\n",
       "    .dataframe thead th {\n",
       "        text-align: right;\n",
       "    }\n",
       "</style>\n",
       "<table border=\"1\" class=\"dataframe\">\n",
       "  <thead>\n",
       "    <tr style=\"text-align: right;\">\n",
       "      <th></th>\n",
       "      <th>rocket_boosters</th>\n",
       "      <th>rocket_height</th>\n",
       "      <th>rocket_diameter</th>\n",
       "      <th>rocket_mass</th>\n",
       "      <th>mean_fill_rocket_height</th>\n",
       "      <th>mean_fill_rocket_diameter</th>\n",
       "      <th>mean_fill_rocket_mass</th>\n",
       "    </tr>\n",
       "  </thead>\n",
       "  <tbody>\n",
       "    <tr>\n",
       "      <th>0</th>\n",
       "      <td>0</td>\n",
       "      <td>22.25</td>\n",
       "      <td>1.68</td>\n",
       "      <td>30146.0</td>\n",
       "      <td>22.25</td>\n",
       "      <td>1.68</td>\n",
       "      <td>30146.000000</td>\n",
       "    </tr>\n",
       "    <tr>\n",
       "      <th>1</th>\n",
       "      <td>0</td>\n",
       "      <td>22.25</td>\n",
       "      <td>1.68</td>\n",
       "      <td>30146.0</td>\n",
       "      <td>22.25</td>\n",
       "      <td>1.68</td>\n",
       "      <td>30146.000000</td>\n",
       "    </tr>\n",
       "    <tr>\n",
       "      <th>2</th>\n",
       "      <td>0</td>\n",
       "      <td>22.25</td>\n",
       "      <td>1.68</td>\n",
       "      <td>NaN</td>\n",
       "      <td>22.25</td>\n",
       "      <td>1.68</td>\n",
       "      <td>556404.541667</td>\n",
       "    </tr>\n",
       "    <tr>\n",
       "      <th>3</th>\n",
       "      <td>0</td>\n",
       "      <td>22.25</td>\n",
       "      <td>1.68</td>\n",
       "      <td>NaN</td>\n",
       "      <td>22.25</td>\n",
       "      <td>1.68</td>\n",
       "      <td>556404.541667</td>\n",
       "    </tr>\n",
       "    <tr>\n",
       "      <th>4</th>\n",
       "      <td>0</td>\n",
       "      <td>22.25</td>\n",
       "      <td>1.68</td>\n",
       "      <td>30146.0</td>\n",
       "      <td>22.25</td>\n",
       "      <td>1.68</td>\n",
       "      <td>30146.000000</td>\n",
       "    </tr>\n",
       "  </tbody>\n",
       "</table>\n",
       "</div>"
      ],
      "text/plain": [
       "   rocket_boosters  rocket_height  rocket_diameter  rocket_mass  \\\n",
       "0                0          22.25             1.68      30146.0   \n",
       "1                0          22.25             1.68      30146.0   \n",
       "2                0          22.25             1.68          NaN   \n",
       "3                0          22.25             1.68          NaN   \n",
       "4                0          22.25             1.68      30146.0   \n",
       "\n",
       "   mean_fill_rocket_height  mean_fill_rocket_diameter  mean_fill_rocket_mass  \n",
       "0                    22.25                       1.68           30146.000000  \n",
       "1                    22.25                       1.68           30146.000000  \n",
       "2                    22.25                       1.68          556404.541667  \n",
       "3                    22.25                       1.68          556404.541667  \n",
       "4                    22.25                       1.68           30146.000000  "
      ]
     },
     "execution_count": 25,
     "metadata": {},
     "output_type": "execute_result"
    }
   ],
   "source": [
    "# YOUR CODE HERE\n",
    "## Mean fill\n",
    "# raise NotImplementedError()\n",
    "\n",
    "# Lấy danh sách các cột có tỉ lệ thiếu\n",
    "columns_with_missing_values  = missing_ratios[missing_ratios > 0].index\n",
    "columns_with_missing_values \n",
    "\n",
    "# Thay thế giá trị thiếu và tạo cột mới\n",
    "num_col_df = num_col_df.assign(**{f'mean_fill_{col}': num_col_df[col].fillna(num_col_df[col].mean()) for col in columns_with_missing_values})\n",
    "\n",
    "num_col_df.head()"
   ]
  },
  {
   "cell_type": "code",
   "execution_count": 26,
   "metadata": {},
   "outputs": [
    {
     "data": {
      "text/html": [
       "<div>\n",
       "<style scoped>\n",
       "    .dataframe tbody tr th:only-of-type {\n",
       "        vertical-align: middle;\n",
       "    }\n",
       "\n",
       "    .dataframe tbody tr th {\n",
       "        vertical-align: top;\n",
       "    }\n",
       "\n",
       "    .dataframe thead th {\n",
       "        text-align: right;\n",
       "    }\n",
       "</style>\n",
       "<table border=\"1\" class=\"dataframe\">\n",
       "  <thead>\n",
       "    <tr style=\"text-align: right;\">\n",
       "      <th></th>\n",
       "      <th>rocket_boosters</th>\n",
       "      <th>rocket_height</th>\n",
       "      <th>rocket_diameter</th>\n",
       "      <th>rocket_mass</th>\n",
       "      <th>mean_fill_rocket_height</th>\n",
       "      <th>mean_fill_rocket_diameter</th>\n",
       "      <th>mean_fill_rocket_mass</th>\n",
       "      <th>median_fill_rocket_height</th>\n",
       "      <th>median_fill_rocket_diameter</th>\n",
       "      <th>median_fill_rocket_mass</th>\n",
       "    </tr>\n",
       "  </thead>\n",
       "  <tbody>\n",
       "    <tr>\n",
       "      <th>0</th>\n",
       "      <td>0</td>\n",
       "      <td>22.25</td>\n",
       "      <td>1.68</td>\n",
       "      <td>30146.0</td>\n",
       "      <td>22.25</td>\n",
       "      <td>1.68</td>\n",
       "      <td>30146.000000</td>\n",
       "      <td>22.25</td>\n",
       "      <td>1.68</td>\n",
       "      <td>30146.0</td>\n",
       "    </tr>\n",
       "    <tr>\n",
       "      <th>1</th>\n",
       "      <td>0</td>\n",
       "      <td>22.25</td>\n",
       "      <td>1.68</td>\n",
       "      <td>30146.0</td>\n",
       "      <td>22.25</td>\n",
       "      <td>1.68</td>\n",
       "      <td>30146.000000</td>\n",
       "      <td>22.25</td>\n",
       "      <td>1.68</td>\n",
       "      <td>30146.0</td>\n",
       "    </tr>\n",
       "    <tr>\n",
       "      <th>2</th>\n",
       "      <td>0</td>\n",
       "      <td>22.25</td>\n",
       "      <td>1.68</td>\n",
       "      <td>NaN</td>\n",
       "      <td>22.25</td>\n",
       "      <td>1.68</td>\n",
       "      <td>556404.541667</td>\n",
       "      <td>22.25</td>\n",
       "      <td>1.68</td>\n",
       "      <td>549054.0</td>\n",
       "    </tr>\n",
       "    <tr>\n",
       "      <th>3</th>\n",
       "      <td>0</td>\n",
       "      <td>22.25</td>\n",
       "      <td>1.68</td>\n",
       "      <td>NaN</td>\n",
       "      <td>22.25</td>\n",
       "      <td>1.68</td>\n",
       "      <td>556404.541667</td>\n",
       "      <td>22.25</td>\n",
       "      <td>1.68</td>\n",
       "      <td>549054.0</td>\n",
       "    </tr>\n",
       "    <tr>\n",
       "      <th>4</th>\n",
       "      <td>0</td>\n",
       "      <td>22.25</td>\n",
       "      <td>1.68</td>\n",
       "      <td>30146.0</td>\n",
       "      <td>22.25</td>\n",
       "      <td>1.68</td>\n",
       "      <td>30146.000000</td>\n",
       "      <td>22.25</td>\n",
       "      <td>1.68</td>\n",
       "      <td>30146.0</td>\n",
       "    </tr>\n",
       "  </tbody>\n",
       "</table>\n",
       "</div>"
      ],
      "text/plain": [
       "   rocket_boosters  rocket_height  rocket_diameter  rocket_mass  \\\n",
       "0                0          22.25             1.68      30146.0   \n",
       "1                0          22.25             1.68      30146.0   \n",
       "2                0          22.25             1.68          NaN   \n",
       "3                0          22.25             1.68          NaN   \n",
       "4                0          22.25             1.68      30146.0   \n",
       "\n",
       "   mean_fill_rocket_height  mean_fill_rocket_diameter  mean_fill_rocket_mass  \\\n",
       "0                    22.25                       1.68           30146.000000   \n",
       "1                    22.25                       1.68           30146.000000   \n",
       "2                    22.25                       1.68          556404.541667   \n",
       "3                    22.25                       1.68          556404.541667   \n",
       "4                    22.25                       1.68           30146.000000   \n",
       "\n",
       "   median_fill_rocket_height  median_fill_rocket_diameter  \\\n",
       "0                      22.25                         1.68   \n",
       "1                      22.25                         1.68   \n",
       "2                      22.25                         1.68   \n",
       "3                      22.25                         1.68   \n",
       "4                      22.25                         1.68   \n",
       "\n",
       "   median_fill_rocket_mass  \n",
       "0                  30146.0  \n",
       "1                  30146.0  \n",
       "2                 549054.0  \n",
       "3                 549054.0  \n",
       "4                  30146.0  "
      ]
     },
     "execution_count": 26,
     "metadata": {},
     "output_type": "execute_result"
    }
   ],
   "source": [
    "# YOUR CODE HERE\n",
    "## Median fill\n",
    "# raise NotImplementedError()\n",
    "# Thay thế giá trị thiếu và tạo cột mới\n",
    "num_col_df = num_col_df.assign(**{f'median_fill_{col}': num_col_df[col].fillna(num_col_df[col].median()) for col in columns_with_missing_values})\n",
    "num_col_df.head()"
   ]
  },
  {
   "cell_type": "code",
   "execution_count": 27,
   "metadata": {},
   "outputs": [
    {
     "data": {
      "text/html": [
       "<div>\n",
       "<style scoped>\n",
       "    .dataframe tbody tr th:only-of-type {\n",
       "        vertical-align: middle;\n",
       "    }\n",
       "\n",
       "    .dataframe tbody tr th {\n",
       "        vertical-align: top;\n",
       "    }\n",
       "\n",
       "    .dataframe thead th {\n",
       "        text-align: right;\n",
       "    }\n",
       "</style>\n",
       "<table border=\"1\" class=\"dataframe\">\n",
       "  <thead>\n",
       "    <tr style=\"text-align: right;\">\n",
       "      <th></th>\n",
       "      <th>rocket_boosters</th>\n",
       "      <th>rocket_height</th>\n",
       "      <th>rocket_diameter</th>\n",
       "      <th>rocket_mass</th>\n",
       "      <th>mean_fill_rocket_height</th>\n",
       "      <th>mean_fill_rocket_diameter</th>\n",
       "      <th>mean_fill_rocket_mass</th>\n",
       "      <th>median_fill_rocket_height</th>\n",
       "      <th>median_fill_rocket_diameter</th>\n",
       "      <th>median_fill_rocket_mass</th>\n",
       "      <th>mode_fill_rocket_height</th>\n",
       "      <th>mode_fill_rocket_diameter</th>\n",
       "      <th>mode_fill_rocket_mass</th>\n",
       "    </tr>\n",
       "  </thead>\n",
       "  <tbody>\n",
       "    <tr>\n",
       "      <th>0</th>\n",
       "      <td>0</td>\n",
       "      <td>22.25</td>\n",
       "      <td>1.68</td>\n",
       "      <td>30146.0</td>\n",
       "      <td>22.25</td>\n",
       "      <td>1.68</td>\n",
       "      <td>30146.000000</td>\n",
       "      <td>22.25</td>\n",
       "      <td>1.68</td>\n",
       "      <td>30146.0</td>\n",
       "      <td>22.25</td>\n",
       "      <td>1.68</td>\n",
       "      <td>30146.0</td>\n",
       "    </tr>\n",
       "    <tr>\n",
       "      <th>1</th>\n",
       "      <td>0</td>\n",
       "      <td>22.25</td>\n",
       "      <td>1.68</td>\n",
       "      <td>30146.0</td>\n",
       "      <td>22.25</td>\n",
       "      <td>1.68</td>\n",
       "      <td>30146.000000</td>\n",
       "      <td>22.25</td>\n",
       "      <td>1.68</td>\n",
       "      <td>30146.0</td>\n",
       "      <td>22.25</td>\n",
       "      <td>1.68</td>\n",
       "      <td>30146.0</td>\n",
       "    </tr>\n",
       "    <tr>\n",
       "      <th>2</th>\n",
       "      <td>0</td>\n",
       "      <td>22.25</td>\n",
       "      <td>1.68</td>\n",
       "      <td>NaN</td>\n",
       "      <td>22.25</td>\n",
       "      <td>1.68</td>\n",
       "      <td>556404.541667</td>\n",
       "      <td>22.25</td>\n",
       "      <td>1.68</td>\n",
       "      <td>549054.0</td>\n",
       "      <td>22.25</td>\n",
       "      <td>1.68</td>\n",
       "      <td>549054.0</td>\n",
       "    </tr>\n",
       "    <tr>\n",
       "      <th>3</th>\n",
       "      <td>0</td>\n",
       "      <td>22.25</td>\n",
       "      <td>1.68</td>\n",
       "      <td>NaN</td>\n",
       "      <td>22.25</td>\n",
       "      <td>1.68</td>\n",
       "      <td>556404.541667</td>\n",
       "      <td>22.25</td>\n",
       "      <td>1.68</td>\n",
       "      <td>549054.0</td>\n",
       "      <td>22.25</td>\n",
       "      <td>1.68</td>\n",
       "      <td>549054.0</td>\n",
       "    </tr>\n",
       "    <tr>\n",
       "      <th>4</th>\n",
       "      <td>0</td>\n",
       "      <td>22.25</td>\n",
       "      <td>1.68</td>\n",
       "      <td>30146.0</td>\n",
       "      <td>22.25</td>\n",
       "      <td>1.68</td>\n",
       "      <td>30146.000000</td>\n",
       "      <td>22.25</td>\n",
       "      <td>1.68</td>\n",
       "      <td>30146.0</td>\n",
       "      <td>22.25</td>\n",
       "      <td>1.68</td>\n",
       "      <td>30146.0</td>\n",
       "    </tr>\n",
       "  </tbody>\n",
       "</table>\n",
       "</div>"
      ],
      "text/plain": [
       "   rocket_boosters  rocket_height  rocket_diameter  rocket_mass  \\\n",
       "0                0          22.25             1.68      30146.0   \n",
       "1                0          22.25             1.68      30146.0   \n",
       "2                0          22.25             1.68          NaN   \n",
       "3                0          22.25             1.68          NaN   \n",
       "4                0          22.25             1.68      30146.0   \n",
       "\n",
       "   mean_fill_rocket_height  mean_fill_rocket_diameter  mean_fill_rocket_mass  \\\n",
       "0                    22.25                       1.68           30146.000000   \n",
       "1                    22.25                       1.68           30146.000000   \n",
       "2                    22.25                       1.68          556404.541667   \n",
       "3                    22.25                       1.68          556404.541667   \n",
       "4                    22.25                       1.68           30146.000000   \n",
       "\n",
       "   median_fill_rocket_height  median_fill_rocket_diameter  \\\n",
       "0                      22.25                         1.68   \n",
       "1                      22.25                         1.68   \n",
       "2                      22.25                         1.68   \n",
       "3                      22.25                         1.68   \n",
       "4                      22.25                         1.68   \n",
       "\n",
       "   median_fill_rocket_mass  mode_fill_rocket_height  \\\n",
       "0                  30146.0                    22.25   \n",
       "1                  30146.0                    22.25   \n",
       "2                 549054.0                    22.25   \n",
       "3                 549054.0                    22.25   \n",
       "4                  30146.0                    22.25   \n",
       "\n",
       "   mode_fill_rocket_diameter  mode_fill_rocket_mass  \n",
       "0                       1.68                30146.0  \n",
       "1                       1.68                30146.0  \n",
       "2                       1.68               549054.0  \n",
       "3                       1.68               549054.0  \n",
       "4                       1.68                30146.0  "
      ]
     },
     "execution_count": 27,
     "metadata": {},
     "output_type": "execute_result"
    }
   ],
   "source": [
    "# YOUR CODE HERE\n",
    "## Mode fill\n",
    "# raise NotImplementedError()\n",
    "# Thay thế giá trị thiếu và tạo cột mới\n",
    "num_col_df = num_col_df.assign(**{f'mode_fill_{col}': num_col_df[col].fillna(num_col_df[col].mode()[0]) for col in columns_with_missing_values})\n",
    "num_col_df.head()"
   ]
  },
  {
   "cell_type": "code",
   "execution_count": 28,
   "metadata": {},
   "outputs": [
    {
     "data": {
      "image/png": "[encoded data removed]",
      "text/plain": [
       "<Figure size 1200x800 with 1 Axes>"
      ]
     },
     "metadata": {},
     "output_type": "display_data"
    }
   ],
   "source": [
    "# Visualization for rocket_height\n",
    "fig = plt.figure()\n",
    "ax = fig.add_subplot(111)\n",
    "\n",
    "num_col_df[\"rocket_height\"] .plot(kind=\"kde\", ax=ax, color=\"blue\")\n",
    "num_col_df[\"mean_fill_rocket_height\"] .plot(kind=\"kde\", ax=ax, color=\"red\")\n",
    "num_col_df[\"median_fill_rocket_height\"] .plot(kind=\"kde\", ax=ax, color=\"green\")\n",
    "num_col_df[\"mode_fill_rocket_height\"] .plot(kind=\"kde\", ax=ax, color=\"yellow\")\n",
    "\n",
    "lines, labels = ax.get_legend_handles_labels()\n",
    "ax.legend(lines, labels, loc='best')\n",
    "plt.title(\"Comparing mean, median, and mode missing values filling for rocket height.\")\n",
    "plt.show()"
   ]
  },
  {
   "cell_type": "markdown",
   "metadata": {},
   "source": [
    "**TODO: Describe your observation from chart**"
   ]
  },
  {
   "cell_type": "markdown",
   "metadata": {},
   "source": [
    "YOUR ANSWER HERE"
   ]
  },
  {
   "cell_type": "markdown",
   "metadata": {},
   "source": [
    "**Before choosing one of them to fill in your `raw_df`**, do you realize an abnomal in `rocket_height` attribute?\n",
    "\n",
    "**TODO:** Read metadata again, check `rocket_name`, find the way to fill missing value for `rocket_height`."
   ]
  },
  {
   "cell_type": "code",
   "execution_count": 29,
   "metadata": {},
   "outputs": [
    {
     "data": {
      "text/plain": [
       "{'Falcon 1': {'min_height': 22.25, 'max_height': 22.25},\n",
       " 'Falcon 9': {'min_height': 70.0, 'max_height': 70.0},\n",
       " 'Falcon Heavy': {'min_height': 70.0, 'max_height': 70.0}}"
      ]
     },
     "execution_count": 29,
     "metadata": {},
     "output_type": "execute_result"
    }
   ],
   "source": [
    "# YOUR CODE HERE\n",
    "## Recheck: find unique elements in `rocket_name`\n",
    "raw_df[\"rocket_name\"].unique()\n",
    "\n",
    "# Find unique elements in the \"rocket_name\" column\n",
    "unique_rocket_names = raw_df[\"rocket_name\"].unique()\n",
    "\n",
    "# Initialize an empty dictionary to store the results\n",
    "rocket_height_range_dict = {}\n",
    "\n",
    "## Check the maximum and minimum height values for each rocket\n",
    "def checking_range(rocket_name: str) -> tuple[float, float]:\n",
    "    \"\"\"Checking range of height for a given rocket name\n",
    "\n",
    "    Args:\n",
    "        rocket_name (str): the name of rocket\n",
    "\n",
    "    Returns:\n",
    "        tuple[float, float]: the range, min-max.\n",
    "    \"\"\"\n",
    "    # raise NotImplementedError()\n",
    "    rocket_data = raw_df[raw_df[\"rocket_name\"] == rocket_name]\n",
    "    min_height = rocket_data[\"rocket_height\"].min()\n",
    "    max_height = rocket_data[\"rocket_height\"].max()\n",
    "    return min_height, max_height\n",
    "\n",
    "for rocket_name in unique_rocket_names:\n",
    "    min_height, max_height = checking_range(rocket_name)\n",
    "    # Save results to the dictionary\n",
    "    rocket_height_range_dict[rocket_name] = {\"min_height\": min_height, \"max_height\": max_height}\n",
    "rocket_height_range_dict"
   ]
  },
  {
   "cell_type": "code",
   "execution_count": 30,
   "metadata": {},
   "outputs": [],
   "source": [
    "# Perform checking for Falcon 1\n",
    "assert adler32(str(checking_range(rocket_name=\"Falcon 1\")[0] + checking_range(rocket_name=\"Falcon 1\")[1]).encode()) == 33620172"
   ]
  },
  {
   "cell_type": "code",
   "execution_count": 31,
   "metadata": {},
   "outputs": [],
   "source": [
    "# Perform checking for Falcon 9\n",
    "assert adler32(str(checking_range(rocket_name=\"Falcon 9\")[0] + checking_range(rocket_name=\"Falcon 9\")[1]).encode()) == 48627956"
   ]
  },
  {
   "cell_type": "code",
   "execution_count": 32,
   "metadata": {},
   "outputs": [],
   "source": [
    "# Perform checking for Falcon Heavy\n",
    "assert adler32(str(checking_range(rocket_name=\"Falcon Heavy\")[0] * checking_range(rocket_name=\"Falcon Heavy\")[1]).encode()) == 70713644"
   ]
  },
  {
   "cell_type": "markdown",
   "metadata": {},
   "source": [
    "And now, you should fill missing values with a specific value. "
   ]
  },
  {
   "cell_type": "code",
   "execution_count": 33,
   "metadata": {},
   "outputs": [],
   "source": [
    "# TODO:\n",
    "# YOUR CODE HERE\n",
    "def fill_rocketheight(df: pd.DataFrame) -> pd.DataFrame:\n",
    "    cp_df = df.copy()\n",
    "    \n",
    "    # Tính giá trị trung bình của cột B theo giá trị cột A\n",
    "    mean_values = cp_df.groupby('rocket_name')['rocket_height'].mean()\n",
    "\n",
    "    # Điền giá trị bị thiếu ở cột B dựa trên giá trị trung bình của cột B tương ứng với giá trị cột A\n",
    "    cp_df['rocket_height'] = cp_df.apply(lambda row: mean_values[row['rocket_name']] if pd.isna(row['rocket_height']) else row['rocket_height'], axis=1)\n",
    "    \n",
    "    \n",
    "    # raise NotImplementedError()\n",
    "    return cp_df\n",
    "\n",
    "raw_df = fill_rocketheight(raw_df)\n"
   ]
  },
  {
   "cell_type": "markdown",
   "metadata": {},
   "source": [
    "Choose one of ways (mean fill, median fill) to fill missing values for the remain columns (`rocket_diameter`, and `rocket_mass`)"
   ]
  },
  {
   "cell_type": "code",
   "execution_count": 34,
   "metadata": {},
   "outputs": [],
   "source": [
    "# YOUR CODE HERE\n",
    "# raise NotImplementedError()\n",
    "\n",
    "columns_to_fill = ['rocket_diameter', 'rocket_mass']\n",
    "\n",
    "# Fill missing values with mean for selected columns\n",
    "raw_df[columns_to_fill] = raw_df[columns_to_fill].fillna(raw_df[columns_to_fill].mean())\n",
    "\n"
   ]
  },
  {
   "cell_type": "code",
   "execution_count": 35,
   "metadata": {},
   "outputs": [
    {
     "data": {
      "text/html": [
       "<div>\n",
       "<style scoped>\n",
       "    .dataframe tbody tr th:only-of-type {\n",
       "        vertical-align: middle;\n",
       "    }\n",
       "\n",
       "    .dataframe tbody tr th {\n",
       "        vertical-align: top;\n",
       "    }\n",
       "\n",
       "    .dataframe thead th {\n",
       "        text-align: right;\n",
       "    }\n",
       "</style>\n",
       "<table border=\"1\" class=\"dataframe\">\n",
       "  <thead>\n",
       "    <tr style=\"text-align: right;\">\n",
       "      <th></th>\n",
       "      <th>rocket_boosters</th>\n",
       "      <th>rocket_height</th>\n",
       "      <th>rocket_diameter</th>\n",
       "      <th>rocket_mass</th>\n",
       "    </tr>\n",
       "  </thead>\n",
       "  <tbody>\n",
       "    <tr>\n",
       "      <th>missing_ratio</th>\n",
       "      <td>0.0</td>\n",
       "      <td>0.00</td>\n",
       "      <td>0.00</td>\n",
       "      <td>0.0</td>\n",
       "    </tr>\n",
       "    <tr>\n",
       "      <th>min</th>\n",
       "      <td>0.0</td>\n",
       "      <td>22.25</td>\n",
       "      <td>1.68</td>\n",
       "      <td>30146.0</td>\n",
       "    </tr>\n",
       "    <tr>\n",
       "      <th>lower_quartile</th>\n",
       "      <td>0.0</td>\n",
       "      <td>70.00</td>\n",
       "      <td>3.70</td>\n",
       "      <td>549054.0</td>\n",
       "    </tr>\n",
       "    <tr>\n",
       "      <th>median</th>\n",
       "      <td>0.0</td>\n",
       "      <td>70.00</td>\n",
       "      <td>3.70</td>\n",
       "      <td>549054.0</td>\n",
       "    </tr>\n",
       "    <tr>\n",
       "      <th>upper_quartile</th>\n",
       "      <td>0.0</td>\n",
       "      <td>70.00</td>\n",
       "      <td>3.80</td>\n",
       "      <td>556404.5</td>\n",
       "    </tr>\n",
       "    <tr>\n",
       "      <th>max</th>\n",
       "      <td>2.0</td>\n",
       "      <td>70.00</td>\n",
       "      <td>12.20</td>\n",
       "      <td>1420788.0</td>\n",
       "    </tr>\n",
       "  </tbody>\n",
       "</table>\n",
       "</div>"
      ],
      "text/plain": [
       "                rocket_boosters  rocket_height  rocket_diameter  rocket_mass\n",
       "missing_ratio               0.0           0.00             0.00          0.0\n",
       "min                         0.0          22.25             1.68      30146.0\n",
       "lower_quartile              0.0          70.00             3.70     549054.0\n",
       "median                      0.0          70.00             3.70     549054.0\n",
       "upper_quartile              0.0          70.00             3.80     556404.5\n",
       "max                         2.0          70.00            12.20    1420788.0"
      ]
     },
     "execution_count": 35,
     "metadata": {},
     "output_type": "execute_result"
    }
   ],
   "source": [
    "# TEST\n",
    "num_col_df = raw_df.select_dtypes(exclude=['object', 'datetime64','datetime64[ns, UTC]'])\n",
    "num_col_df.agg([missing_ratio, \"min\", lower_quartile, median, upper_quartile, \"max\"])"
   ]
  },
  {
   "cell_type": "code",
   "execution_count": 36,
   "metadata": {},
   "outputs": [],
   "source": [
    "# TEST\n",
    "num_col_info_df = num_col_df.agg([missing_ratio, \"min\", lower_quartile, median, upper_quartile, \"max\"])\n",
    "assert num_col_info_df.shape == (6, 4)\n",
    "\n",
    "data = num_col_info_df.loc[['missing_ratio', 'min', 'lower_quartile', 'median', 'upper_quartile', 'max'],\n",
    "                           ['rocket_boosters', 'rocket_height', 'rocket_diameter', 'rocket_mass']].values\n",
    "\n",
    "assert adler32(str(data).encode()) == 1580417893"
   ]
  },
  {
   "cell_type": "markdown",
   "metadata": {},
   "source": [
    "**TODO** What type of each numerical attribute? Continous?  variable?"
   ]
  },
  {
   "cell_type": "markdown",
   "metadata": {},
   "source": [
    "YOUR ANSWER HERE"
   ]
  },
  {
   "cell_type": "markdown",
   "metadata": {},
   "source": [
    "### Exploring non-numerical attributes"
   ]
  },
  {
   "cell_type": "code",
   "execution_count": 37,
   "metadata": {},
   "outputs": [
    {
     "data": {
      "text/html": [
       "<div>\n",
       "<style scoped>\n",
       "    .dataframe tbody tr th:only-of-type {\n",
       "        vertical-align: middle;\n",
       "    }\n",
       "\n",
       "    .dataframe tbody tr th {\n",
       "        vertical-align: top;\n",
       "    }\n",
       "\n",
       "    .dataframe thead th {\n",
       "        text-align: right;\n",
       "    }\n",
       "</style>\n",
       "<table border=\"1\" class=\"dataframe\">\n",
       "  <thead>\n",
       "    <tr style=\"text-align: right;\">\n",
       "      <th></th>\n",
       "      <th>launch_name</th>\n",
       "      <th>payloads</th>\n",
       "      <th>rocket_name</th>\n",
       "      <th>launchpad_name</th>\n",
       "      <th>launchpad_region</th>\n",
       "      <th>launchpad_geo</th>\n",
       "      <th>landpad_name</th>\n",
       "      <th>landpad_type</th>\n",
       "      <th>landpad_region</th>\n",
       "      <th>landpad_geo</th>\n",
       "      <th>outcome</th>\n",
       "    </tr>\n",
       "  </thead>\n",
       "  <tbody>\n",
       "    <tr>\n",
       "      <th>0</th>\n",
       "      <td>FalconSat</td>\n",
       "      <td>[{'type': 'Satellite', 'mass': 20, 'orbit': 'LEO'}]</td>\n",
       "      <td>Falcon 1</td>\n",
       "      <td>Kwajalein Atoll</td>\n",
       "      <td>Marshall Islands</td>\n",
       "      <td>(9.0477206, 167.7431292)</td>\n",
       "      <td>NaN</td>\n",
       "      <td>NaN</td>\n",
       "      <td>NaN</td>\n",
       "      <td>(nan, nan)</td>\n",
       "      <td>Failure</td>\n",
       "    </tr>\n",
       "    <tr>\n",
       "      <th>1</th>\n",
       "      <td>DemoSat</td>\n",
       "      <td>[{'type': 'Satellite', 'mass': None, 'orbit': 'LEO'}]</td>\n",
       "      <td>Falcon 1</td>\n",
       "      <td>Kwajalein Atoll</td>\n",
       "      <td>Marshall Islands</td>\n",
       "      <td>(9.0477206, 167.7431292)</td>\n",
       "      <td>NaN</td>\n",
       "      <td>NaN</td>\n",
       "      <td>NaN</td>\n",
       "      <td>(nan, nan)</td>\n",
       "      <td>Failure</td>\n",
       "    </tr>\n",
       "    <tr>\n",
       "      <th>2</th>\n",
       "      <td>Trailblazer</td>\n",
       "      <td>[{'type': 'Satellite', 'mass': None, 'orbit': 'LEO'}, {'type': 'Satellite', 'mass': None, 'orbit...</td>\n",
       "      <td>Falcon 1</td>\n",
       "      <td>Kwajalein Atoll</td>\n",
       "      <td>Marshall Islands</td>\n",
       "      <td>(9.0477206, 167.7431292)</td>\n",
       "      <td>NaN</td>\n",
       "      <td>NaN</td>\n",
       "      <td>NaN</td>\n",
       "      <td>(nan, nan)</td>\n",
       "      <td>Failure</td>\n",
       "    </tr>\n",
       "    <tr>\n",
       "      <th>3</th>\n",
       "      <td>RatSat</td>\n",
       "      <td>[{'type': 'Satellite', 'mass': 165, 'orbit': 'LEO'}]</td>\n",
       "      <td>Falcon 1</td>\n",
       "      <td>Kwajalein Atoll</td>\n",
       "      <td>Marshall Islands</td>\n",
       "      <td>(9.0477206, 167.7431292)</td>\n",
       "      <td>NaN</td>\n",
       "      <td>NaN</td>\n",
       "      <td>NaN</td>\n",
       "      <td>(nan, nan)</td>\n",
       "      <td>Success</td>\n",
       "    </tr>\n",
       "    <tr>\n",
       "      <th>4</th>\n",
       "      <td>RazakSat</td>\n",
       "      <td>[{'type': 'Satellite', 'mass': 200, 'orbit': 'LEO'}]</td>\n",
       "      <td>Falcon 1</td>\n",
       "      <td>Kwajalein Atoll</td>\n",
       "      <td>Marshall Islands</td>\n",
       "      <td>(9.0477206, 167.7431292)</td>\n",
       "      <td>NaN</td>\n",
       "      <td>NaN</td>\n",
       "      <td>NaN</td>\n",
       "      <td>(nan, nan)</td>\n",
       "      <td>Success</td>\n",
       "    </tr>\n",
       "  </tbody>\n",
       "</table>\n",
       "</div>"
      ],
      "text/plain": [
       "   launch_name  \\\n",
       "0    FalconSat   \n",
       "1      DemoSat   \n",
       "2  Trailblazer   \n",
       "3       RatSat   \n",
       "4     RazakSat   \n",
       "\n",
       "                                                                                              payloads  \\\n",
       "0                                                  [{'type': 'Satellite', 'mass': 20, 'orbit': 'LEO'}]   \n",
       "1                                                [{'type': 'Satellite', 'mass': None, 'orbit': 'LEO'}]   \n",
       "2  [{'type': 'Satellite', 'mass': None, 'orbit': 'LEO'}, {'type': 'Satellite', 'mass': None, 'orbit...   \n",
       "3                                                 [{'type': 'Satellite', 'mass': 165, 'orbit': 'LEO'}]   \n",
       "4                                                 [{'type': 'Satellite', 'mass': 200, 'orbit': 'LEO'}]   \n",
       "\n",
       "  rocket_name   launchpad_name  launchpad_region             launchpad_geo  \\\n",
       "0    Falcon 1  Kwajalein Atoll  Marshall Islands  (9.0477206, 167.7431292)   \n",
       "1    Falcon 1  Kwajalein Atoll  Marshall Islands  (9.0477206, 167.7431292)   \n",
       "2    Falcon 1  Kwajalein Atoll  Marshall Islands  (9.0477206, 167.7431292)   \n",
       "3    Falcon 1  Kwajalein Atoll  Marshall Islands  (9.0477206, 167.7431292)   \n",
       "4    Falcon 1  Kwajalein Atoll  Marshall Islands  (9.0477206, 167.7431292)   \n",
       "\n",
       "  landpad_name landpad_type landpad_region landpad_geo  outcome  \n",
       "0          NaN          NaN            NaN  (nan, nan)  Failure  \n",
       "1          NaN          NaN            NaN  (nan, nan)  Failure  \n",
       "2          NaN          NaN            NaN  (nan, nan)  Failure  \n",
       "3          NaN          NaN            NaN  (nan, nan)  Success  \n",
       "4          NaN          NaN            NaN  (nan, nan)  Success  "
      ]
     },
     "execution_count": 37,
     "metadata": {},
     "output_type": "execute_result"
    }
   ],
   "source": [
    "cate_col_df = raw_df.select_dtypes(include=['object'])\n",
    "cate_col_df.head()"
   ]
  },
  {
   "cell_type": "code",
   "execution_count": 38,
   "metadata": {},
   "outputs": [
    {
     "data": {
      "text/plain": [
       "[{'type': 'Satellite', 'mass': 20, 'orbit': 'LEO'},\n",
       " {'type': 'Satellite', 'mass': None, 'orbit': 'LEO'}]"
      ]
     },
     "execution_count": 38,
     "metadata": {},
     "output_type": "execute_result"
    }
   ],
   "source": [
    "def str2dict(s: str) -> List[Dict]:\n",
    "    \"\"\"Convert given string to dict\n",
    "    \n",
    "    Example:\n",
    "        - Input string: [{'type': 'Satellite', 'mass': None, 'orbit': 'LEO'}, {'type': 'Satellite', 'mass': None, 'orbit': 'LEO'}]\n",
    "        - Output: ({'type': 'Satellite', 'mass': None, 'orbit': 'LEO'}, {'type': 'Satellite', 'mass': None, 'orbit': 'LEO'})\n",
    "\n",
    "\n",
    "    Args:\n",
    "        s (str): _description_\n",
    "        \n",
    "    Return:\n",
    "        list(dict):\n",
    "    \"\"\"\n",
    "    # TODO:\n",
    "    # YOUR CODE HERE\n",
    "    # raise NotImplementedError()\n",
    "    try:\n",
    "        # Chuyển đổi chuỗi thành danh sách các từ điển\n",
    "        dict_list = eval(s)\n",
    "        # Kiểm tra xem dict_list có phải là danh sách không\n",
    "        if isinstance(dict_list, list):\n",
    "            return dict_list\n",
    "        else:\n",
    "            # Nếu không phải danh sách, trả về danh sách rỗng\n",
    "            return []\n",
    "    except json.JSONDecodeError:\n",
    "        # Xử lý ngoại lệ khi chuỗi không hợp lệ\n",
    "        print(\"Invalid input string. Please provide a valid string representing a list of dictionaries.\")\n",
    "        return []\n",
    "\n",
    "input_string = \"[{'type': 'Satellite', 'mass': 20, 'orbit': 'LEO'}, {'type': 'Satellite', 'mass': None, 'orbit': 'LEO'}]\"\n",
    "output_list_of_dicts = str2dict(input_string)\n",
    "output_list_of_dicts"
   ]
  },
  {
   "cell_type": "markdown",
   "metadata": {},
   "source": [
    "Series and DataFrame methods define a .explode() method that explodes lists into separate rows. You should use this method to explode the `payloads` attribute and convert this column to `str`"
   ]
  },
  {
   "cell_type": "code",
   "execution_count": 39,
   "metadata": {},
   "outputs": [],
   "source": [
    "# TODO:\n",
    "# YOUR CODE HERE\n",
    "# raise NotImplementedError()\n",
    "def add_brackets(cell):\n",
    "    if pd.isna(cell):\n",
    "        return '[]'\n",
    "    else:\n",
    "        return f\"[{cell}]\"\n",
    "    \n",
    "# Convert 'payloads' column to string and then apply str2dict\n",
    "cate_col_df['payloads'] = cate_col_df['payloads'].apply(str2dict)\n",
    "cate_col_df = cate_col_df.explode('payloads')\n",
    "cate_col_df['payloads'] = cate_col_df['payloads'].apply(add_brackets)\n",
    "\n",
    "raw_df['payloads'] = raw_df['payloads'].apply(str2dict)\n",
    "raw_df = raw_df.explode('payloads')\n",
    "raw_df['payloads'] = raw_df['payloads'].apply(add_brackets)\n"
   ]
  },
  {
   "cell_type": "markdown",
   "metadata": {},
   "source": [
    "For columns with non-numeric data types, you calculate:\n",
    "- Percentage (from 0 to 100) of missing values\n",
    "- Number of values (the values here are different values and we do not consider missing values): with columns whose type is categorical, it is a set with a finite number of categories. Directly counting the number of values in these columns doesn't make much sense, so it's better to count the number of elements of all types.\n",
    "- The percentage (from 0 to 100) of each value is sorted by decreasing percentage (we do not consider missing values, the ratio is the ratio compared to the number of non-missing values): you use a dictionary to store , key is the value, value is the percentage; With the column corresponding to each type, the method is similar to above.\n",
    "\n",
    "You will save the results to DataFrame `cat_col_info_df`, where:\n",
    "- The names of the columns are the names of the non-numeric columns in `raw_df`\n",
    "- The names of the lines are: \"missing_ratio\", \"num_values\", \"value_ratios\"\n",
    "\n",
    "For ease of viewing, you round all values to 1 decimal place using the `.round(1)` method."
   ]
  },
  {
   "cell_type": "code",
   "execution_count": 40,
   "metadata": {},
   "outputs": [
    {
     "data": {
      "text/html": [
       "<div>\n",
       "<style scoped>\n",
       "    .dataframe tbody tr th:only-of-type {\n",
       "        vertical-align: middle;\n",
       "    }\n",
       "\n",
       "    .dataframe tbody tr th {\n",
       "        vertical-align: top;\n",
       "    }\n",
       "\n",
       "    .dataframe thead th {\n",
       "        text-align: right;\n",
       "    }\n",
       "</style>\n",
       "<table border=\"1\" class=\"dataframe\">\n",
       "  <thead>\n",
       "    <tr style=\"text-align: right;\">\n",
       "      <th></th>\n",
       "      <th>launch_name</th>\n",
       "      <th>payloads</th>\n",
       "      <th>rocket_name</th>\n",
       "      <th>launchpad_name</th>\n",
       "      <th>launchpad_region</th>\n",
       "      <th>launchpad_geo</th>\n",
       "      <th>landpad_name</th>\n",
       "      <th>landpad_type</th>\n",
       "      <th>landpad_region</th>\n",
       "      <th>landpad_geo</th>\n",
       "      <th>outcome</th>\n",
       "    </tr>\n",
       "  </thead>\n",
       "  <tbody>\n",
       "    <tr>\n",
       "      <th>missing_ratio</th>\n",
       "      <td>0.0</td>\n",
       "      <td>0.0</td>\n",
       "      <td>0.0</td>\n",
       "      <td>0.0</td>\n",
       "      <td>0.0</td>\n",
       "      <td>0.0</td>\n",
       "      <td>27.3</td>\n",
       "      <td>23.9</td>\n",
       "      <td>47.4</td>\n",
       "      <td>0.0</td>\n",
       "      <td>0.0</td>\n",
       "    </tr>\n",
       "    <tr>\n",
       "      <th>num_values</th>\n",
       "      <td>205</td>\n",
       "      <td>147</td>\n",
       "      <td>3</td>\n",
       "      <td>4</td>\n",
       "      <td>3</td>\n",
       "      <td>4</td>\n",
       "      <td>6</td>\n",
       "      <td>3</td>\n",
       "      <td>2</td>\n",
       "      <td>5</td>\n",
       "      <td>2</td>\n",
       "    </tr>\n",
       "    <tr>\n",
       "      <th>value_ratios</th>\n",
       "      <td>{'Trailblazer': 1.0, 'Starlink 4-20 (v1.5) &amp; Sherpa LTC-2/Varuna-TDM': 1.0, 'COTS 1': 1.0, 'CRS-...</td>\n",
       "      <td>{'[{'type': 'Satellite', 'mass': 15600, 'orbit': 'VLEO'}]': 11.5, '[{'type': 'Satellite', 'mass'...</td>\n",
       "      <td>{'Falcon 9': 94.7, 'Falcon 1': 2.9, 'Falcon Heavy': 2.4}</td>\n",
       "      <td>{'CCSFS SLC 40': 55.0, 'KSC LC 39A': 27.8, 'VAFB SLC 4E': 14.4, 'Kwajalein Atoll': 2.9}</td>\n",
       "      <td>{'Florida': 82.8, 'California': 14.4, 'Marshall Islands': 2.9}</td>\n",
       "      <td>{'(28.5618571, -80.577366)': 55.0, '(28.6080585, -80.6039558)': 27.8, '(34.632093, -120.610829)'...</td>\n",
       "      <td>{'OCISLY': 42.1, 'JRTI': 27.0, 'ASOG': 13.8, 'LZ-1': 11.8, 'LZ-4': 3.9, 'JRTI-1': 1.3}</td>\n",
       "      <td>{'ASDS': 80.5, 'RTLS': 15.1, 'Ocean': 4.4}</td>\n",
       "      <td>{'Florida': 53.6, 'California': 46.4}</td>\n",
       "      <td>{'(33.7291858, -118.262015)': 40.7, '(nan, nan)': 27.3, '(28.4104, -80.6188)': 20.6, '(28.485833...</td>\n",
       "      <td>{'Success': 97.1, 'Failure': 2.9}</td>\n",
       "    </tr>\n",
       "  </tbody>\n",
       "</table>\n",
       "</div>"
      ],
      "text/plain": [
       "                                                                                                       launch_name  \\\n",
       "missing_ratio                                                                                                  0.0   \n",
       "num_values                                                                                                     205   \n",
       "value_ratios   {'Trailblazer': 1.0, 'Starlink 4-20 (v1.5) & Sherpa LTC-2/Varuna-TDM': 1.0, 'COTS 1': 1.0, 'CRS-...   \n",
       "\n",
       "                                                                                                          payloads  \\\n",
       "missing_ratio                                                                                                  0.0   \n",
       "num_values                                                                                                     147   \n",
       "value_ratios   {'[{'type': 'Satellite', 'mass': 15600, 'orbit': 'VLEO'}]': 11.5, '[{'type': 'Satellite', 'mass'...   \n",
       "\n",
       "                                                            rocket_name  \\\n",
       "missing_ratio                                                       0.0   \n",
       "num_values                                                            3   \n",
       "value_ratios   {'Falcon 9': 94.7, 'Falcon 1': 2.9, 'Falcon Heavy': 2.4}   \n",
       "\n",
       "                                                                                        launchpad_name  \\\n",
       "missing_ratio                                                                                      0.0   \n",
       "num_values                                                                                           4   \n",
       "value_ratios   {'CCSFS SLC 40': 55.0, 'KSC LC 39A': 27.8, 'VAFB SLC 4E': 14.4, 'Kwajalein Atoll': 2.9}   \n",
       "\n",
       "                                                             launchpad_region  \\\n",
       "missing_ratio                                                             0.0   \n",
       "num_values                                                                  3   \n",
       "value_ratios   {'Florida': 82.8, 'California': 14.4, 'Marshall Islands': 2.9}   \n",
       "\n",
       "                                                                                                     launchpad_geo  \\\n",
       "missing_ratio                                                                                                  0.0   \n",
       "num_values                                                                                                       4   \n",
       "value_ratios   {'(28.5618571, -80.577366)': 55.0, '(28.6080585, -80.6039558)': 27.8, '(34.632093, -120.610829)'...   \n",
       "\n",
       "                                                                                         landpad_name  \\\n",
       "missing_ratio                                                                                    27.3   \n",
       "num_values                                                                                          6   \n",
       "value_ratios   {'OCISLY': 42.1, 'JRTI': 27.0, 'ASOG': 13.8, 'LZ-1': 11.8, 'LZ-4': 3.9, 'JRTI-1': 1.3}   \n",
       "\n",
       "                                             landpad_type  \\\n",
       "missing_ratio                                        23.9   \n",
       "num_values                                              3   \n",
       "value_ratios   {'ASDS': 80.5, 'RTLS': 15.1, 'Ocean': 4.4}   \n",
       "\n",
       "                                      landpad_region  \\\n",
       "missing_ratio                                   47.4   \n",
       "num_values                                         2   \n",
       "value_ratios   {'Florida': 53.6, 'California': 46.4}   \n",
       "\n",
       "                                                                                                       landpad_geo  \\\n",
       "missing_ratio                                                                                                  0.0   \n",
       "num_values                                                                                                       5   \n",
       "value_ratios   {'(33.7291858, -118.262015)': 40.7, '(nan, nan)': 27.3, '(28.4104, -80.6188)': 20.6, '(28.485833...   \n",
       "\n",
       "                                         outcome  \n",
       "missing_ratio                                0.0  \n",
       "num_values                                     2  \n",
       "value_ratios   {'Success': 97.1, 'Failure': 2.9}  "
      ]
     },
     "execution_count": 40,
     "metadata": {},
     "output_type": "execute_result"
    }
   ],
   "source": [
    "def missing_ratio(s):\n",
    "    # TODO:\n",
    "    # YOUR CODE HERE\n",
    "    # raise NotImplementedError()\n",
    "    return (s.isnull().mean() * 100).round(1)\n",
    "   \n",
    "def num_values(s):\n",
    "    # TODO:\n",
    "    # YOUR CODE HERE\n",
    "    # raise NotImplementedError()\n",
    "    return s.nunique()\n",
    "\n",
    "def value_ratios(s):\n",
    "    # TODO:\n",
    "    # YOUR CODE HERE\n",
    "    # raise NotImplementedError()\n",
    "    value_counts = s.value_counts()\n",
    "    ratios = (value_counts / value_counts.sum() * 100).round(1)\n",
    "    return ratios.to_dict()\n",
    "\n",
    "\n",
    "cat_col_info_df = cate_col_df.agg([missing_ratio, num_values, value_ratios])\n",
    "cat_col_info_df"
   ]
  },
  {
   "cell_type": "code",
   "execution_count": 41,
   "metadata": {},
   "outputs": [],
   "source": [
    "# TEST\n",
    "c = cat_col_info_df['landpad_name']\n",
    "assert adler32(str(c.loc['missing_ratio']).encode()) == 33554635\n",
    "assert adler32(str(c.loc['num_values']).encode()) == 3604535\n",
    "\n",
    "c = cat_col_info_df['landpad_type']\n",
    "assert adler32(str(c.loc['missing_ratio']).encode()) == 33161421\n",
    "assert adler32(str(c.loc['num_values']).encode()) == 3407924\n",
    "\n",
    "c = cat_col_info_df['landpad_region']\n",
    "assert adler32(str(c.loc['missing_ratio']).encode()) == 34144462\n",
    "assert adler32(str(c.loc['num_values']).encode()) == 3342387"
   ]
  },
  {
   "cell_type": "markdown",
   "metadata": {},
   "source": [
    "And now, we will fill in the missing value for these non-attributes. You make a list of attributes that need to be filled in here.\n",
    "- `landpad_name`\n",
    "- `landpad_type`\n",
    "- `landpad_region`\n",
    "\n",
    "Considering the missing ratio, should we delete these attribute columns?"
   ]
  },
  {
   "cell_type": "markdown",
   "metadata": {},
   "source": [
    "\n",
    "YOUR ANSWER HERE"
   ]
  },
  {
   "cell_type": "markdown",
   "metadata": {},
   "source": [
    "Next, you have to check `landpad_name`, `landpad_type`, and `landpad_region`. If these values are ALL NAN, you should these row from your `cate_col_df`."
   ]
  },
  {
   "cell_type": "code",
   "execution_count": 42,
   "metadata": {},
   "outputs": [
    {
     "data": {
      "text/html": [
       "<div>\n",
       "<style scoped>\n",
       "    .dataframe tbody tr th:only-of-type {\n",
       "        vertical-align: middle;\n",
       "    }\n",
       "\n",
       "    .dataframe tbody tr th {\n",
       "        vertical-align: top;\n",
       "    }\n",
       "\n",
       "    .dataframe thead th {\n",
       "        text-align: right;\n",
       "    }\n",
       "</style>\n",
       "<table border=\"1\" class=\"dataframe\">\n",
       "  <thead>\n",
       "    <tr style=\"text-align: right;\">\n",
       "      <th></th>\n",
       "      <th>launch_name</th>\n",
       "      <th>payloads</th>\n",
       "      <th>rocket_name</th>\n",
       "      <th>launchpad_name</th>\n",
       "      <th>launchpad_region</th>\n",
       "      <th>launchpad_geo</th>\n",
       "      <th>landpad_name</th>\n",
       "      <th>landpad_type</th>\n",
       "      <th>landpad_region</th>\n",
       "      <th>landpad_geo</th>\n",
       "      <th>outcome</th>\n",
       "    </tr>\n",
       "  </thead>\n",
       "  <tbody>\n",
       "    <tr>\n",
       "      <th>0</th>\n",
       "      <td>CRS-5</td>\n",
       "      <td>[{'type': 'Dragon 1.1', 'mass': 2395, 'orbit': 'ISS'}]</td>\n",
       "      <td>Falcon 9</td>\n",
       "      <td>CCSFS SLC 40</td>\n",
       "      <td>Florida</td>\n",
       "      <td>(28.5618571, -80.577366)</td>\n",
       "      <td>JRTI-1</td>\n",
       "      <td>ASDS</td>\n",
       "      <td>Florida</td>\n",
       "      <td>(28.4104, -80.6188)</td>\n",
       "      <td>Success</td>\n",
       "    </tr>\n",
       "    <tr>\n",
       "      <th>1</th>\n",
       "      <td>CRS-6</td>\n",
       "      <td>[{'type': 'Dragon 1.1', 'mass': 1898, 'orbit': 'ISS'}]</td>\n",
       "      <td>Falcon 9</td>\n",
       "      <td>CCSFS SLC 40</td>\n",
       "      <td>Florida</td>\n",
       "      <td>(28.5618571, -80.577366)</td>\n",
       "      <td>JRTI-1</td>\n",
       "      <td>ASDS</td>\n",
       "      <td>Florida</td>\n",
       "      <td>(28.4104, -80.6188)</td>\n",
       "      <td>Success</td>\n",
       "    </tr>\n",
       "    <tr>\n",
       "      <th>2</th>\n",
       "      <td>CRS-7</td>\n",
       "      <td>[{'type': 'Dragon 1.1', 'mass': 1952, 'orbit': 'ISS'}]</td>\n",
       "      <td>Falcon 9</td>\n",
       "      <td>CCSFS SLC 40</td>\n",
       "      <td>Florida</td>\n",
       "      <td>(28.5618571, -80.577366)</td>\n",
       "      <td>OCISLY</td>\n",
       "      <td>ASDS</td>\n",
       "      <td>California</td>\n",
       "      <td>(33.7291858, -118.262015)</td>\n",
       "      <td>Failure</td>\n",
       "    </tr>\n",
       "    <tr>\n",
       "      <th>3</th>\n",
       "      <td>OG-2 Mission 2</td>\n",
       "      <td>[{'type': 'Satellite', 'mass': 2034, 'orbit': 'LEO'}]</td>\n",
       "      <td>Falcon 9</td>\n",
       "      <td>CCSFS SLC 40</td>\n",
       "      <td>Florida</td>\n",
       "      <td>(28.5618571, -80.577366)</td>\n",
       "      <td>LZ-1</td>\n",
       "      <td>RTLS</td>\n",
       "      <td>Florida</td>\n",
       "      <td>(28.485833, -80.544444)</td>\n",
       "      <td>Success</td>\n",
       "    </tr>\n",
       "    <tr>\n",
       "      <th>4</th>\n",
       "      <td>Jason 3</td>\n",
       "      <td>[{'type': 'Satellite', 'mass': 553, 'orbit': 'PO'}]</td>\n",
       "      <td>Falcon 9</td>\n",
       "      <td>VAFB SLC 4E</td>\n",
       "      <td>California</td>\n",
       "      <td>(34.632093, -120.610829)</td>\n",
       "      <td>JRTI</td>\n",
       "      <td>ASDS</td>\n",
       "      <td>Florida</td>\n",
       "      <td>(28.4104, -80.6188)</td>\n",
       "      <td>Success</td>\n",
       "    </tr>\n",
       "  </tbody>\n",
       "</table>\n",
       "</div>"
      ],
      "text/plain": [
       "      launch_name                                                payloads  \\\n",
       "0           CRS-5  [{'type': 'Dragon 1.1', 'mass': 2395, 'orbit': 'ISS'}]   \n",
       "1           CRS-6  [{'type': 'Dragon 1.1', 'mass': 1898, 'orbit': 'ISS'}]   \n",
       "2           CRS-7  [{'type': 'Dragon 1.1', 'mass': 1952, 'orbit': 'ISS'}]   \n",
       "3  OG-2 Mission 2   [{'type': 'Satellite', 'mass': 2034, 'orbit': 'LEO'}]   \n",
       "4         Jason 3     [{'type': 'Satellite', 'mass': 553, 'orbit': 'PO'}]   \n",
       "\n",
       "  rocket_name launchpad_name launchpad_region             launchpad_geo  \\\n",
       "0    Falcon 9   CCSFS SLC 40          Florida  (28.5618571, -80.577366)   \n",
       "1    Falcon 9   CCSFS SLC 40          Florida  (28.5618571, -80.577366)   \n",
       "2    Falcon 9   CCSFS SLC 40          Florida  (28.5618571, -80.577366)   \n",
       "3    Falcon 9   CCSFS SLC 40          Florida  (28.5618571, -80.577366)   \n",
       "4    Falcon 9    VAFB SLC 4E       California  (34.632093, -120.610829)   \n",
       "\n",
       "  landpad_name landpad_type landpad_region                landpad_geo  outcome  \n",
       "0       JRTI-1         ASDS        Florida        (28.4104, -80.6188)  Success  \n",
       "1       JRTI-1         ASDS        Florida        (28.4104, -80.6188)  Success  \n",
       "2       OCISLY         ASDS     California  (33.7291858, -118.262015)  Failure  \n",
       "3         LZ-1         RTLS        Florida    (28.485833, -80.544444)  Success  \n",
       "4         JRTI         ASDS        Florida        (28.4104, -80.6188)  Success  "
      ]
     },
     "execution_count": 42,
     "metadata": {},
     "output_type": "execute_result"
    }
   ],
   "source": [
    "# TODO:\n",
    "# YOUR CODE HERE\n",
    "# raise NotImplementedError()\n",
    "# Columns to check\n",
    "columns_to_check = ['landpad_name', 'landpad_type', 'landpad_region']\n",
    "\n",
    "# Check if NaN appears in 2 or more specified columns and drop those rows\n",
    "cate_col_df = cate_col_df.dropna(subset=columns_to_check, thresh=len(columns_to_check)-1)\n",
    "cate_col_df.reset_index(drop=True, inplace=True)\n",
    "\n",
    "raw_df = raw_df.dropna(subset=columns_to_check, thresh=len(columns_to_check)-1)\n",
    "raw_df.reset_index(drop=True, inplace=True)\n",
    "\n",
    "# Display the resulting DataFrame\n",
    "cate_col_df.head()\n",
    "\n"
   ]
  },
  {
   "cell_type": "code",
   "execution_count": 43,
   "metadata": {},
   "outputs": [
    {
     "data": {
      "text/html": [
       "<div>\n",
       "<style scoped>\n",
       "    .dataframe tbody tr th:only-of-type {\n",
       "        vertical-align: middle;\n",
       "    }\n",
       "\n",
       "    .dataframe tbody tr th {\n",
       "        vertical-align: top;\n",
       "    }\n",
       "\n",
       "    .dataframe thead th {\n",
       "        text-align: right;\n",
       "    }\n",
       "</style>\n",
       "<table border=\"1\" class=\"dataframe\">\n",
       "  <thead>\n",
       "    <tr style=\"text-align: right;\">\n",
       "      <th></th>\n",
       "      <th>launch_name</th>\n",
       "      <th>payloads</th>\n",
       "      <th>rocket_name</th>\n",
       "      <th>launchpad_name</th>\n",
       "      <th>launchpad_region</th>\n",
       "      <th>launchpad_geo</th>\n",
       "      <th>landpad_name</th>\n",
       "      <th>landpad_type</th>\n",
       "      <th>landpad_region</th>\n",
       "      <th>landpad_geo</th>\n",
       "      <th>outcome</th>\n",
       "    </tr>\n",
       "  </thead>\n",
       "  <tbody>\n",
       "  </tbody>\n",
       "</table>\n",
       "</div>"
      ],
      "text/plain": [
       "Empty DataFrame\n",
       "Columns: [launch_name, payloads, rocket_name, launchpad_name, launchpad_region, launchpad_geo, landpad_name, landpad_type, landpad_region, landpad_geo, outcome]\n",
       "Index: []"
      ]
     },
     "execution_count": 43,
     "metadata": {},
     "output_type": "execute_result"
    }
   ],
   "source": [
    "# TEST\n",
    "cate_col_df[cate_col_df[\"landpad_name\"].isnull() & cate_col_df[\"landpad_type\"].isnull() & cate_col_df[\"landpad_region\"].isnull()]"
   ]
  },
  {
   "cell_type": "code",
   "execution_count": 44,
   "metadata": {},
   "outputs": [
    {
     "data": {
      "text/html": [
       "<div>\n",
       "<style scoped>\n",
       "    .dataframe tbody tr th:only-of-type {\n",
       "        vertical-align: middle;\n",
       "    }\n",
       "\n",
       "    .dataframe tbody tr th {\n",
       "        vertical-align: top;\n",
       "    }\n",
       "\n",
       "    .dataframe thead th {\n",
       "        text-align: right;\n",
       "    }\n",
       "</style>\n",
       "<table border=\"1\" class=\"dataframe\">\n",
       "  <thead>\n",
       "    <tr style=\"text-align: right;\">\n",
       "      <th></th>\n",
       "      <th>launch_name</th>\n",
       "      <th>payloads</th>\n",
       "      <th>rocket_name</th>\n",
       "      <th>launchpad_name</th>\n",
       "      <th>launchpad_region</th>\n",
       "      <th>launchpad_geo</th>\n",
       "      <th>landpad_name</th>\n",
       "      <th>landpad_type</th>\n",
       "      <th>landpad_region</th>\n",
       "      <th>landpad_geo</th>\n",
       "      <th>outcome</th>\n",
       "    </tr>\n",
       "  </thead>\n",
       "  <tbody>\n",
       "    <tr>\n",
       "      <th>missing_ratio</th>\n",
       "      <td>0.0</td>\n",
       "      <td>0.0</td>\n",
       "      <td>0.0</td>\n",
       "      <td>0.0</td>\n",
       "      <td>0.0</td>\n",
       "      <td>0.0</td>\n",
       "      <td>0.0</td>\n",
       "      <td>0.0</td>\n",
       "      <td>27.6</td>\n",
       "      <td>0.0</td>\n",
       "      <td>0.0</td>\n",
       "    </tr>\n",
       "    <tr>\n",
       "      <th>num_values</th>\n",
       "      <td>151</td>\n",
       "      <td>104</td>\n",
       "      <td>2</td>\n",
       "      <td>3</td>\n",
       "      <td>2</td>\n",
       "      <td>3</td>\n",
       "      <td>6</td>\n",
       "      <td>2</td>\n",
       "      <td>2</td>\n",
       "      <td>4</td>\n",
       "      <td>2</td>\n",
       "    </tr>\n",
       "    <tr>\n",
       "      <th>value_ratios</th>\n",
       "      <td>{'Starlink 4-20 (v1.5) &amp; Sherpa LTC-2/Varuna-TDM': 1.3, 'CRS-5': 0.7, 'Starlink 4-4 (v1.5)': 0.7...</td>\n",
       "      <td>{'[{'type': 'Satellite', 'mass': 15600, 'orbit': 'VLEO'}]': 15.8, '[{'type': 'Satellite', 'mass'...</td>\n",
       "      <td>{'Falcon 9': 98.0, 'Falcon Heavy': 2.0}</td>\n",
       "      <td>{'CCSFS SLC 40': 51.3, 'KSC LC 39A': 33.6, 'VAFB SLC 4E': 15.1}</td>\n",
       "      <td>{'Florida': 84.9, 'California': 15.1}</td>\n",
       "      <td>{'(28.5618571, -80.577366)': 51.3, '(28.6080585, -80.6039558)': 33.6, '(34.632093, -120.610829)'...</td>\n",
       "      <td>{'OCISLY': 42.1, 'JRTI': 27.0, 'ASOG': 13.8, 'LZ-1': 11.8, 'LZ-4': 3.9, 'JRTI-1': 1.3}</td>\n",
       "      <td>{'ASDS': 84.2, 'RTLS': 15.8}</td>\n",
       "      <td>{'Florida': 53.6, 'California': 46.4}</td>\n",
       "      <td>{'(33.7291858, -118.262015)': 55.9, '(28.4104, -80.6188)': 28.3, '(28.485833, -80.544444)': 11.8...</td>\n",
       "      <td>{'Success': 98.7, 'Failure': 1.3}</td>\n",
       "    </tr>\n",
       "  </tbody>\n",
       "</table>\n",
       "</div>"
      ],
      "text/plain": [
       "                                                                                                       launch_name  \\\n",
       "missing_ratio                                                                                                  0.0   \n",
       "num_values                                                                                                     151   \n",
       "value_ratios   {'Starlink 4-20 (v1.5) & Sherpa LTC-2/Varuna-TDM': 1.3, 'CRS-5': 0.7, 'Starlink 4-4 (v1.5)': 0.7...   \n",
       "\n",
       "                                                                                                          payloads  \\\n",
       "missing_ratio                                                                                                  0.0   \n",
       "num_values                                                                                                     104   \n",
       "value_ratios   {'[{'type': 'Satellite', 'mass': 15600, 'orbit': 'VLEO'}]': 15.8, '[{'type': 'Satellite', 'mass'...   \n",
       "\n",
       "                                           rocket_name  \\\n",
       "missing_ratio                                      0.0   \n",
       "num_values                                           2   \n",
       "value_ratios   {'Falcon 9': 98.0, 'Falcon Heavy': 2.0}   \n",
       "\n",
       "                                                                launchpad_name  \\\n",
       "missing_ratio                                                              0.0   \n",
       "num_values                                                                   3   \n",
       "value_ratios   {'CCSFS SLC 40': 51.3, 'KSC LC 39A': 33.6, 'VAFB SLC 4E': 15.1}   \n",
       "\n",
       "                                    launchpad_region  \\\n",
       "missing_ratio                                    0.0   \n",
       "num_values                                         2   \n",
       "value_ratios   {'Florida': 84.9, 'California': 15.1}   \n",
       "\n",
       "                                                                                                     launchpad_geo  \\\n",
       "missing_ratio                                                                                                  0.0   \n",
       "num_values                                                                                                       3   \n",
       "value_ratios   {'(28.5618571, -80.577366)': 51.3, '(28.6080585, -80.6039558)': 33.6, '(34.632093, -120.610829)'...   \n",
       "\n",
       "                                                                                         landpad_name  \\\n",
       "missing_ratio                                                                                     0.0   \n",
       "num_values                                                                                          6   \n",
       "value_ratios   {'OCISLY': 42.1, 'JRTI': 27.0, 'ASOG': 13.8, 'LZ-1': 11.8, 'LZ-4': 3.9, 'JRTI-1': 1.3}   \n",
       "\n",
       "                               landpad_type  \\\n",
       "missing_ratio                           0.0   \n",
       "num_values                                2   \n",
       "value_ratios   {'ASDS': 84.2, 'RTLS': 15.8}   \n",
       "\n",
       "                                      landpad_region  \\\n",
       "missing_ratio                                   27.6   \n",
       "num_values                                         2   \n",
       "value_ratios   {'Florida': 53.6, 'California': 46.4}   \n",
       "\n",
       "                                                                                                       landpad_geo  \\\n",
       "missing_ratio                                                                                                  0.0   \n",
       "num_values                                                                                                       4   \n",
       "value_ratios   {'(33.7291858, -118.262015)': 55.9, '(28.4104, -80.6188)': 28.3, '(28.485833, -80.544444)': 11.8...   \n",
       "\n",
       "                                         outcome  \n",
       "missing_ratio                                0.0  \n",
       "num_values                                     2  \n",
       "value_ratios   {'Success': 98.7, 'Failure': 1.3}  "
      ]
     },
     "execution_count": 44,
     "metadata": {},
     "output_type": "execute_result"
    }
   ],
   "source": [
    "# TEST\n",
    "cat_col_info_df = cate_col_df.agg([missing_ratio, num_values, value_ratios])\n",
    "cat_col_info_df"
   ]
  },
  {
   "cell_type": "markdown",
   "metadata": {},
   "source": [
    "**Question** Considering the Falcon 1 rockets, what are the names, types, and regions of their landpad? Comparing their names of launch pad and launch region. Similarly, you check for Falcon 9 and Falcon Heavy rockets, give your observation, and fill in the missing value with some specific values.\n",
    "\n",
    "*Hint*: It can be said that the region of the landing pad and launch pad are the same."
   ]
  },
  {
   "cell_type": "markdown",
   "metadata": {},
   "source": [
    "By Googling, you can find something interesting about the region of each landpad. Please fill the table below:\n",
    "\n",
    "TODO: Complete the table below.\n",
    "\n",
    "| Landpad  | Type  |  Region |\n",
    "|---|---|---|\n",
    "| OCISLY  | ASDS  | California  |\n",
    "| JRTI  | ASDS  | Florida  |\n",
    "| ASOG  | ASDS  |  Port Canaveral, Florida  |\n",
    "| LZ-1  | RTLS | Florida |\n",
    "| LZ-4  | RTLS  | California  |\n",
    "| JRTI-1  | ASDS  | Florida  |"
   ]
  },
  {
   "cell_type": "markdown",
   "metadata": {},
   "source": [
    "**Observation 1**: \n",
    "- Falcon 9 rockets which have launchpad in Florida and have landpad in Florida that have no missing values. \n",
    "- Falcon 9 rockets which have launchpad in Florida and have landpad in California that have no missing values. Their land name and type are OCISLY and ASDS, respectively."
   ]
  },
  {
   "cell_type": "markdown",
   "metadata": {},
   "source": [
    "TODO: What are the further rules you can find?"
   ]
  },
  {
   "cell_type": "markdown",
   "metadata": {},
   "source": [
    "YOUR ANSWER HERE"
   ]
  },
  {
   "cell_type": "markdown",
   "metadata": {},
   "source": [
    "**Observation 2**\n",
    "- Falcon 9 rockets which have landpad name is `OCISLY`, and landpad type is `ASDS` => landpad region `California`\n",
    "- Falcon 9 rockets which have landpad name is `JRTI`, and landpad type is `ASDS` => landpad region `Florida`\n",
    "- Falcon 9 rockets which have landpad name is `ASOG`, and landpad type is `ASDS` => landpad region `Florida`"
   ]
  },
  {
   "cell_type": "markdown",
   "metadata": {},
   "source": [
    "TODO: What are the further rules you can find?"
   ]
  },
  {
   "cell_type": "markdown",
   "metadata": {},
   "source": [
    "YOUR ANSWER HERE\n",
    "\n",
    "- LZ-1 & RTLS\t=> Florida\n",
    "- LZ-4 & RTLS\t=> California"
   ]
  },
  {
   "cell_type": "code",
   "execution_count": 45,
   "metadata": {},
   "outputs": [],
   "source": [
    "def fill_landpadregion(df: pd.DataFrame) -> pd.DataFrame:\n",
    "    \"\"\"Fill missing value in landpad region in the input dataframe.\n",
    "\n",
    "    Args:\n",
    "        df (pd.DataFrame): input dataframe\n",
    "\n",
    "    Returns:\n",
    "        pd.DataFrame: output dataframe\n",
    "    \"\"\"\n",
    "    # Create a copy of the dataframe to avoid changing the original\n",
    "    df_cp = df.copy()\n",
    "\n",
    "    # Observation 1: Fill missing values for specific conditions\n",
    "    condition_1 = (df_cp['rocket_name'] == 'Falcon 9') & (df_cp['landpad_name'] == 'OCISLY') & (df_cp['landpad_type'] == 'ASDS') & (df_cp['landpad_region'].isnull())\n",
    "    df_cp.loc[condition_1, 'landpad_region'] = 'California'\n",
    "\n",
    "    condition_2 = (df_cp['rocket_name'] == 'Falcon 9') & (df_cp['landpad_name'] == 'JRTI') & (df_cp['landpad_type'] == 'ASDS') & (df_cp['landpad_region'].isnull())\n",
    "    df_cp.loc[condition_2, 'landpad_region'] = 'Florida'\n",
    "\n",
    "    condition_3 = (df_cp['rocket_name'] == 'Falcon 9') & (df_cp['landpad_name'] == 'ASOG') & (df_cp['landpad_type'] == 'ASDS') & (df_cp['landpad_region'].isnull())\n",
    "    df_cp.loc[condition_3, 'landpad_region'] = 'Florida'\n",
    "\n",
    "    condition_4 = (df_cp['landpad_name'] == 'LZ-1') & (df_cp['landpad_type'] == 'RTLS') & (df_cp['landpad_region'].isnull())\n",
    "    df_cp.loc[condition_4, 'landpad_region'] = 'Florida'\n",
    "\n",
    "    condition_5 = (df_cp['landpad_name'] == 'LZ-4') & (df_cp['landpad_type'] == 'RTLS') & (df_cp['landpad_region'].isnull())\n",
    "    df_cp.loc[condition_5, 'landpad_region'] = 'California'\n",
    "\n",
    "    condition_6 = (df_cp['rocket_name'] == 'Falcon Heavy') & (df_cp['landpad_name'] == 'OCISLY') & (df_cp['landpad_type'] == 'ASDS') & (df_cp['landpad_region'].isnull())\n",
    "    df_cp.loc[condition_6, 'landpad_region'] = 'California'\n",
    "\n",
    "\n",
    "\n",
    "    return df_cp\n",
    "\n",
    "# Apply the function to your DataFrame\n",
    "cate_col_df = fill_landpadregion(cate_col_df)\n",
    "\n"
   ]
  },
  {
   "cell_type": "code",
   "execution_count": 46,
   "metadata": {},
   "outputs": [
    {
     "data": {
      "text/html": [
       "<div>\n",
       "<style scoped>\n",
       "    .dataframe tbody tr th:only-of-type {\n",
       "        vertical-align: middle;\n",
       "    }\n",
       "\n",
       "    .dataframe tbody tr th {\n",
       "        vertical-align: top;\n",
       "    }\n",
       "\n",
       "    .dataframe thead th {\n",
       "        text-align: right;\n",
       "    }\n",
       "</style>\n",
       "<table border=\"1\" class=\"dataframe\">\n",
       "  <thead>\n",
       "    <tr style=\"text-align: right;\">\n",
       "      <th></th>\n",
       "      <th>launch_name</th>\n",
       "      <th>payloads</th>\n",
       "      <th>rocket_name</th>\n",
       "      <th>launchpad_name</th>\n",
       "      <th>launchpad_region</th>\n",
       "      <th>launchpad_geo</th>\n",
       "      <th>landpad_name</th>\n",
       "      <th>landpad_type</th>\n",
       "      <th>landpad_region</th>\n",
       "      <th>landpad_geo</th>\n",
       "      <th>outcome</th>\n",
       "    </tr>\n",
       "  </thead>\n",
       "  <tbody>\n",
       "    <tr>\n",
       "      <th>missing_ratio</th>\n",
       "      <td>0.0</td>\n",
       "      <td>0.0</td>\n",
       "      <td>0.0</td>\n",
       "      <td>0.0</td>\n",
       "      <td>0.0</td>\n",
       "      <td>0.0</td>\n",
       "      <td>0.0</td>\n",
       "      <td>0.0</td>\n",
       "      <td>0.0</td>\n",
       "      <td>0.0</td>\n",
       "      <td>0.0</td>\n",
       "    </tr>\n",
       "    <tr>\n",
       "      <th>num_values</th>\n",
       "      <td>151</td>\n",
       "      <td>104</td>\n",
       "      <td>2</td>\n",
       "      <td>3</td>\n",
       "      <td>2</td>\n",
       "      <td>3</td>\n",
       "      <td>6</td>\n",
       "      <td>2</td>\n",
       "      <td>2</td>\n",
       "      <td>4</td>\n",
       "      <td>2</td>\n",
       "    </tr>\n",
       "    <tr>\n",
       "      <th>value_ratios</th>\n",
       "      <td>{'Starlink 4-20 (v1.5) &amp; Sherpa LTC-2/Varuna-TDM': 1.3, 'CRS-5': 0.7, 'Starlink 4-4 (v1.5)': 0.7...</td>\n",
       "      <td>{'[{'type': 'Satellite', 'mass': 15600, 'orbit': 'VLEO'}]': 15.8, '[{'type': 'Satellite', 'mass'...</td>\n",
       "      <td>{'Falcon 9': 98.0, 'Falcon Heavy': 2.0}</td>\n",
       "      <td>{'CCSFS SLC 40': 51.3, 'KSC LC 39A': 33.6, 'VAFB SLC 4E': 15.1}</td>\n",
       "      <td>{'Florida': 84.9, 'California': 15.1}</td>\n",
       "      <td>{'(28.5618571, -80.577366)': 51.3, '(28.6080585, -80.6039558)': 33.6, '(34.632093, -120.610829)'...</td>\n",
       "      <td>{'OCISLY': 42.1, 'JRTI': 27.0, 'ASOG': 13.8, 'LZ-1': 11.8, 'LZ-4': 3.9, 'JRTI-1': 1.3}</td>\n",
       "      <td>{'ASDS': 84.2, 'RTLS': 15.8}</td>\n",
       "      <td>{'Florida': 53.9, 'California': 46.1}</td>\n",
       "      <td>{'(33.7291858, -118.262015)': 55.9, '(28.4104, -80.6188)': 28.3, '(28.485833, -80.544444)': 11.8...</td>\n",
       "      <td>{'Success': 98.7, 'Failure': 1.3}</td>\n",
       "    </tr>\n",
       "  </tbody>\n",
       "</table>\n",
       "</div>"
      ],
      "text/plain": [
       "                                                                                                       launch_name  \\\n",
       "missing_ratio                                                                                                  0.0   \n",
       "num_values                                                                                                     151   \n",
       "value_ratios   {'Starlink 4-20 (v1.5) & Sherpa LTC-2/Varuna-TDM': 1.3, 'CRS-5': 0.7, 'Starlink 4-4 (v1.5)': 0.7...   \n",
       "\n",
       "                                                                                                          payloads  \\\n",
       "missing_ratio                                                                                                  0.0   \n",
       "num_values                                                                                                     104   \n",
       "value_ratios   {'[{'type': 'Satellite', 'mass': 15600, 'orbit': 'VLEO'}]': 15.8, '[{'type': 'Satellite', 'mass'...   \n",
       "\n",
       "                                           rocket_name  \\\n",
       "missing_ratio                                      0.0   \n",
       "num_values                                           2   \n",
       "value_ratios   {'Falcon 9': 98.0, 'Falcon Heavy': 2.0}   \n",
       "\n",
       "                                                                launchpad_name  \\\n",
       "missing_ratio                                                              0.0   \n",
       "num_values                                                                   3   \n",
       "value_ratios   {'CCSFS SLC 40': 51.3, 'KSC LC 39A': 33.6, 'VAFB SLC 4E': 15.1}   \n",
       "\n",
       "                                    launchpad_region  \\\n",
       "missing_ratio                                    0.0   \n",
       "num_values                                         2   \n",
       "value_ratios   {'Florida': 84.9, 'California': 15.1}   \n",
       "\n",
       "                                                                                                     launchpad_geo  \\\n",
       "missing_ratio                                                                                                  0.0   \n",
       "num_values                                                                                                       3   \n",
       "value_ratios   {'(28.5618571, -80.577366)': 51.3, '(28.6080585, -80.6039558)': 33.6, '(34.632093, -120.610829)'...   \n",
       "\n",
       "                                                                                         landpad_name  \\\n",
       "missing_ratio                                                                                     0.0   \n",
       "num_values                                                                                          6   \n",
       "value_ratios   {'OCISLY': 42.1, 'JRTI': 27.0, 'ASOG': 13.8, 'LZ-1': 11.8, 'LZ-4': 3.9, 'JRTI-1': 1.3}   \n",
       "\n",
       "                               landpad_type  \\\n",
       "missing_ratio                           0.0   \n",
       "num_values                                2   \n",
       "value_ratios   {'ASDS': 84.2, 'RTLS': 15.8}   \n",
       "\n",
       "                                      landpad_region  \\\n",
       "missing_ratio                                    0.0   \n",
       "num_values                                         2   \n",
       "value_ratios   {'Florida': 53.9, 'California': 46.1}   \n",
       "\n",
       "                                                                                                       landpad_geo  \\\n",
       "missing_ratio                                                                                                  0.0   \n",
       "num_values                                                                                                       4   \n",
       "value_ratios   {'(33.7291858, -118.262015)': 55.9, '(28.4104, -80.6188)': 28.3, '(28.485833, -80.544444)': 11.8...   \n",
       "\n",
       "                                         outcome  \n",
       "missing_ratio                                0.0  \n",
       "num_values                                     2  \n",
       "value_ratios   {'Success': 98.7, 'Failure': 1.3}  "
      ]
     },
     "execution_count": 46,
     "metadata": {},
     "output_type": "execute_result"
    }
   ],
   "source": [
    "cat_col_info_df = cate_col_df.agg([missing_ratio, num_values, value_ratios])\n",
    "cat_col_info_df"
   ]
  },
  {
   "cell_type": "code",
   "execution_count": 47,
   "metadata": {},
   "outputs": [],
   "source": [
    "# TEST\n",
    "cat_col_info_df = cate_col_df.agg([missing_ratio, num_values, value_ratios])\n",
    "\n",
    "c = cat_col_info_df['landpad_name']\n",
    "assert adler32(str(c.loc['missing_ratio']).encode()) == 18808975\n",
    "assert adler32(str(c.loc['num_values']).encode()) == 3604535\n",
    "assert adler32(str(c.loc['value_ratios']['LZ-1']).encode()) == 32440521\n",
    "\n",
    "c = cat_col_info_df['landpad_type']\n",
    "assert adler32(str(c.loc['missing_ratio']).encode())  == 18808975\n",
    "assert adler32(str(c.loc['num_values']).encode()) == 3342387\n",
    "assert adler32(str(c.loc['value_ratios']['RTLS']).encode()) == 33226957\n",
    "\n",
    "c = cat_col_info_df['landpad_region']\n",
    "assert adler32(str(c.loc['missing_ratio']).encode()) == 18808975\n",
    "assert adler32(str(c.loc['num_values']).encode()) == 3342387\n",
    "assert adler32(str(c.loc['value_ratios']['California']).encode()) ==  33751242"
   ]
  },
  {
   "cell_type": "markdown",
   "metadata": {},
   "source": [
    "TODO: Fill missing values for all `raw_df`"
   ]
  },
  {
   "cell_type": "code",
   "execution_count": 48,
   "metadata": {},
   "outputs": [],
   "source": [
    "raw_df[\"payloads\"] = raw_df[\"payloads\"].apply(str2dict)\n",
    "\n",
    "# YOUR CODE HERE\n",
    "# raise NotImplementedError()\n",
    "\n",
    "# Set the \"launch_name\" column as the index for both DataFrames\n",
    "raw_df.set_index(\"launch_name\", inplace=True)\n",
    "cate_col_df.set_index(\"launch_name\", inplace=True)\n",
    "\n",
    "# Update values in raw_df with values from cate_col_df\n",
    "raw_df.update(cate_col_df)\n",
    "\n",
    "# Reset the index to its original state\n",
    "cate_col_df.reset_index(inplace=True)\n",
    "raw_df.reset_index(inplace=True)\n"
   ]
  },
  {
   "cell_type": "code",
   "execution_count": 49,
   "metadata": {},
   "outputs": [],
   "source": [
    "# TEST 01\n",
    "assert raw_df.shape == (152, 16)"
   ]
  },
  {
   "cell_type": "code",
   "execution_count": 50,
   "metadata": {},
   "outputs": [
    {
     "data": {
      "text/html": [
       "<div>\n",
       "<style scoped>\n",
       "    .dataframe tbody tr th:only-of-type {\n",
       "        vertical-align: middle;\n",
       "    }\n",
       "\n",
       "    .dataframe tbody tr th {\n",
       "        vertical-align: top;\n",
       "    }\n",
       "\n",
       "    .dataframe thead th {\n",
       "        text-align: right;\n",
       "    }\n",
       "</style>\n",
       "<table border=\"1\" class=\"dataframe\">\n",
       "  <thead>\n",
       "    <tr style=\"text-align: right;\">\n",
       "      <th></th>\n",
       "      <th>launch_name</th>\n",
       "      <th>payloads</th>\n",
       "      <th>rocket_name</th>\n",
       "      <th>launchpad_name</th>\n",
       "      <th>launchpad_region</th>\n",
       "      <th>launchpad_geo</th>\n",
       "      <th>landpad_name</th>\n",
       "      <th>landpad_type</th>\n",
       "      <th>landpad_region</th>\n",
       "      <th>landpad_geo</th>\n",
       "      <th>outcome</th>\n",
       "    </tr>\n",
       "  </thead>\n",
       "  <tbody>\n",
       "    <tr>\n",
       "      <th>missing_ratio</th>\n",
       "      <td>0.0</td>\n",
       "      <td>0.0</td>\n",
       "      <td>0.0</td>\n",
       "      <td>0.0</td>\n",
       "      <td>0.0</td>\n",
       "      <td>0.0</td>\n",
       "      <td>0.0</td>\n",
       "      <td>0.0</td>\n",
       "      <td>0.0</td>\n",
       "      <td>0.0</td>\n",
       "      <td>0.0</td>\n",
       "    </tr>\n",
       "    <tr>\n",
       "      <th>num_values</th>\n",
       "      <td>151</td>\n",
       "      <td>104</td>\n",
       "      <td>2</td>\n",
       "      <td>3</td>\n",
       "      <td>2</td>\n",
       "      <td>3</td>\n",
       "      <td>6</td>\n",
       "      <td>2</td>\n",
       "      <td>2</td>\n",
       "      <td>4</td>\n",
       "      <td>2</td>\n",
       "    </tr>\n",
       "    <tr>\n",
       "      <th>value_ratios</th>\n",
       "      <td>{'Starlink 4-20 (v1.5) &amp; Sherpa LTC-2/Varuna-TDM': 1.3, 'CRS-5': 0.7, 'Starlink 4-4 (v1.5)': 0.7...</td>\n",
       "      <td>{'[{'type': 'Satellite', 'mass': 15600, 'orbit': 'VLEO'}]': 15.8, '[{'type': 'Satellite', 'mass'...</td>\n",
       "      <td>{'Falcon 9': 98.0, 'Falcon Heavy': 2.0}</td>\n",
       "      <td>{'CCSFS SLC 40': 51.3, 'KSC LC 39A': 33.6, 'VAFB SLC 4E': 15.1}</td>\n",
       "      <td>{'Florida': 84.9, 'California': 15.1}</td>\n",
       "      <td>{'(28.5618571, -80.577366)': 51.3, '(28.6080585, -80.6039558)': 33.6, '(34.632093, -120.610829)'...</td>\n",
       "      <td>{'OCISLY': 42.1, 'JRTI': 27.0, 'ASOG': 13.8, 'LZ-1': 11.8, 'LZ-4': 3.9, 'JRTI-1': 1.3}</td>\n",
       "      <td>{'ASDS': 84.2, 'RTLS': 15.8}</td>\n",
       "      <td>{'Florida': 53.9, 'California': 46.1}</td>\n",
       "      <td>{'(33.7291858, -118.262015)': 55.9, '(28.4104, -80.6188)': 28.3, '(28.485833, -80.544444)': 11.8...</td>\n",
       "      <td>{'Success': 98.7, 'Failure': 1.3}</td>\n",
       "    </tr>\n",
       "  </tbody>\n",
       "</table>\n",
       "</div>"
      ],
      "text/plain": [
       "                                                                                                       launch_name  \\\n",
       "missing_ratio                                                                                                  0.0   \n",
       "num_values                                                                                                     151   \n",
       "value_ratios   {'Starlink 4-20 (v1.5) & Sherpa LTC-2/Varuna-TDM': 1.3, 'CRS-5': 0.7, 'Starlink 4-4 (v1.5)': 0.7...   \n",
       "\n",
       "                                                                                                          payloads  \\\n",
       "missing_ratio                                                                                                  0.0   \n",
       "num_values                                                                                                     104   \n",
       "value_ratios   {'[{'type': 'Satellite', 'mass': 15600, 'orbit': 'VLEO'}]': 15.8, '[{'type': 'Satellite', 'mass'...   \n",
       "\n",
       "                                           rocket_name  \\\n",
       "missing_ratio                                      0.0   \n",
       "num_values                                           2   \n",
       "value_ratios   {'Falcon 9': 98.0, 'Falcon Heavy': 2.0}   \n",
       "\n",
       "                                                                launchpad_name  \\\n",
       "missing_ratio                                                              0.0   \n",
       "num_values                                                                   3   \n",
       "value_ratios   {'CCSFS SLC 40': 51.3, 'KSC LC 39A': 33.6, 'VAFB SLC 4E': 15.1}   \n",
       "\n",
       "                                    launchpad_region  \\\n",
       "missing_ratio                                    0.0   \n",
       "num_values                                         2   \n",
       "value_ratios   {'Florida': 84.9, 'California': 15.1}   \n",
       "\n",
       "                                                                                                     launchpad_geo  \\\n",
       "missing_ratio                                                                                                  0.0   \n",
       "num_values                                                                                                       3   \n",
       "value_ratios   {'(28.5618571, -80.577366)': 51.3, '(28.6080585, -80.6039558)': 33.6, '(34.632093, -120.610829)'...   \n",
       "\n",
       "                                                                                         landpad_name  \\\n",
       "missing_ratio                                                                                     0.0   \n",
       "num_values                                                                                          6   \n",
       "value_ratios   {'OCISLY': 42.1, 'JRTI': 27.0, 'ASOG': 13.8, 'LZ-1': 11.8, 'LZ-4': 3.9, 'JRTI-1': 1.3}   \n",
       "\n",
       "                               landpad_type  \\\n",
       "missing_ratio                           0.0   \n",
       "num_values                                2   \n",
       "value_ratios   {'ASDS': 84.2, 'RTLS': 15.8}   \n",
       "\n",
       "                                      landpad_region  \\\n",
       "missing_ratio                                    0.0   \n",
       "num_values                                         2   \n",
       "value_ratios   {'Florida': 53.9, 'California': 46.1}   \n",
       "\n",
       "                                                                                                       landpad_geo  \\\n",
       "missing_ratio                                                                                                  0.0   \n",
       "num_values                                                                                                       4   \n",
       "value_ratios   {'(33.7291858, -118.262015)': 55.9, '(28.4104, -80.6188)': 28.3, '(28.485833, -80.544444)': 11.8...   \n",
       "\n",
       "                                         outcome  \n",
       "missing_ratio                                0.0  \n",
       "num_values                                     2  \n",
       "value_ratios   {'Success': 98.7, 'Failure': 1.3}  "
      ]
     },
     "execution_count": 50,
     "metadata": {},
     "output_type": "execute_result"
    }
   ],
   "source": [
    "# TEST 02\n",
    "raw_df.select_dtypes(include=['object']).agg([missing_ratio, num_values, value_ratios])"
   ]
  },
  {
   "cell_type": "markdown",
   "metadata": {},
   "source": [
    "Consider the `payloads` attributes; you have to check whether they have missing values."
   ]
  },
  {
   "cell_type": "code",
   "execution_count": 51,
   "metadata": {},
   "outputs": [
    {
     "data": {
      "text/html": [
       "<div>\n",
       "<style scoped>\n",
       "    .dataframe tbody tr th:only-of-type {\n",
       "        vertical-align: middle;\n",
       "    }\n",
       "\n",
       "    .dataframe tbody tr th {\n",
       "        vertical-align: top;\n",
       "    }\n",
       "\n",
       "    .dataframe thead th {\n",
       "        text-align: right;\n",
       "    }\n",
       "</style>\n",
       "<table border=\"1\" class=\"dataframe\">\n",
       "  <thead>\n",
       "    <tr style=\"text-align: right;\">\n",
       "      <th></th>\n",
       "      <th>launch_name</th>\n",
       "      <th>rocket_name</th>\n",
       "      <th>launchpad_name</th>\n",
       "      <th>launchpad_region</th>\n",
       "      <th>launchpad_geo</th>\n",
       "      <th>landpad_name</th>\n",
       "      <th>landpad_type</th>\n",
       "      <th>landpad_region</th>\n",
       "      <th>landpad_geo</th>\n",
       "      <th>outcome</th>\n",
       "      <th>type</th>\n",
       "      <th>mass</th>\n",
       "      <th>orbit</th>\n",
       "    </tr>\n",
       "  </thead>\n",
       "  <tbody>\n",
       "    <tr>\n",
       "      <th>0</th>\n",
       "      <td>CRS-5</td>\n",
       "      <td>Falcon 9</td>\n",
       "      <td>CCSFS SLC 40</td>\n",
       "      <td>Florida</td>\n",
       "      <td>(28.5618571, -80.577366)</td>\n",
       "      <td>JRTI-1</td>\n",
       "      <td>ASDS</td>\n",
       "      <td>Florida</td>\n",
       "      <td>(28.4104, -80.6188)</td>\n",
       "      <td>Success</td>\n",
       "      <td>Dragon 1.1</td>\n",
       "      <td>2395.0</td>\n",
       "      <td>ISS</td>\n",
       "    </tr>\n",
       "    <tr>\n",
       "      <th>1</th>\n",
       "      <td>CRS-6</td>\n",
       "      <td>Falcon 9</td>\n",
       "      <td>CCSFS SLC 40</td>\n",
       "      <td>Florida</td>\n",
       "      <td>(28.5618571, -80.577366)</td>\n",
       "      <td>JRTI-1</td>\n",
       "      <td>ASDS</td>\n",
       "      <td>Florida</td>\n",
       "      <td>(28.4104, -80.6188)</td>\n",
       "      <td>Success</td>\n",
       "      <td>Dragon 1.1</td>\n",
       "      <td>1898.0</td>\n",
       "      <td>ISS</td>\n",
       "    </tr>\n",
       "    <tr>\n",
       "      <th>2</th>\n",
       "      <td>CRS-7</td>\n",
       "      <td>Falcon 9</td>\n",
       "      <td>CCSFS SLC 40</td>\n",
       "      <td>Florida</td>\n",
       "      <td>(28.5618571, -80.577366)</td>\n",
       "      <td>OCISLY</td>\n",
       "      <td>ASDS</td>\n",
       "      <td>California</td>\n",
       "      <td>(33.7291858, -118.262015)</td>\n",
       "      <td>Failure</td>\n",
       "      <td>Dragon 1.1</td>\n",
       "      <td>1952.0</td>\n",
       "      <td>ISS</td>\n",
       "    </tr>\n",
       "    <tr>\n",
       "      <th>3</th>\n",
       "      <td>OG-2 Mission 2</td>\n",
       "      <td>Falcon 9</td>\n",
       "      <td>CCSFS SLC 40</td>\n",
       "      <td>Florida</td>\n",
       "      <td>(28.5618571, -80.577366)</td>\n",
       "      <td>LZ-1</td>\n",
       "      <td>RTLS</td>\n",
       "      <td>Florida</td>\n",
       "      <td>(28.485833, -80.544444)</td>\n",
       "      <td>Success</td>\n",
       "      <td>Satellite</td>\n",
       "      <td>2034.0</td>\n",
       "      <td>LEO</td>\n",
       "    </tr>\n",
       "    <tr>\n",
       "      <th>4</th>\n",
       "      <td>Jason 3</td>\n",
       "      <td>Falcon 9</td>\n",
       "      <td>VAFB SLC 4E</td>\n",
       "      <td>California</td>\n",
       "      <td>(34.632093, -120.610829)</td>\n",
       "      <td>JRTI</td>\n",
       "      <td>ASDS</td>\n",
       "      <td>Florida</td>\n",
       "      <td>(28.4104, -80.6188)</td>\n",
       "      <td>Success</td>\n",
       "      <td>Satellite</td>\n",
       "      <td>553.0</td>\n",
       "      <td>PO</td>\n",
       "    </tr>\n",
       "    <tr>\n",
       "      <th>...</th>\n",
       "      <td>...</td>\n",
       "      <td>...</td>\n",
       "      <td>...</td>\n",
       "      <td>...</td>\n",
       "      <td>...</td>\n",
       "      <td>...</td>\n",
       "      <td>...</td>\n",
       "      <td>...</td>\n",
       "      <td>...</td>\n",
       "      <td>...</td>\n",
       "      <td>...</td>\n",
       "      <td>...</td>\n",
       "      <td>...</td>\n",
       "    </tr>\n",
       "    <tr>\n",
       "      <th>147</th>\n",
       "      <td>Starlink 4-20 (v1.5) &amp; Sherpa LTC-2/Varuna-TDM</td>\n",
       "      <td>Falcon 9</td>\n",
       "      <td>CCSFS SLC 40</td>\n",
       "      <td>Florida</td>\n",
       "      <td>(28.5618571, -80.577366)</td>\n",
       "      <td>JRTI</td>\n",
       "      <td>ASDS</td>\n",
       "      <td>Florida</td>\n",
       "      <td>(28.4104, -80.6188)</td>\n",
       "      <td>Success</td>\n",
       "      <td>Satellite</td>\n",
       "      <td>180.0</td>\n",
       "      <td>VLEO</td>\n",
       "    </tr>\n",
       "    <tr>\n",
       "      <th>148</th>\n",
       "      <td>Starlink 4-2 (v1.5) &amp; Blue Walker 3</td>\n",
       "      <td>Falcon 9</td>\n",
       "      <td>KSC LC 39A</td>\n",
       "      <td>Florida</td>\n",
       "      <td>(28.6080585, -80.6039558)</td>\n",
       "      <td>ASOG</td>\n",
       "      <td>ASDS</td>\n",
       "      <td>Florida</td>\n",
       "      <td>(33.7291858, -118.262015)</td>\n",
       "      <td>Success</td>\n",
       "      <td>Satellite</td>\n",
       "      <td>14760.0</td>\n",
       "      <td>VLEO</td>\n",
       "    </tr>\n",
       "    <tr>\n",
       "      <th>149</th>\n",
       "      <td>Starlink 4-34 (v1.5)</td>\n",
       "      <td>Falcon 9</td>\n",
       "      <td>CCSFS SLC 40</td>\n",
       "      <td>Florida</td>\n",
       "      <td>(28.5618571, -80.577366)</td>\n",
       "      <td>JRTI</td>\n",
       "      <td>ASDS</td>\n",
       "      <td>Florida</td>\n",
       "      <td>(28.4104, -80.6188)</td>\n",
       "      <td>Success</td>\n",
       "      <td>Satellite</td>\n",
       "      <td>16100.0</td>\n",
       "      <td>VLEO</td>\n",
       "    </tr>\n",
       "    <tr>\n",
       "      <th>150</th>\n",
       "      <td>Starlink 4-35 (v1.5)</td>\n",
       "      <td>Falcon 9</td>\n",
       "      <td>CCSFS SLC 40</td>\n",
       "      <td>Florida</td>\n",
       "      <td>(28.5618571, -80.577366)</td>\n",
       "      <td>JRTI</td>\n",
       "      <td>ASDS</td>\n",
       "      <td>Florida</td>\n",
       "      <td>(28.4104, -80.6188)</td>\n",
       "      <td>Success</td>\n",
       "      <td>Satellite</td>\n",
       "      <td>13260.0</td>\n",
       "      <td>VLEO</td>\n",
       "    </tr>\n",
       "    <tr>\n",
       "      <th>151</th>\n",
       "      <td>Crew-5</td>\n",
       "      <td>Falcon 9</td>\n",
       "      <td>KSC LC 39A</td>\n",
       "      <td>Florida</td>\n",
       "      <td>(28.6080585, -80.6039558)</td>\n",
       "      <td>JRTI</td>\n",
       "      <td>ASDS</td>\n",
       "      <td>Florida</td>\n",
       "      <td>(28.4104, -80.6188)</td>\n",
       "      <td>Success</td>\n",
       "      <td>Crew Dragon</td>\n",
       "      <td>NaN</td>\n",
       "      <td>ISS</td>\n",
       "    </tr>\n",
       "  </tbody>\n",
       "</table>\n",
       "<p>152 rows × 13 columns</p>\n",
       "</div>"
      ],
      "text/plain": [
       "                                        launch_name rocket_name  \\\n",
       "0                                             CRS-5    Falcon 9   \n",
       "1                                             CRS-6    Falcon 9   \n",
       "2                                             CRS-7    Falcon 9   \n",
       "3                                    OG-2 Mission 2    Falcon 9   \n",
       "4                                           Jason 3    Falcon 9   \n",
       "..                                              ...         ...   \n",
       "147  Starlink 4-20 (v1.5) & Sherpa LTC-2/Varuna-TDM    Falcon 9   \n",
       "148             Starlink 4-2 (v1.5) & Blue Walker 3    Falcon 9   \n",
       "149                            Starlink 4-34 (v1.5)    Falcon 9   \n",
       "150                            Starlink 4-35 (v1.5)    Falcon 9   \n",
       "151                                          Crew-5    Falcon 9   \n",
       "\n",
       "    launchpad_name launchpad_region              launchpad_geo landpad_name  \\\n",
       "0     CCSFS SLC 40          Florida   (28.5618571, -80.577366)       JRTI-1   \n",
       "1     CCSFS SLC 40          Florida   (28.5618571, -80.577366)       JRTI-1   \n",
       "2     CCSFS SLC 40          Florida   (28.5618571, -80.577366)       OCISLY   \n",
       "3     CCSFS SLC 40          Florida   (28.5618571, -80.577366)         LZ-1   \n",
       "4      VAFB SLC 4E       California   (34.632093, -120.610829)         JRTI   \n",
       "..             ...              ...                        ...          ...   \n",
       "147   CCSFS SLC 40          Florida   (28.5618571, -80.577366)         JRTI   \n",
       "148     KSC LC 39A          Florida  (28.6080585, -80.6039558)         ASOG   \n",
       "149   CCSFS SLC 40          Florida   (28.5618571, -80.577366)         JRTI   \n",
       "150   CCSFS SLC 40          Florida   (28.5618571, -80.577366)         JRTI   \n",
       "151     KSC LC 39A          Florida  (28.6080585, -80.6039558)         JRTI   \n",
       "\n",
       "    landpad_type landpad_region                landpad_geo  outcome  \\\n",
       "0           ASDS        Florida        (28.4104, -80.6188)  Success   \n",
       "1           ASDS        Florida        (28.4104, -80.6188)  Success   \n",
       "2           ASDS     California  (33.7291858, -118.262015)  Failure   \n",
       "3           RTLS        Florida    (28.485833, -80.544444)  Success   \n",
       "4           ASDS        Florida        (28.4104, -80.6188)  Success   \n",
       "..           ...            ...                        ...      ...   \n",
       "147         ASDS        Florida        (28.4104, -80.6188)  Success   \n",
       "148         ASDS        Florida  (33.7291858, -118.262015)  Success   \n",
       "149         ASDS        Florida        (28.4104, -80.6188)  Success   \n",
       "150         ASDS        Florida        (28.4104, -80.6188)  Success   \n",
       "151         ASDS        Florida        (28.4104, -80.6188)  Success   \n",
       "\n",
       "            type     mass orbit  \n",
       "0     Dragon 1.1   2395.0   ISS  \n",
       "1     Dragon 1.1   1898.0   ISS  \n",
       "2     Dragon 1.1   1952.0   ISS  \n",
       "3      Satellite   2034.0   LEO  \n",
       "4      Satellite    553.0    PO  \n",
       "..           ...      ...   ...  \n",
       "147    Satellite    180.0  VLEO  \n",
       "148    Satellite  14760.0  VLEO  \n",
       "149    Satellite  16100.0  VLEO  \n",
       "150    Satellite  13260.0  VLEO  \n",
       "151  Crew Dragon      NaN   ISS  \n",
       "\n",
       "[152 rows x 13 columns]"
      ]
     },
     "execution_count": 51,
     "metadata": {},
     "output_type": "execute_result"
    }
   ],
   "source": [
    "cate_col_df[\"payloads\"] = cate_col_df[\"payloads\"].apply(str2dict)\n",
    "# Chuyển cột payloads thành các cột mới dựa trên khóa trong từ điển\n",
    "cate_col_df2 = pd.concat([cate_col_df.drop(['payloads'], axis=1), cate_col_df['payloads'].apply(lambda x: pd.Series(x[0]) if x else pd.Series([None, None, None]))], axis=1)\n",
    "\n",
    "# cate_col_df2 = cate_col_df.join(pd.DataFrame(cate_col_df['payloads'].tolist())).drop('payloads', axis=1)  \n",
    "cate_col_df2"
   ]
  },
  {
   "cell_type": "markdown",
   "metadata": {},
   "source": [
    "Next, you have to missing values for three columns: `type`, `mass`, and `orbit`."
   ]
  },
  {
   "cell_type": "markdown",
   "metadata": {},
   "source": [
    "- Step 01: Drop all rows that have NaN values for all three columns or any two columns."
   ]
  },
  {
   "cell_type": "code",
   "execution_count": 52,
   "metadata": {},
   "outputs": [
    {
     "data": {
      "text/html": [
       "<div>\n",
       "<style scoped>\n",
       "    .dataframe tbody tr th:only-of-type {\n",
       "        vertical-align: middle;\n",
       "    }\n",
       "\n",
       "    .dataframe tbody tr th {\n",
       "        vertical-align: top;\n",
       "    }\n",
       "\n",
       "    .dataframe thead th {\n",
       "        text-align: right;\n",
       "    }\n",
       "</style>\n",
       "<table border=\"1\" class=\"dataframe\">\n",
       "  <thead>\n",
       "    <tr style=\"text-align: right;\">\n",
       "      <th></th>\n",
       "      <th>launch_name</th>\n",
       "      <th>rocket_name</th>\n",
       "      <th>launchpad_name</th>\n",
       "      <th>launchpad_region</th>\n",
       "      <th>launchpad_geo</th>\n",
       "      <th>landpad_name</th>\n",
       "      <th>landpad_type</th>\n",
       "      <th>landpad_region</th>\n",
       "      <th>landpad_geo</th>\n",
       "      <th>outcome</th>\n",
       "      <th>type</th>\n",
       "      <th>mass</th>\n",
       "      <th>orbit</th>\n",
       "    </tr>\n",
       "  </thead>\n",
       "  <tbody>\n",
       "    <tr>\n",
       "      <th>0</th>\n",
       "      <td>CRS-5</td>\n",
       "      <td>Falcon 9</td>\n",
       "      <td>CCSFS SLC 40</td>\n",
       "      <td>Florida</td>\n",
       "      <td>(28.5618571, -80.577366)</td>\n",
       "      <td>JRTI-1</td>\n",
       "      <td>ASDS</td>\n",
       "      <td>Florida</td>\n",
       "      <td>(28.4104, -80.6188)</td>\n",
       "      <td>Success</td>\n",
       "      <td>Dragon 1.1</td>\n",
       "      <td>2395.0</td>\n",
       "      <td>ISS</td>\n",
       "    </tr>\n",
       "    <tr>\n",
       "      <th>1</th>\n",
       "      <td>CRS-6</td>\n",
       "      <td>Falcon 9</td>\n",
       "      <td>CCSFS SLC 40</td>\n",
       "      <td>Florida</td>\n",
       "      <td>(28.5618571, -80.577366)</td>\n",
       "      <td>JRTI-1</td>\n",
       "      <td>ASDS</td>\n",
       "      <td>Florida</td>\n",
       "      <td>(28.4104, -80.6188)</td>\n",
       "      <td>Success</td>\n",
       "      <td>Dragon 1.1</td>\n",
       "      <td>1898.0</td>\n",
       "      <td>ISS</td>\n",
       "    </tr>\n",
       "    <tr>\n",
       "      <th>2</th>\n",
       "      <td>CRS-7</td>\n",
       "      <td>Falcon 9</td>\n",
       "      <td>CCSFS SLC 40</td>\n",
       "      <td>Florida</td>\n",
       "      <td>(28.5618571, -80.577366)</td>\n",
       "      <td>OCISLY</td>\n",
       "      <td>ASDS</td>\n",
       "      <td>California</td>\n",
       "      <td>(33.7291858, -118.262015)</td>\n",
       "      <td>Failure</td>\n",
       "      <td>Dragon 1.1</td>\n",
       "      <td>1952.0</td>\n",
       "      <td>ISS</td>\n",
       "    </tr>\n",
       "    <tr>\n",
       "      <th>3</th>\n",
       "      <td>OG-2 Mission 2</td>\n",
       "      <td>Falcon 9</td>\n",
       "      <td>CCSFS SLC 40</td>\n",
       "      <td>Florida</td>\n",
       "      <td>(28.5618571, -80.577366)</td>\n",
       "      <td>LZ-1</td>\n",
       "      <td>RTLS</td>\n",
       "      <td>Florida</td>\n",
       "      <td>(28.485833, -80.544444)</td>\n",
       "      <td>Success</td>\n",
       "      <td>Satellite</td>\n",
       "      <td>2034.0</td>\n",
       "      <td>LEO</td>\n",
       "    </tr>\n",
       "    <tr>\n",
       "      <th>4</th>\n",
       "      <td>Jason 3</td>\n",
       "      <td>Falcon 9</td>\n",
       "      <td>VAFB SLC 4E</td>\n",
       "      <td>California</td>\n",
       "      <td>(34.632093, -120.610829)</td>\n",
       "      <td>JRTI</td>\n",
       "      <td>ASDS</td>\n",
       "      <td>Florida</td>\n",
       "      <td>(28.4104, -80.6188)</td>\n",
       "      <td>Success</td>\n",
       "      <td>Satellite</td>\n",
       "      <td>553.0</td>\n",
       "      <td>PO</td>\n",
       "    </tr>\n",
       "  </tbody>\n",
       "</table>\n",
       "</div>"
      ],
      "text/plain": [
       "      launch_name rocket_name launchpad_name launchpad_region  \\\n",
       "0           CRS-5    Falcon 9   CCSFS SLC 40          Florida   \n",
       "1           CRS-6    Falcon 9   CCSFS SLC 40          Florida   \n",
       "2           CRS-7    Falcon 9   CCSFS SLC 40          Florida   \n",
       "3  OG-2 Mission 2    Falcon 9   CCSFS SLC 40          Florida   \n",
       "4         Jason 3    Falcon 9    VAFB SLC 4E       California   \n",
       "\n",
       "              launchpad_geo landpad_name landpad_type landpad_region  \\\n",
       "0  (28.5618571, -80.577366)       JRTI-1         ASDS        Florida   \n",
       "1  (28.5618571, -80.577366)       JRTI-1         ASDS        Florida   \n",
       "2  (28.5618571, -80.577366)       OCISLY         ASDS     California   \n",
       "3  (28.5618571, -80.577366)         LZ-1         RTLS        Florida   \n",
       "4  (34.632093, -120.610829)         JRTI         ASDS        Florida   \n",
       "\n",
       "                 landpad_geo  outcome        type    mass orbit  \n",
       "0        (28.4104, -80.6188)  Success  Dragon 1.1  2395.0   ISS  \n",
       "1        (28.4104, -80.6188)  Success  Dragon 1.1  1898.0   ISS  \n",
       "2  (33.7291858, -118.262015)  Failure  Dragon 1.1  1952.0   ISS  \n",
       "3    (28.485833, -80.544444)  Success   Satellite  2034.0   LEO  \n",
       "4        (28.4104, -80.6188)  Success   Satellite   553.0    PO  "
      ]
     },
     "execution_count": 52,
     "metadata": {},
     "output_type": "execute_result"
    }
   ],
   "source": [
    "# YOUR CODE HERE\n",
    "# raise NotImplementedError()\n",
    "\n",
    "# Columns to check\n",
    "columns_to_check = ['type', 'mass', 'orbit']\n",
    "\n",
    "# Check if NaN appears in 2 or more specified columns and drop those rows\n",
    "cate_col_df2 = cate_col_df2.dropna(subset=columns_to_check, thresh=len(columns_to_check)-1)\n",
    "cate_col_df2.head()"
   ]
  },
  {
   "cell_type": "markdown",
   "metadata": {},
   "source": [
    "- Step 02: Filling missing values for `cate_col_df2` by dropping `None` values from mass attributes. For more convenience, you should save these rows which have `None` mass values to file named as `unknow_mass_spaceX_launch.csv`"
   ]
  },
  {
   "cell_type": "code",
   "execution_count": 53,
   "metadata": {},
   "outputs": [],
   "source": [
    "# YOUR CODE HERE\n",
    "# raise NotImplementedError()\n",
    "drop_idx = cate_col_df2[cate_col_df2[\"mass\"].isnull()].index"
   ]
  },
  {
   "cell_type": "code",
   "execution_count": 54,
   "metadata": {},
   "outputs": [],
   "source": [
    "cate_col_df2[cate_col_df2[\"mass\"].isnull()].to_csv(\"./data/unknow_mass_spaceX_launch.csv\", index=False)"
   ]
  },
  {
   "cell_type": "code",
   "execution_count": 55,
   "metadata": {},
   "outputs": [],
   "source": [
    "cate_col_df2.drop(drop_idx, inplace=True)"
   ]
  },
  {
   "cell_type": "code",
   "execution_count": 56,
   "metadata": {},
   "outputs": [],
   "source": [
    "# TEST\n",
    "cat_col_info_df2 = cate_col_df2.select_dtypes(include=['object']).agg([missing_ratio, num_values, value_ratios])\n",
    "\n",
    "c = cat_col_info_df2['type']\n",
    "assert adler32(str(c.loc['missing_ratio']).encode()) == 18808975\n",
    "assert adler32(str(c.loc['num_values']).encode()) == 3473461\n",
    "# assert adler32(str(c.loc['value_ratios']['Satellite']).encode()) == 34734285\n",
    "assert adler32(str(c.loc['value_ratios']['Satellite']).encode()) == 34209997\n",
    "\n",
    "# Due to mass should be numerical data type, so this check will be disable\n",
    "# c = cat_col_info_df2['mass']\n",
    "# assert adler32(str(c.loc['missing_ratio']).encode()) == 18808975\n",
    "# # assert adler32(str(c.loc['num_values']).encode()) == 10748012\n",
    "# assert adler32(str(c.loc['num_values']).encode()) == 11141232\n",
    "# # assert adler32(str(c.loc['value_ratios']['9600']).encode()) == 19595417\n",
    "# assert adler32(str(c.loc['value_ratios']['9600']).encode()) == 19726487\n",
    "\n",
    "c = cat_col_info_df2['orbit']\n",
    "assert adler32(str(c.loc['missing_ratio']).encode()) == 18808975\n",
    "assert adler32(str(c.loc['num_values']).encode()) == 9764963\n",
    "assert adler32(str(c.loc['value_ratios']['LEO']).encode()) ==  20185242"
   ]
  },
  {
   "cell_type": "markdown",
   "metadata": {},
   "source": [
    "- Step 03: Apply for `raw_df`"
   ]
  },
  {
   "cell_type": "code",
   "execution_count": 57,
   "metadata": {},
   "outputs": [],
   "source": [
    "# Step 01: unpack `payloads`\n",
    "# YOUR CODE HERE\n",
    "# raise NotImplementedError()\n",
    "\n",
    "raw_df[\"payloads\"] = raw_df[\"payloads\"].apply(str2dict)\n",
    "\n",
    "raw_df = pd.concat([raw_df.drop([\"payloads\"], axis=1), raw_df[\"payloads\"].apply(lambda x: pd.Series(x[0]) if x else pd.Series([None, None, None]))], axis=1)\n",
    "\n",
    "# Columns to check\n",
    "columns_to_check = ['type', 'mass', 'orbit']\n",
    "# Check if NaN appears in 2 or more specified columns and drop those rows\n",
    "raw_df = raw_df.dropna(subset=columns_to_check, thresh=len(columns_to_check)-1)\n"
   ]
  },
  {
   "cell_type": "code",
   "execution_count": 58,
   "metadata": {},
   "outputs": [
    {
     "data": {
      "text/html": [
       "<div>\n",
       "<style scoped>\n",
       "    .dataframe tbody tr th:only-of-type {\n",
       "        vertical-align: middle;\n",
       "    }\n",
       "\n",
       "    .dataframe tbody tr th {\n",
       "        vertical-align: top;\n",
       "    }\n",
       "\n",
       "    .dataframe thead th {\n",
       "        text-align: right;\n",
       "    }\n",
       "</style>\n",
       "<table border=\"1\" class=\"dataframe\">\n",
       "  <thead>\n",
       "    <tr style=\"text-align: right;\">\n",
       "      <th></th>\n",
       "      <th>launch_name</th>\n",
       "      <th>uct_time</th>\n",
       "      <th>rocket_name</th>\n",
       "      <th>rocket_boosters</th>\n",
       "      <th>rocket_height</th>\n",
       "      <th>rocket_diameter</th>\n",
       "      <th>rocket_mass</th>\n",
       "      <th>launchpad_name</th>\n",
       "      <th>launchpad_region</th>\n",
       "      <th>launchpad_geo</th>\n",
       "      <th>landpad_name</th>\n",
       "      <th>landpad_type</th>\n",
       "      <th>landpad_region</th>\n",
       "      <th>landpad_geo</th>\n",
       "      <th>outcome</th>\n",
       "      <th>payloads_type</th>\n",
       "      <th>payloads_mass</th>\n",
       "      <th>payloads_orbit</th>\n",
       "    </tr>\n",
       "  </thead>\n",
       "  <tbody>\n",
       "    <tr>\n",
       "      <th>0</th>\n",
       "      <td>CRS-5</td>\n",
       "      <td>2015-01-10 09:47:00+00:00</td>\n",
       "      <td>Falcon 9</td>\n",
       "      <td>0</td>\n",
       "      <td>70.0</td>\n",
       "      <td>3.7</td>\n",
       "      <td>549054.000000</td>\n",
       "      <td>CCSFS SLC 40</td>\n",
       "      <td>Florida</td>\n",
       "      <td>(28.5618571, -80.577366)</td>\n",
       "      <td>JRTI-1</td>\n",
       "      <td>ASDS</td>\n",
       "      <td>Florida</td>\n",
       "      <td>(28.4104, -80.6188)</td>\n",
       "      <td>Success</td>\n",
       "      <td>Dragon 1.1</td>\n",
       "      <td>2395.0</td>\n",
       "      <td>ISS</td>\n",
       "    </tr>\n",
       "    <tr>\n",
       "      <th>1</th>\n",
       "      <td>CRS-6</td>\n",
       "      <td>2015-04-14 20:10:00+00:00</td>\n",
       "      <td>Falcon 9</td>\n",
       "      <td>0</td>\n",
       "      <td>70.0</td>\n",
       "      <td>3.7</td>\n",
       "      <td>549054.000000</td>\n",
       "      <td>CCSFS SLC 40</td>\n",
       "      <td>Florida</td>\n",
       "      <td>(28.5618571, -80.577366)</td>\n",
       "      <td>JRTI-1</td>\n",
       "      <td>ASDS</td>\n",
       "      <td>Florida</td>\n",
       "      <td>(28.4104, -80.6188)</td>\n",
       "      <td>Success</td>\n",
       "      <td>Dragon 1.1</td>\n",
       "      <td>1898.0</td>\n",
       "      <td>ISS</td>\n",
       "    </tr>\n",
       "    <tr>\n",
       "      <th>2</th>\n",
       "      <td>CRS-7</td>\n",
       "      <td>2015-06-28 14:21:00+00:00</td>\n",
       "      <td>Falcon 9</td>\n",
       "      <td>0</td>\n",
       "      <td>70.0</td>\n",
       "      <td>3.7</td>\n",
       "      <td>556404.541667</td>\n",
       "      <td>CCSFS SLC 40</td>\n",
       "      <td>Florida</td>\n",
       "      <td>(28.5618571, -80.577366)</td>\n",
       "      <td>OCISLY</td>\n",
       "      <td>ASDS</td>\n",
       "      <td>California</td>\n",
       "      <td>(33.7291858, -118.262015)</td>\n",
       "      <td>Failure</td>\n",
       "      <td>Dragon 1.1</td>\n",
       "      <td>1952.0</td>\n",
       "      <td>ISS</td>\n",
       "    </tr>\n",
       "    <tr>\n",
       "      <th>3</th>\n",
       "      <td>OG-2 Mission 2</td>\n",
       "      <td>2015-12-22 01:29:00+00:00</td>\n",
       "      <td>Falcon 9</td>\n",
       "      <td>0</td>\n",
       "      <td>70.0</td>\n",
       "      <td>3.7</td>\n",
       "      <td>549054.000000</td>\n",
       "      <td>CCSFS SLC 40</td>\n",
       "      <td>Florida</td>\n",
       "      <td>(28.5618571, -80.577366)</td>\n",
       "      <td>LZ-1</td>\n",
       "      <td>RTLS</td>\n",
       "      <td>Florida</td>\n",
       "      <td>(28.485833, -80.544444)</td>\n",
       "      <td>Success</td>\n",
       "      <td>Satellite</td>\n",
       "      <td>2034.0</td>\n",
       "      <td>LEO</td>\n",
       "    </tr>\n",
       "    <tr>\n",
       "      <th>4</th>\n",
       "      <td>Jason 3</td>\n",
       "      <td>2016-01-17 15:42:00+00:00</td>\n",
       "      <td>Falcon 9</td>\n",
       "      <td>0</td>\n",
       "      <td>70.0</td>\n",
       "      <td>3.7</td>\n",
       "      <td>549054.000000</td>\n",
       "      <td>VAFB SLC 4E</td>\n",
       "      <td>California</td>\n",
       "      <td>(34.632093, -120.610829)</td>\n",
       "      <td>JRTI</td>\n",
       "      <td>ASDS</td>\n",
       "      <td>Florida</td>\n",
       "      <td>(28.4104, -80.6188)</td>\n",
       "      <td>Success</td>\n",
       "      <td>Satellite</td>\n",
       "      <td>553.0</td>\n",
       "      <td>PO</td>\n",
       "    </tr>\n",
       "  </tbody>\n",
       "</table>\n",
       "</div>"
      ],
      "text/plain": [
       "      launch_name                  uct_time rocket_name  rocket_boosters  \\\n",
       "0           CRS-5 2015-01-10 09:47:00+00:00    Falcon 9                0   \n",
       "1           CRS-6 2015-04-14 20:10:00+00:00    Falcon 9                0   \n",
       "2           CRS-7 2015-06-28 14:21:00+00:00    Falcon 9                0   \n",
       "3  OG-2 Mission 2 2015-12-22 01:29:00+00:00    Falcon 9                0   \n",
       "4         Jason 3 2016-01-17 15:42:00+00:00    Falcon 9                0   \n",
       "\n",
       "   rocket_height  rocket_diameter    rocket_mass launchpad_name  \\\n",
       "0           70.0              3.7  549054.000000   CCSFS SLC 40   \n",
       "1           70.0              3.7  549054.000000   CCSFS SLC 40   \n",
       "2           70.0              3.7  556404.541667   CCSFS SLC 40   \n",
       "3           70.0              3.7  549054.000000   CCSFS SLC 40   \n",
       "4           70.0              3.7  549054.000000    VAFB SLC 4E   \n",
       "\n",
       "  launchpad_region             launchpad_geo landpad_name landpad_type  \\\n",
       "0          Florida  (28.5618571, -80.577366)       JRTI-1         ASDS   \n",
       "1          Florida  (28.5618571, -80.577366)       JRTI-1         ASDS   \n",
       "2          Florida  (28.5618571, -80.577366)       OCISLY         ASDS   \n",
       "3          Florida  (28.5618571, -80.577366)         LZ-1         RTLS   \n",
       "4       California  (34.632093, -120.610829)         JRTI         ASDS   \n",
       "\n",
       "  landpad_region                landpad_geo  outcome payloads_type  \\\n",
       "0        Florida        (28.4104, -80.6188)  Success    Dragon 1.1   \n",
       "1        Florida        (28.4104, -80.6188)  Success    Dragon 1.1   \n",
       "2     California  (33.7291858, -118.262015)  Failure    Dragon 1.1   \n",
       "3        Florida    (28.485833, -80.544444)  Success     Satellite   \n",
       "4        Florida        (28.4104, -80.6188)  Success     Satellite   \n",
       "\n",
       "   payloads_mass payloads_orbit  \n",
       "0         2395.0            ISS  \n",
       "1         1898.0            ISS  \n",
       "2         1952.0            ISS  \n",
       "3         2034.0            LEO  \n",
       "4          553.0             PO  "
      ]
     },
     "execution_count": 58,
     "metadata": {},
     "output_type": "execute_result"
    }
   ],
   "source": [
    "# Step 02: rename columns `type`, `mass`, and `orbit` to `payloads_type`, `payloads_mass`, and `payloads_orbit`\n",
    "# YOUR CODE HERE\n",
    "# raise NotImplementedError()\n",
    "cate_col_df2 = cate_col_df2.rename(columns={'type': 'payloads_type', 'mass': 'payloads_mass', 'orbit': 'payloads_orbit'})\n",
    "\n",
    "raw_df = raw_df.rename(columns={'type': 'payloads_type', 'mass': 'payloads_mass', 'orbit': 'payloads_orbit'})\n",
    "raw_df.head()"
   ]
  },
  {
   "cell_type": "code",
   "execution_count": 59,
   "metadata": {},
   "outputs": [],
   "source": [
    "# Step 03: drop all rows that have NaN values for all three columns or any two columns.\n",
    "# YOUR CODE HERE\n",
    "# raise NotImplementedError()\n",
    "raw_df = raw_df.dropna(thresh=2)\n",
    "\n",
    "cate_col_df2 = cate_col_df2.dropna(thresh=2)\n"
   ]
  },
  {
   "cell_type": "code",
   "execution_count": 60,
   "metadata": {},
   "outputs": [],
   "source": [
    "# Step 04: Filling missing values for `cate_col_df2` by dropping `None` values from mass attributes\n",
    "# YOUR CODE HERE\n",
    "# raise NotImplementedError()\n",
    "\n",
    "#drop None\n",
    "drop_idx = raw_df[raw_df[\"payloads_mass\"].isnull()].index\n",
    "raw_df.drop(drop_idx, inplace=True)\n",
    "raw_df.reset_index(drop=True, inplace=True)"
   ]
  },
  {
   "cell_type": "code",
   "execution_count": 61,
   "metadata": {},
   "outputs": [],
   "source": [
    "# TEST\n",
    "cat_col_info_df = raw_df.select_dtypes(include=['object']).agg([missing_ratio, num_values, value_ratios])\n",
    "\n",
    "c = cat_col_info_df['payloads_type']\n",
    "assert adler32(str(c.loc['missing_ratio']).encode()) == 18808975\n",
    "assert adler32(str(c.loc['num_values']).encode()) == 3473461\n",
    "# assert adler32(str(c.loc['value_ratios']['Satellite']).encode()) == 34734285\n",
    "assert adler32(str(c.loc['value_ratios']['Satellite']).encode()) == 34209997\n",
    "\n",
    "# Due to mass should be numerical data type, so this check will be disable\n",
    "# c = cat_col_info_df['payloads_mass']\n",
    "# assert adler32(str(c.loc['missing_ratio']).encode()) == 18808975\n",
    "# # assert adler32(str(c.loc['num_values']).encode()) == 10748012\n",
    "# assert adler32(str(c.loc['num_values']).encode()) == 11141232\n",
    "# # assert adler32(str(c.loc['value_ratios']['9600']).encode()) == 19595417\n",
    "# assert adler32(str(c.loc['value_ratios']['9600']).encode()) == 19726487\n",
    "\n",
    "c = cat_col_info_df['payloads_orbit']\n",
    "assert adler32(str(c.loc['missing_ratio']).encode()) == 18808975\n",
    "assert adler32(str(c.loc['num_values']).encode()) == 9764963\n",
    "assert adler32(str(c.loc['value_ratios']['LEO']).encode()) ==  20185242"
   ]
  },
  {
   "cell_type": "code",
   "execution_count": 62,
   "metadata": {},
   "outputs": [
    {
     "data": {
      "text/html": [
       "<div>\n",
       "<style scoped>\n",
       "    .dataframe tbody tr th:only-of-type {\n",
       "        vertical-align: middle;\n",
       "    }\n",
       "\n",
       "    .dataframe tbody tr th {\n",
       "        vertical-align: top;\n",
       "    }\n",
       "\n",
       "    .dataframe thead th {\n",
       "        text-align: right;\n",
       "    }\n",
       "</style>\n",
       "<table border=\"1\" class=\"dataframe\">\n",
       "  <thead>\n",
       "    <tr style=\"text-align: right;\">\n",
       "      <th></th>\n",
       "      <th>launch_name</th>\n",
       "      <th>uct_time</th>\n",
       "      <th>rocket_name</th>\n",
       "      <th>rocket_boosters</th>\n",
       "      <th>rocket_height</th>\n",
       "      <th>rocket_diameter</th>\n",
       "      <th>rocket_mass</th>\n",
       "      <th>launchpad_name</th>\n",
       "      <th>launchpad_region</th>\n",
       "      <th>launchpad_geo</th>\n",
       "      <th>landpad_name</th>\n",
       "      <th>landpad_type</th>\n",
       "      <th>landpad_region</th>\n",
       "      <th>landpad_geo</th>\n",
       "      <th>outcome</th>\n",
       "      <th>payloads_type</th>\n",
       "      <th>payloads_mass</th>\n",
       "      <th>payloads_orbit</th>\n",
       "    </tr>\n",
       "  </thead>\n",
       "  <tbody>\n",
       "    <tr>\n",
       "      <th>0</th>\n",
       "      <td>CRS-5</td>\n",
       "      <td>2015-01-10 09:47:00+00:00</td>\n",
       "      <td>Falcon 9</td>\n",
       "      <td>0</td>\n",
       "      <td>70.0</td>\n",
       "      <td>3.7</td>\n",
       "      <td>549054.000000</td>\n",
       "      <td>CCSFS SLC 40</td>\n",
       "      <td>Florida</td>\n",
       "      <td>(28.5618571, -80.577366)</td>\n",
       "      <td>JRTI-1</td>\n",
       "      <td>ASDS</td>\n",
       "      <td>Florida</td>\n",
       "      <td>(28.4104, -80.6188)</td>\n",
       "      <td>Success</td>\n",
       "      <td>Dragon 1.1</td>\n",
       "      <td>2395.0</td>\n",
       "      <td>ISS</td>\n",
       "    </tr>\n",
       "    <tr>\n",
       "      <th>1</th>\n",
       "      <td>CRS-6</td>\n",
       "      <td>2015-04-14 20:10:00+00:00</td>\n",
       "      <td>Falcon 9</td>\n",
       "      <td>0</td>\n",
       "      <td>70.0</td>\n",
       "      <td>3.7</td>\n",
       "      <td>549054.000000</td>\n",
       "      <td>CCSFS SLC 40</td>\n",
       "      <td>Florida</td>\n",
       "      <td>(28.5618571, -80.577366)</td>\n",
       "      <td>JRTI-1</td>\n",
       "      <td>ASDS</td>\n",
       "      <td>Florida</td>\n",
       "      <td>(28.4104, -80.6188)</td>\n",
       "      <td>Success</td>\n",
       "      <td>Dragon 1.1</td>\n",
       "      <td>1898.0</td>\n",
       "      <td>ISS</td>\n",
       "    </tr>\n",
       "    <tr>\n",
       "      <th>2</th>\n",
       "      <td>CRS-7</td>\n",
       "      <td>2015-06-28 14:21:00+00:00</td>\n",
       "      <td>Falcon 9</td>\n",
       "      <td>0</td>\n",
       "      <td>70.0</td>\n",
       "      <td>3.7</td>\n",
       "      <td>556404.541667</td>\n",
       "      <td>CCSFS SLC 40</td>\n",
       "      <td>Florida</td>\n",
       "      <td>(28.5618571, -80.577366)</td>\n",
       "      <td>OCISLY</td>\n",
       "      <td>ASDS</td>\n",
       "      <td>California</td>\n",
       "      <td>(33.7291858, -118.262015)</td>\n",
       "      <td>Failure</td>\n",
       "      <td>Dragon 1.1</td>\n",
       "      <td>1952.0</td>\n",
       "      <td>ISS</td>\n",
       "    </tr>\n",
       "    <tr>\n",
       "      <th>3</th>\n",
       "      <td>OG-2 Mission 2</td>\n",
       "      <td>2015-12-22 01:29:00+00:00</td>\n",
       "      <td>Falcon 9</td>\n",
       "      <td>0</td>\n",
       "      <td>70.0</td>\n",
       "      <td>3.7</td>\n",
       "      <td>549054.000000</td>\n",
       "      <td>CCSFS SLC 40</td>\n",
       "      <td>Florida</td>\n",
       "      <td>(28.5618571, -80.577366)</td>\n",
       "      <td>LZ-1</td>\n",
       "      <td>RTLS</td>\n",
       "      <td>Florida</td>\n",
       "      <td>(28.485833, -80.544444)</td>\n",
       "      <td>Success</td>\n",
       "      <td>Satellite</td>\n",
       "      <td>2034.0</td>\n",
       "      <td>LEO</td>\n",
       "    </tr>\n",
       "    <tr>\n",
       "      <th>4</th>\n",
       "      <td>Jason 3</td>\n",
       "      <td>2016-01-17 15:42:00+00:00</td>\n",
       "      <td>Falcon 9</td>\n",
       "      <td>0</td>\n",
       "      <td>70.0</td>\n",
       "      <td>3.7</td>\n",
       "      <td>549054.000000</td>\n",
       "      <td>VAFB SLC 4E</td>\n",
       "      <td>California</td>\n",
       "      <td>(34.632093, -120.610829)</td>\n",
       "      <td>JRTI</td>\n",
       "      <td>ASDS</td>\n",
       "      <td>Florida</td>\n",
       "      <td>(28.4104, -80.6188)</td>\n",
       "      <td>Success</td>\n",
       "      <td>Satellite</td>\n",
       "      <td>553.0</td>\n",
       "      <td>PO</td>\n",
       "    </tr>\n",
       "  </tbody>\n",
       "</table>\n",
       "</div>"
      ],
      "text/plain": [
       "      launch_name                  uct_time rocket_name  rocket_boosters  \\\n",
       "0           CRS-5 2015-01-10 09:47:00+00:00    Falcon 9                0   \n",
       "1           CRS-6 2015-04-14 20:10:00+00:00    Falcon 9                0   \n",
       "2           CRS-7 2015-06-28 14:21:00+00:00    Falcon 9                0   \n",
       "3  OG-2 Mission 2 2015-12-22 01:29:00+00:00    Falcon 9                0   \n",
       "4         Jason 3 2016-01-17 15:42:00+00:00    Falcon 9                0   \n",
       "\n",
       "   rocket_height  rocket_diameter    rocket_mass launchpad_name  \\\n",
       "0           70.0              3.7  549054.000000   CCSFS SLC 40   \n",
       "1           70.0              3.7  549054.000000   CCSFS SLC 40   \n",
       "2           70.0              3.7  556404.541667   CCSFS SLC 40   \n",
       "3           70.0              3.7  549054.000000   CCSFS SLC 40   \n",
       "4           70.0              3.7  549054.000000    VAFB SLC 4E   \n",
       "\n",
       "  launchpad_region             launchpad_geo landpad_name landpad_type  \\\n",
       "0          Florida  (28.5618571, -80.577366)       JRTI-1         ASDS   \n",
       "1          Florida  (28.5618571, -80.577366)       JRTI-1         ASDS   \n",
       "2          Florida  (28.5618571, -80.577366)       OCISLY         ASDS   \n",
       "3          Florida  (28.5618571, -80.577366)         LZ-1         RTLS   \n",
       "4       California  (34.632093, -120.610829)         JRTI         ASDS   \n",
       "\n",
       "  landpad_region                landpad_geo  outcome payloads_type  \\\n",
       "0        Florida        (28.4104, -80.6188)  Success    Dragon 1.1   \n",
       "1        Florida        (28.4104, -80.6188)  Success    Dragon 1.1   \n",
       "2     California  (33.7291858, -118.262015)  Failure    Dragon 1.1   \n",
       "3        Florida    (28.485833, -80.544444)  Success     Satellite   \n",
       "4        Florida        (28.4104, -80.6188)  Success     Satellite   \n",
       "\n",
       "   payloads_mass payloads_orbit  \n",
       "0         2395.0            ISS  \n",
       "1         1898.0            ISS  \n",
       "2         1952.0            ISS  \n",
       "3         2034.0            LEO  \n",
       "4          553.0             PO  "
      ]
     },
     "execution_count": 62,
     "metadata": {},
     "output_type": "execute_result"
    }
   ],
   "source": [
    "# TEST\n",
    "raw_df.head()"
   ]
  },
  {
   "cell_type": "markdown",
   "metadata": {},
   "source": [
    "Next, you have to unpack `launchpad_geo` and `landpad_geo` to xy coordinates. **Remember**: drop `launchpad_geo` and `landpad_geo` after unpack."
   ]
  },
  {
   "cell_type": "code",
   "execution_count": 63,
   "metadata": {},
   "outputs": [],
   "source": [
    "def str2tuple(s: str) -> tuple:\n",
    "    # YOUR CODE HERE\n",
    "    # raise NotImplementedError()\n",
    "    return tuple(map(float, s.strip('()').split(', ')))"
   ]
  },
  {
   "cell_type": "code",
   "execution_count": 64,
   "metadata": {},
   "outputs": [],
   "source": [
    "# Apply str2tuple\n",
    "raw_df[\"launchpad_geo\"] = raw_df[\"launchpad_geo\"].apply(str2tuple)\n",
    "raw_df[\"landpad_geo\"] = raw_df[\"landpad_geo\"].apply(str2tuple)"
   ]
  },
  {
   "cell_type": "code",
   "execution_count": 65,
   "metadata": {},
   "outputs": [],
   "source": [
    "# Unpack\n",
    "raw_df[['launchpad_geo_x', 'launchpad_geo_y']] = pd.DataFrame(raw_df['launchpad_geo'].tolist(), index=raw_df.index)\n",
    "raw_df[['landpad_geo_x', 'landpad_geo_y']] = pd.DataFrame(raw_df['landpad_geo'].tolist(), index=raw_df.index)"
   ]
  },
  {
   "cell_type": "code",
   "execution_count": 66,
   "metadata": {},
   "outputs": [
    {
     "data": {
      "text/html": [
       "<div>\n",
       "<style scoped>\n",
       "    .dataframe tbody tr th:only-of-type {\n",
       "        vertical-align: middle;\n",
       "    }\n",
       "\n",
       "    .dataframe tbody tr th {\n",
       "        vertical-align: top;\n",
       "    }\n",
       "\n",
       "    .dataframe thead th {\n",
       "        text-align: right;\n",
       "    }\n",
       "</style>\n",
       "<table border=\"1\" class=\"dataframe\">\n",
       "  <thead>\n",
       "    <tr style=\"text-align: right;\">\n",
       "      <th></th>\n",
       "      <th>launch_name</th>\n",
       "      <th>uct_time</th>\n",
       "      <th>rocket_name</th>\n",
       "      <th>rocket_boosters</th>\n",
       "      <th>rocket_height</th>\n",
       "      <th>rocket_diameter</th>\n",
       "      <th>rocket_mass</th>\n",
       "      <th>launchpad_name</th>\n",
       "      <th>launchpad_region</th>\n",
       "      <th>landpad_name</th>\n",
       "      <th>landpad_type</th>\n",
       "      <th>landpad_region</th>\n",
       "      <th>outcome</th>\n",
       "      <th>payloads_type</th>\n",
       "      <th>payloads_mass</th>\n",
       "      <th>payloads_orbit</th>\n",
       "      <th>launchpad_geo_x</th>\n",
       "      <th>launchpad_geo_y</th>\n",
       "      <th>landpad_geo_x</th>\n",
       "      <th>landpad_geo_y</th>\n",
       "    </tr>\n",
       "  </thead>\n",
       "  <tbody>\n",
       "    <tr>\n",
       "      <th>0</th>\n",
       "      <td>CRS-5</td>\n",
       "      <td>2015-01-10 09:47:00+00:00</td>\n",
       "      <td>Falcon 9</td>\n",
       "      <td>0</td>\n",
       "      <td>70.0</td>\n",
       "      <td>3.7</td>\n",
       "      <td>549054.000000</td>\n",
       "      <td>CCSFS SLC 40</td>\n",
       "      <td>Florida</td>\n",
       "      <td>JRTI-1</td>\n",
       "      <td>ASDS</td>\n",
       "      <td>Florida</td>\n",
       "      <td>Success</td>\n",
       "      <td>Dragon 1.1</td>\n",
       "      <td>2395.0</td>\n",
       "      <td>ISS</td>\n",
       "      <td>28.561857</td>\n",
       "      <td>-80.577366</td>\n",
       "      <td>28.410400</td>\n",
       "      <td>-80.618800</td>\n",
       "    </tr>\n",
       "    <tr>\n",
       "      <th>1</th>\n",
       "      <td>CRS-6</td>\n",
       "      <td>2015-04-14 20:10:00+00:00</td>\n",
       "      <td>Falcon 9</td>\n",
       "      <td>0</td>\n",
       "      <td>70.0</td>\n",
       "      <td>3.7</td>\n",
       "      <td>549054.000000</td>\n",
       "      <td>CCSFS SLC 40</td>\n",
       "      <td>Florida</td>\n",
       "      <td>JRTI-1</td>\n",
       "      <td>ASDS</td>\n",
       "      <td>Florida</td>\n",
       "      <td>Success</td>\n",
       "      <td>Dragon 1.1</td>\n",
       "      <td>1898.0</td>\n",
       "      <td>ISS</td>\n",
       "      <td>28.561857</td>\n",
       "      <td>-80.577366</td>\n",
       "      <td>28.410400</td>\n",
       "      <td>-80.618800</td>\n",
       "    </tr>\n",
       "    <tr>\n",
       "      <th>2</th>\n",
       "      <td>CRS-7</td>\n",
       "      <td>2015-06-28 14:21:00+00:00</td>\n",
       "      <td>Falcon 9</td>\n",
       "      <td>0</td>\n",
       "      <td>70.0</td>\n",
       "      <td>3.7</td>\n",
       "      <td>556404.541667</td>\n",
       "      <td>CCSFS SLC 40</td>\n",
       "      <td>Florida</td>\n",
       "      <td>OCISLY</td>\n",
       "      <td>ASDS</td>\n",
       "      <td>California</td>\n",
       "      <td>Failure</td>\n",
       "      <td>Dragon 1.1</td>\n",
       "      <td>1952.0</td>\n",
       "      <td>ISS</td>\n",
       "      <td>28.561857</td>\n",
       "      <td>-80.577366</td>\n",
       "      <td>33.729186</td>\n",
       "      <td>-118.262015</td>\n",
       "    </tr>\n",
       "    <tr>\n",
       "      <th>3</th>\n",
       "      <td>OG-2 Mission 2</td>\n",
       "      <td>2015-12-22 01:29:00+00:00</td>\n",
       "      <td>Falcon 9</td>\n",
       "      <td>0</td>\n",
       "      <td>70.0</td>\n",
       "      <td>3.7</td>\n",
       "      <td>549054.000000</td>\n",
       "      <td>CCSFS SLC 40</td>\n",
       "      <td>Florida</td>\n",
       "      <td>LZ-1</td>\n",
       "      <td>RTLS</td>\n",
       "      <td>Florida</td>\n",
       "      <td>Success</td>\n",
       "      <td>Satellite</td>\n",
       "      <td>2034.0</td>\n",
       "      <td>LEO</td>\n",
       "      <td>28.561857</td>\n",
       "      <td>-80.577366</td>\n",
       "      <td>28.485833</td>\n",
       "      <td>-80.544444</td>\n",
       "    </tr>\n",
       "    <tr>\n",
       "      <th>4</th>\n",
       "      <td>Jason 3</td>\n",
       "      <td>2016-01-17 15:42:00+00:00</td>\n",
       "      <td>Falcon 9</td>\n",
       "      <td>0</td>\n",
       "      <td>70.0</td>\n",
       "      <td>3.7</td>\n",
       "      <td>549054.000000</td>\n",
       "      <td>VAFB SLC 4E</td>\n",
       "      <td>California</td>\n",
       "      <td>JRTI</td>\n",
       "      <td>ASDS</td>\n",
       "      <td>Florida</td>\n",
       "      <td>Success</td>\n",
       "      <td>Satellite</td>\n",
       "      <td>553.0</td>\n",
       "      <td>PO</td>\n",
       "      <td>34.632093</td>\n",
       "      <td>-120.610829</td>\n",
       "      <td>28.410400</td>\n",
       "      <td>-80.618800</td>\n",
       "    </tr>\n",
       "  </tbody>\n",
       "</table>\n",
       "</div>"
      ],
      "text/plain": [
       "      launch_name                  uct_time rocket_name  rocket_boosters  \\\n",
       "0           CRS-5 2015-01-10 09:47:00+00:00    Falcon 9                0   \n",
       "1           CRS-6 2015-04-14 20:10:00+00:00    Falcon 9                0   \n",
       "2           CRS-7 2015-06-28 14:21:00+00:00    Falcon 9                0   \n",
       "3  OG-2 Mission 2 2015-12-22 01:29:00+00:00    Falcon 9                0   \n",
       "4         Jason 3 2016-01-17 15:42:00+00:00    Falcon 9                0   \n",
       "\n",
       "   rocket_height  rocket_diameter    rocket_mass launchpad_name  \\\n",
       "0           70.0              3.7  549054.000000   CCSFS SLC 40   \n",
       "1           70.0              3.7  549054.000000   CCSFS SLC 40   \n",
       "2           70.0              3.7  556404.541667   CCSFS SLC 40   \n",
       "3           70.0              3.7  549054.000000   CCSFS SLC 40   \n",
       "4           70.0              3.7  549054.000000    VAFB SLC 4E   \n",
       "\n",
       "  launchpad_region landpad_name landpad_type landpad_region  outcome  \\\n",
       "0          Florida       JRTI-1         ASDS        Florida  Success   \n",
       "1          Florida       JRTI-1         ASDS        Florida  Success   \n",
       "2          Florida       OCISLY         ASDS     California  Failure   \n",
       "3          Florida         LZ-1         RTLS        Florida  Success   \n",
       "4       California         JRTI         ASDS        Florida  Success   \n",
       "\n",
       "  payloads_type  payloads_mass payloads_orbit  launchpad_geo_x  \\\n",
       "0    Dragon 1.1         2395.0            ISS        28.561857   \n",
       "1    Dragon 1.1         1898.0            ISS        28.561857   \n",
       "2    Dragon 1.1         1952.0            ISS        28.561857   \n",
       "3     Satellite         2034.0            LEO        28.561857   \n",
       "4     Satellite          553.0             PO        34.632093   \n",
       "\n",
       "   launchpad_geo_y  landpad_geo_x  landpad_geo_y  \n",
       "0       -80.577366      28.410400     -80.618800  \n",
       "1       -80.577366      28.410400     -80.618800  \n",
       "2       -80.577366      33.729186    -118.262015  \n",
       "3       -80.577366      28.485833     -80.544444  \n",
       "4      -120.610829      28.410400     -80.618800  "
      ]
     },
     "execution_count": 66,
     "metadata": {},
     "output_type": "execute_result"
    }
   ],
   "source": [
    "raw_df = raw_df.drop([\"launchpad_geo\", \"landpad_geo\"], axis=1)\n",
    "raw_df.head()"
   ]
  },
  {
   "cell_type": "markdown",
   "metadata": {},
   "source": [
    "## Encoding categorical (2 pts)"
   ]
  },
  {
   "cell_type": "markdown",
   "metadata": {},
   "source": [
    "In this section, you have to encode your attributes, which have a categorical type. To choose the right encoding method, you have to decide if a given attribute is `ordinal` or `nominal`. For `ordinal` attributes, you should use `one hot encoding`, and for `nominal` attributes, you should use `label encoding`."
   ]
  },
  {
   "cell_type": "markdown",
   "metadata": {},
   "source": [
    "Step 01: `launch_name` checking, is this `ordinal` or `nominal`?"
   ]
  },
  {
   "cell_type": "markdown",
   "metadata": {},
   "source": [
    "YOUR ANSWER HERE\n",
    "- nominal"
   ]
  },
  {
   "cell_type": "code",
   "execution_count": 67,
   "metadata": {},
   "outputs": [],
   "source": [
    "# YOUR CODE HERE\n",
    "# raise NotImplementedError()\n",
    "\n",
    "col_name = 'launch_name'\n",
    "\n",
    "df_dummies = raw_df[col_name].str.get_dummies()\n",
    "df_dummies = df_dummies.add_prefix(col_name + '_')\n",
    "raw_df = pd.concat([raw_df.drop(columns = col_name), df_dummies], axis=1)\n",
    "\n"
   ]
  },
  {
   "cell_type": "markdown",
   "metadata": {},
   "source": [
    "Step 02: `rocket_name` checking, is this `ordinal` or `nominal`?"
   ]
  },
  {
   "cell_type": "markdown",
   "metadata": {},
   "source": [
    "YOUR ANSWER HERE"
   ]
  },
  {
   "cell_type": "code",
   "execution_count": 68,
   "metadata": {},
   "outputs": [],
   "source": [
    "# YOUR CODE HERE\n",
    "# raise NotImplementedError()\n",
    "col_name = 'rocket_name'\n",
    "\n",
    "df_dummies = raw_df[col_name].str.get_dummies()\n",
    "df_dummies = df_dummies.add_prefix(col_name + '_')\n",
    "raw_df = pd.concat([raw_df.drop(columns = col_name), df_dummies], axis=1)"
   ]
  },
  {
   "cell_type": "markdown",
   "metadata": {},
   "source": [
    "Step 03: `launchpad_name` checking, is this `ordinal` or `nominal`?"
   ]
  },
  {
   "cell_type": "markdown",
   "metadata": {},
   "source": [
    "YOUR ANSWER HERE"
   ]
  },
  {
   "cell_type": "code",
   "execution_count": 69,
   "metadata": {},
   "outputs": [],
   "source": [
    "# YOUR CODE HERE\n",
    "# raise NotImplementedError()\n",
    "col_name = 'launchpad_name'\n",
    "\n",
    "df_dummies = raw_df[col_name].str.get_dummies()\n",
    "df_dummies = df_dummies.add_prefix(col_name + '_')\n",
    "raw_df = pd.concat([raw_df.drop(columns = col_name), df_dummies], axis=1)"
   ]
  },
  {
   "cell_type": "markdown",
   "metadata": {},
   "source": [
    "Step 04: `launchpad_region` checking, is this `ordinal` or `nominal`?"
   ]
  },
  {
   "cell_type": "markdown",
   "metadata": {},
   "source": [
    "YOUR ANSWER HERE"
   ]
  },
  {
   "cell_type": "code",
   "execution_count": 70,
   "metadata": {},
   "outputs": [],
   "source": [
    "# YOUR CODE HERE\n",
    "# raise NotImplementedError()\n",
    "\n",
    "col_name = 'launchpad_region'\n",
    "\n",
    "df_dummies = raw_df[col_name].str.get_dummies()\n",
    "df_dummies = df_dummies.add_prefix(col_name + '_')\n",
    "raw_df = pd.concat([raw_df.drop(columns = col_name), df_dummies], axis=1)"
   ]
  },
  {
   "cell_type": "markdown",
   "metadata": {},
   "source": [
    "Step 05: `landpad_name` checking, is this `ordinal` or `nominal`?"
   ]
  },
  {
   "cell_type": "markdown",
   "metadata": {},
   "source": [
    "YOUR ANSWER HERE"
   ]
  },
  {
   "cell_type": "code",
   "execution_count": 71,
   "metadata": {},
   "outputs": [],
   "source": [
    "# YOUR CODE HERE\n",
    "# raise NotImplementedError()\n",
    "\n",
    "col_name = 'landpad_name'\n",
    "\n",
    "df_dummies = raw_df[col_name].str.get_dummies()\n",
    "df_dummies = df_dummies.add_prefix(col_name + '_')\n",
    "raw_df = pd.concat([raw_df.drop(columns = col_name), df_dummies], axis=1)"
   ]
  },
  {
   "cell_type": "markdown",
   "metadata": {},
   "source": [
    "Step 06: `landpad_type` checking, is this `ordinal` or `nominal`?"
   ]
  },
  {
   "cell_type": "markdown",
   "metadata": {},
   "source": [
    "YOUR ANSWER HERE"
   ]
  },
  {
   "cell_type": "code",
   "execution_count": 72,
   "metadata": {},
   "outputs": [],
   "source": [
    "# YOUR CODE HERE\n",
    "# raise NotImplementedError()\n",
    "\n",
    "col_name = 'landpad_type'\n",
    "\n",
    "df_dummies = raw_df[col_name].str.get_dummies()\n",
    "df_dummies = df_dummies.add_prefix(col_name + '_')\n",
    "raw_df = pd.concat([raw_df.drop(columns = col_name), df_dummies], axis=1)"
   ]
  },
  {
   "cell_type": "markdown",
   "metadata": {},
   "source": [
    "Step 07: `landpad_region` checking, is this `ordinal` or `nominal`?"
   ]
  },
  {
   "cell_type": "markdown",
   "metadata": {},
   "source": [
    "YOUR ANSWER HERE"
   ]
  },
  {
   "cell_type": "code",
   "execution_count": 73,
   "metadata": {},
   "outputs": [],
   "source": [
    "# YOUR CODE HERE\n",
    "# raise NotImplementedError()\n",
    "\n",
    "col_name = 'landpad_region'\n",
    "\n",
    "df_dummies = raw_df[col_name].str.get_dummies()\n",
    "df_dummies = df_dummies.add_prefix(col_name + '_')\n",
    "raw_df = pd.concat([raw_df.drop(columns = col_name), df_dummies], axis=1)"
   ]
  },
  {
   "cell_type": "markdown",
   "metadata": {},
   "source": [
    "Step 08: `outcome` checking, is this `ordinal` or `nominal`?"
   ]
  },
  {
   "cell_type": "markdown",
   "metadata": {},
   "source": [
    "YOUR ANSWER HERE"
   ]
  },
  {
   "cell_type": "code",
   "execution_count": 74,
   "metadata": {},
   "outputs": [],
   "source": [
    "# YOUR CODE HERE\n",
    "# raise NotImplementedError()\n",
    "\n",
    "col_name = 'outcome'\n",
    "\n",
    "df_dummies = raw_df[col_name].str.get_dummies()\n",
    "df_dummies = df_dummies.add_prefix(col_name + '_')\n",
    "raw_df = pd.concat([raw_df.drop(columns = col_name), df_dummies], axis=1)"
   ]
  },
  {
   "cell_type": "markdown",
   "metadata": {},
   "source": [
    "Step 09: `payloads_type` checking, is this `ordinal` or `nominal`?"
   ]
  },
  {
   "cell_type": "markdown",
   "metadata": {},
   "source": [
    "YOUR ANSWER HERE"
   ]
  },
  {
   "cell_type": "code",
   "execution_count": 75,
   "metadata": {},
   "outputs": [],
   "source": [
    "# YOUR CODE HERE\n",
    "# raise NotImplementedError()\n",
    "\n",
    "col_name = 'payloads_type'\n",
    "\n",
    "df_dummies = raw_df[col_name].str.get_dummies()\n",
    "df_dummies = df_dummies.add_prefix(col_name + '_')\n",
    "raw_df = pd.concat([raw_df.drop(columns = col_name), df_dummies], axis=1)"
   ]
  },
  {
   "cell_type": "markdown",
   "metadata": {},
   "source": [
    "Step 10: `payloads_orbit` checking, is this `ordinal` or `nominal`?"
   ]
  },
  {
   "cell_type": "markdown",
   "metadata": {},
   "source": [
    "YOUR ANSWER HERE"
   ]
  },
  {
   "cell_type": "code",
   "execution_count": 76,
   "metadata": {},
   "outputs": [],
   "source": [
    "# YOUR CODE HERE\n",
    "# raise NotImplementedError()\n",
    "\n",
    "col_name = 'payloads_orbit'\n",
    "\n",
    "df_dummies = raw_df[col_name].str.get_dummies()\n",
    "df_dummies = df_dummies.add_prefix(col_name + '_')\n",
    "raw_df = pd.concat([raw_df.drop(columns = col_name), df_dummies], axis=1)"
   ]
  },
  {
   "cell_type": "markdown",
   "metadata": {},
   "source": [
    "After encoding for categorical columns, you check again data types, are there any columns whose data types are not suitable for further processing?"
   ]
  },
  {
   "cell_type": "code",
   "execution_count": 77,
   "metadata": {},
   "outputs": [
    {
     "data": {
      "text/plain": [
       "uct_time               datetime64[ns, UTC]\n",
       "rocket_boosters                      int64\n",
       "rocket_height                      float64\n",
       "rocket_diameter                    float64\n",
       "rocket_mass                        float64\n",
       "                              ...         \n",
       "payloads_orbit_MEO                   int64\n",
       "payloads_orbit_PO                    int64\n",
       "payloads_orbit_SSO                   int64\n",
       "payloads_orbit_TLI                   int64\n",
       "payloads_orbit_VLEO                  int64\n",
       "Length: 185, dtype: object"
      ]
     },
     "execution_count": 77,
     "metadata": {},
     "output_type": "execute_result"
    }
   ],
   "source": [
    "# YOUR CODE HERE\n",
    "# raise NotImplementedError()\n",
    "\n",
    "column_types = raw_df.dtypes\n",
    "column_types"
   ]
  },
  {
   "cell_type": "code",
   "execution_count": 78,
   "metadata": {},
   "outputs": [],
   "source": [
    "# TEST\n",
    "# Temporally disabled\n",
    "# dtypes = raw_df.dtypes\n",
    "# int_cols = set(dtypes[(dtypes==np.int32) | (dtypes==np.int64)].index)\n",
    "# assert adler32(str(len(int_cols)).encode()) == 9764963\n",
    "\n",
    "# float_cols = set(dtypes[(dtypes==np.float32) | (dtypes==np.float64)].index)\n",
    "# assert adler32(str(len(float_cols )).encode()) == 3735609"
   ]
  },
  {
   "cell_type": "code",
   "execution_count": 86,
   "metadata": {},
   "outputs": [
    {
     "ename": "SyntaxError",
     "evalue": "unmatched ')' (3660873308.py, line 4)",
     "output_type": "error",
     "traceback": [
      "\u001b[1;36m  Cell \u001b[1;32mIn[86], line 4\u001b[1;36m\u001b[0m\n\u001b[1;33m    for number in range(1800,2000)):\u001b[0m\n\u001b[1;37m                                  ^\u001b[0m\n\u001b[1;31mSyntaxError\u001b[0m\u001b[1;31m:\u001b[0m unmatched ')'\n"
     ]
    }
   ],
   "source": [
    "# flag\n",
    "# raw_df.to_csv(\"1your_output_file.csv\", index=False)\n",
    "adler32(str(3.6).encode())\n",
    "for number in range(1800, 200):\n",
    "    current_number = number / 10.0\n",
    "\n",
    "    a = adler32(str(current_number).encode())\n",
    "    # print(a)\n",
    "    if (a == 20316314):\n",
    "        print(current_number)"
   ]
  },
  {
   "cell_type": "markdown",
   "metadata": {},
   "source": [
    "## Discretization techniques (2 pts)"
   ]
  },
  {
   "cell_type": "markdown",
   "metadata": {},
   "source": [
    "Let's first see about your filled data."
   ]
  },
  {
   "cell_type": "code",
   "execution_count": null,
   "metadata": {},
   "outputs": [],
   "source": [
    "raw_df.head()"
   ]
  },
  {
   "cell_type": "markdown",
   "metadata": {},
   "source": [
    "### Equal Width Discretization"
   ]
  },
  {
   "cell_type": "markdown",
   "metadata": {},
   "source": [
    "Fixed-width discretization is one common type of discretization approach in which the width or size of all the intervals remains the same. Equal-width discretization is a type of unsupervised discretization technique."
   ]
  },
  {
   "cell_type": "markdown",
   "metadata": {},
   "source": [
    "We will only perform discretization on the `payloads_mass` column. Let’s first plot a histogram for it."
   ]
  },
  {
   "cell_type": "code",
   "execution_count": 80,
   "metadata": {},
   "outputs": [
    {
     "data": {
      "image/png": "[encoded data removed]",
      "text/plain": [
       "<Figure size 1200x800 with 1 Axes>"
      ]
     },
     "metadata": {},
     "output_type": "display_data"
    }
   ],
   "source": [
    "sns.distplot(np.log(raw_df['payloads_mass']))\n",
    "plt.title(\"Payload mass distribution.\")\n",
    "plt.show()"
   ]
  },
  {
   "cell_type": "markdown",
   "metadata": {},
   "source": [
    "The histogram for the price column shows that our dataset is negatively skewed. We can use discretization on this type of data distribution."
   ]
  },
  {
   "cell_type": "markdown",
   "metadata": {},
   "source": [
    "- Step 01: Find the total payloads mass range by subtracting the minimum mass from the maximum mass."
   ]
  },
  {
   "cell_type": "code",
   "execution_count": 81,
   "metadata": {},
   "outputs": [
    {
     "data": {
      "text/plain": [
       "16615.0"
      ]
     },
     "execution_count": 81,
     "metadata": {},
     "output_type": "execute_result"
    }
   ],
   "source": [
    "# YOUR CODE HERE\n",
    "# raise NotImplementedError()\n",
    "# mass_range = ?\n",
    "\n",
    "# Tính phạm vi tổng khối lượng của payloads\n",
    "mass_range = raw_df['payloads_mass'].max() - raw_df['payloads_mass'].min()\n",
    "mass_range"
   ]
  },
  {
   "cell_type": "code",
   "execution_count": 82,
   "metadata": {},
   "outputs": [],
   "source": [
    "# TEST\n",
    "assert adler32(str(mass_range).encode()) == 94306658"
   ]
  },
  {
   "cell_type": "markdown",
   "metadata": {},
   "source": [
    "- Step 02: Calculate the upper and upper bound for payloads\n",
    "\n",
    "*Hint*: The minimum payloads will be rounded off to floor, while the maximum payloads will be rounded off to ceil."
   ]
  },
  {
   "cell_type": "code",
   "execution_count": 85,
   "metadata": {},
   "outputs": [
    {
     "data": {
      "text/plain": [
       "180.0"
      ]
     },
     "execution_count": 85,
     "metadata": {},
     "output_type": "execute_result"
    }
   ],
   "source": [
    "# YOUR CODE HERE\n",
    "# raise NotImplementedError()\n",
    "# lower_interval =?\n",
    "# upper_interval =?\n",
    "\n",
    "# Tìm giá trị nhỏ nhất và lớn nhất của khối lượng hàng hóa\n",
    "min_mass = raw_df['payloads_mass'].min()\n",
    "max_mass = raw_df['payloads_mass'].max()\n",
    "\n",
    "# Giới hạn dưới là giá trị nhỏ nhất làm tròn xuống\n",
    "lower_interval = np.floor(min_mass)\n",
    "\n",
    "# Giới hạn trên là giá trị lớn nhất làm tròn lên\n",
    "upper_interval = np.ceil(max_mass)\n",
    "lower_interval"
   ]
  },
  {
   "cell_type": "code",
   "execution_count": 84,
   "metadata": {},
   "outputs": [
    {
     "ename": "AssertionError",
     "evalue": "",
     "output_type": "error",
     "traceback": [
      "\u001b[1;31m---------------------------------------------------------------------------\u001b[0m",
      "\u001b[1;31mAssertionError\u001b[0m                            Traceback (most recent call last)",
      "Cell \u001b[1;32mIn[84], line 2\u001b[0m\n\u001b[0;32m      1\u001b[0m \u001b[38;5;66;03m# TEST\u001b[39;00m\n\u001b[1;32m----> 2\u001b[0m \u001b[38;5;28;01massert\u001b[39;00m adler32(\u001b[38;5;28mstr\u001b[39m(lower_interval)\u001b[38;5;241m.\u001b[39mencode()) \u001b[38;5;241m==\u001b[39m \u001b[38;5;241m20316314\u001b[39m\n\u001b[0;32m      3\u001b[0m \u001b[38;5;28;01massert\u001b[39;00m adler32(\u001b[38;5;28mstr\u001b[39m(upper_interval)\u001b[38;5;241m.\u001b[39mencode()) \u001b[38;5;241m==\u001b[39m \u001b[38;5;241m52297997\u001b[39m\n",
      "\u001b[1;31mAssertionError\u001b[0m: "
     ]
    }
   ],
   "source": [
    "# TEST\n",
    "assert adler32(str(lower_interval).encode()) == 20316314\n",
    "assert adler32(str(upper_interval).encode()) == 52297997"
   ]
  },
  {
   "cell_type": "markdown",
   "metadata": {},
   "source": [
    "- Step 3: Set up bins for visualization. We will make **4 bins** (you can understand why we need 4 bins by experimenting with 4 to 10 bins or the equation below). To generate bins, we will begin with the minimum value and then add the bin interval or length to it. To calculate the second interval, add the interval length to the upper limit of the first interval, and so on.\n",
    "\n",
    "$$\n",
    "\\text{no\\_of\\_bins} = \\dfrac{\\max - \\min}{h} = \\dfrac{\\max - \\min}{2 * IQR * n^{-1/3}} = \\dfrac{\\max - \\min}{2 * (Q3 - Q2) * n^{-1/3}}\n",
    "$$"
   ]
  },
  {
   "cell_type": "code",
   "execution_count": null,
   "metadata": {},
   "outputs": [],
   "source": [
    "# YOUR CODE HERE\n",
    "raise NotImplementedError()\n",
    "# interval_size =?\n",
    "# total_bins =?"
   ]
  },
  {
   "cell_type": "markdown",
   "metadata": {},
   "source": [
    "And you should give a label for each bin such as `bin_no_1`, `bin_no_2`, etc."
   ]
  },
  {
   "cell_type": "code",
   "execution_count": null,
   "metadata": {},
   "outputs": [],
   "source": [
    "# YOUR CODE HERE\n",
    "raise NotImplementedError()"
   ]
  },
  {
   "cell_type": "markdown",
   "metadata": {},
   "source": [
    "And maybe you want to use the Pandas libraries [`cut()` method](https://pandas.pydata.org/docs/reference/api/pandas.cut.html), it allows you to convert the continuous column values to numeric bin values."
   ]
  },
  {
   "cell_type": "code",
   "execution_count": null,
   "metadata": {},
   "outputs": [],
   "source": [
    "# YOUR CODE HERE\n",
    "raise NotImplementedError()"
   ]
  },
  {
   "cell_type": "markdown",
   "metadata": {},
   "source": [
    "Now, we will test by using a bar plot that shows the frequency of payloads mass in each bin."
   ]
  },
  {
   "cell_type": "code",
   "execution_count": null,
   "metadata": {},
   "outputs": [],
   "source": [
    "# TEST\n",
    "raw_df.groupby('payloads_mass_bins')['payloads_mass'].count().plot.bar()\n",
    "plt.title(\"Payloads mass discreted histogram.\")\n",
    "plt.show()"
   ]
  },
  {
   "cell_type": "markdown",
   "metadata": {},
   "source": [
    "**TODO: Describe your observation from chart**"
   ]
  },
  {
   "cell_type": "markdown",
   "metadata": {},
   "source": [
    "YOUR ANSWER HERE"
   ]
  },
  {
   "cell_type": "markdown",
   "metadata": {},
   "source": [
    "### Equal Frequency Discretization"
   ]
  },
  {
   "cell_type": "markdown",
   "metadata": {},
   "source": [
    "Equal frequency discretization is a discretization approach in which the bin width is automatically adjusted so that each bin contains exactly the same amount of records and has the same frequency. As a result, the bin intervals will vary. In this part, you'll apply it to the discrete `payloads_mass` column."
   ]
  },
  {
   "cell_type": "markdown",
   "metadata": {},
   "source": [
    "- Step 01: To convert a continuous column into equal frequency discretized bins, you maybe want to use the [\"qcut()\" method](https://pandas.pydata.org/docs/reference/api/pandas.qcut.html)."
   ]
  },
  {
   "cell_type": "code",
   "execution_count": null,
   "metadata": {},
   "outputs": [],
   "source": [
    "# YOUR CODE HERE\n",
    "raise NotImplementedError()"
   ]
  },
  {
   "cell_type": "markdown",
   "metadata": {},
   "source": [
    "- Step 02: Create bin labels"
   ]
  },
  {
   "cell_type": "code",
   "execution_count": null,
   "metadata": {},
   "outputs": [],
   "source": [
    "# YOUR CODE HERE\n",
    "raise NotImplementedError()"
   ]
  },
  {
   "cell_type": "markdown",
   "metadata": {},
   "source": [
    "- Step 03: Apply the Pandas libraries [`cut()` method](https://pandas.pydata.org/docs/reference/api/pandas.cut.html), it allows you to convert the continuous column values to numeric bin values."
   ]
  },
  {
   "cell_type": "code",
   "execution_count": null,
   "metadata": {},
   "outputs": [],
   "source": [
    "# YOUR CODE HERE\n",
    "raise NotImplementedError()"
   ]
  },
  {
   "cell_type": "markdown",
   "metadata": {},
   "source": [
    "Now, we will test by using a bar plot that shows the frequency of payloads mass in each bin."
   ]
  },
  {
   "cell_type": "code",
   "execution_count": null,
   "metadata": {},
   "outputs": [],
   "source": [
    "# TEST\n",
    "raw_df.groupby('payloads_mass_bins')['payloads_mass'].count().plot.bar()\n",
    "plt.show()"
   ]
  },
  {
   "cell_type": "markdown",
   "metadata": {},
   "source": [
    "**Bonus points** Study about K-Means Discretization, and Decision Tree Discretization."
   ]
  },
  {
   "cell_type": "markdown",
   "metadata": {},
   "source": [
    "YOUR ANSWER HERE (Optional)"
   ]
  },
  {
   "cell_type": "code",
   "execution_count": null,
   "metadata": {},
   "outputs": [],
   "source": [
    "# YOUR CODE HERE (Optional)\n",
    "# raise NotImplementedError()"
   ]
  },
  {
   "cell_type": "code",
   "execution_count": null,
   "metadata": {},
   "outputs": [],
   "source": [
    "# Exclude \"bins\" for next section\n",
    "raw_df = raw_df.drop([\"payloads_mass_bins\"], axis=1)"
   ]
  },
  {
   "cell_type": "markdown",
   "metadata": {},
   "source": [
    "## Outlier handling techniques (1 pts)"
   ]
  },
  {
   "cell_type": "markdown",
   "metadata": {},
   "source": [
    "There are some techniques that you can use to handle outliers:\n",
    "- Totally removing the outliers from the dataset.\n",
    "- Treating outliers as missing values, and then apply any techniques to filter them.\n",
    "- Applying discretization techniques to the dataset that will include the outlier along with other data points at the tail.\n",
    "- Capping and replacing them with maximum and minimum values that can be found via some techniques."
   ]
  },
  {
   "cell_type": "markdown",
   "metadata": {},
   "source": [
    "### Outlier Trimming"
   ]
  },
  {
   "cell_type": "markdown",
   "metadata": {},
   "source": [
    "Outlier trimming is an outlier handling technique that simply removes the outliers beyond a certain threshold value. And the easiest way to determine this threshold value is to use the IQR."
   ]
  },
  {
   "cell_type": "markdown",
   "metadata": {},
   "source": [
    "Let’s remove the outliers from the `payloads_mass` column of this dataset."
   ]
  },
  {
   "cell_type": "markdown",
   "metadata": {},
   "source": [
    "- Step 01: Using box plot to visualize the outliers."
   ]
  },
  {
   "cell_type": "code",
   "execution_count": null,
   "metadata": {},
   "outputs": [],
   "source": [
    "# YOUR CODE HERE"
   ]
  },
  {
   "cell_type": "markdown",
   "metadata": {},
   "source": [
    "Very lucky, we have no outliers. :D"
   ]
  },
  {
   "cell_type": "markdown",
   "metadata": {},
   "source": [
    "- Step 02: Calculate IQR and determine the lower bound and upper bound for `payloads_mass`"
   ]
  },
  {
   "cell_type": "code",
   "execution_count": null,
   "metadata": {},
   "outputs": [],
   "source": [
    "IQR = raw_df[\"payloads_mass\"].quantile(0.75) - raw_df[\"payloads_mass\"].quantile(0.25)\n",
    "\n",
    "lower_payloads_mass_limit = raw_df[\"payloads_mass\"].quantile(0.25) - (IQR * 1.5)\n",
    "upper_payloads_mass_limit = raw_df[\"payloads_mass\"].quantile(0.75) + (IQR * 1.5)\n",
    "\n",
    "print(f\"The lower bound for payloads limitation: {lower_payloads_mass_limit}\")\n",
    "print(f\"The upper bound for payloads limitation: {upper_payloads_mass_limit}\")"
   ]
  },
  {
   "cell_type": "markdown",
   "metadata": {},
   "source": [
    "- Step 03: Construct rule for trimming outliers."
   ]
  },
  {
   "cell_type": "code",
   "execution_count": null,
   "metadata": {},
   "outputs": [],
   "source": [
    "payloadsmass_outliers = np.where(\n",
    "    raw_df[\"payloads_mass\"] > upper_payloads_mass_limit,\n",
    "    True,\n",
    "    np.where(raw_df[\"payloads_mass\"] < lower_payloads_mass_limit, True, False),\n",
    ")"
   ]
  },
  {
   "cell_type": "markdown",
   "metadata": {},
   "source": [
    "- Step 04: Trimming outliers"
   ]
  },
  {
   "cell_type": "code",
   "execution_count": null,
   "metadata": {},
   "outputs": [],
   "source": [
    "rawdf_without_payloadsmass_outliers = raw_df.loc[~(payloadsmass_outliers), ]\n",
    "\n",
    "raw_df.shape, payloadsmass_outliers.shape"
   ]
  },
  {
   "cell_type": "markdown",
   "metadata": {},
   "source": [
    "TODO: What are the advantages and disadvantages of outlier trimming?"
   ]
  },
  {
   "cell_type": "markdown",
   "metadata": {},
   "source": [
    "YOUR ANSWER HERE"
   ]
  },
  {
   "cell_type": "markdown",
   "metadata": {},
   "source": [
    "### Outlier Capping Using IQR"
   ]
  },
  {
   "cell_type": "markdown",
   "metadata": {},
   "source": [
    "I am very smart to use IQR to demonstrate the above technique, and for this section, I don't have to demonstrate it again. :)"
   ]
  },
  {
   "cell_type": "markdown",
   "metadata": {},
   "source": [
    "TODO: Tell me, what is the IQR distance normally used to cap outliers via IQR?"
   ]
  },
  {
   "cell_type": "markdown",
   "metadata": {},
   "source": [
    "YOUR ANSWER HERE"
   ]
  },
  {
   "cell_type": "markdown",
   "metadata": {},
   "source": [
    "### Outlier Capping Using Mean & Standard Deviation"
   ]
  },
  {
   "cell_type": "markdown",
   "metadata": {},
   "source": [
    "Instead of using the IQR method, the upper and lower thresholds for outliers can be calculated via the mean and standard deviation method."
   ]
  },
  {
   "cell_type": "markdown",
   "metadata": {},
   "source": [
    "- Step 01: Determine the the upper and lower thresholds.\n",
    "\n",
    "`upper_bound` = `mean` + 3 * `sigma`\n",
    "\n",
    "`lower_bound` = `mean` - 3 * `sigma`"
   ]
  },
  {
   "cell_type": "code",
   "execution_count": null,
   "metadata": {},
   "outputs": [],
   "source": [
    "# YOUR CODE HERE\n",
    "raise NotImplementedError()"
   ]
  },
  {
   "cell_type": "markdown",
   "metadata": {},
   "source": [
    "- Step 02: Construct rule for trimming outliers."
   ]
  },
  {
   "cell_type": "code",
   "execution_count": null,
   "metadata": {},
   "outputs": [],
   "source": [
    "# YOUR CODE HERE\n",
    "raise NotImplementedError()"
   ]
  },
  {
   "cell_type": "markdown",
   "metadata": {},
   "source": [
    "- Step 03: Trimming outliers"
   ]
  },
  {
   "cell_type": "code",
   "execution_count": null,
   "metadata": {},
   "outputs": [],
   "source": [
    "# YOUR CODE HERE\n",
    "raise NotImplementedError()"
   ]
  },
  {
   "cell_type": "markdown",
   "metadata": {},
   "source": [
    "TODO: What are the advantages and disadvantages of using mean and standard deviation? Tell me, what is the quartile distance normally used to cap outliers via mean and standard deviation? Give your explaination."
   ]
  },
  {
   "cell_type": "markdown",
   "metadata": {},
   "source": [
    "YOUR ANSWER HERE"
   ]
  },
  {
   "cell_type": "markdown",
   "metadata": {},
   "source": [
    "### Outlier Capping Using Quantiles"
   ]
  },
  {
   "cell_type": "markdown",
   "metadata": {},
   "source": [
    "Furthermore, the upper and lower thresholds for outliers can be calculated via quantile information. We can use it to find outliers."
   ]
  },
  {
   "cell_type": "markdown",
   "metadata": {},
   "source": [
    "- Step 01: Determine the the upper and lower thresholds.\n",
    "\n",
    "`upper_bound` = `quantile` 90%\n",
    "\n",
    "`lower_bound` = `quantile` 10%"
   ]
  },
  {
   "cell_type": "code",
   "execution_count": null,
   "metadata": {},
   "outputs": [],
   "source": [
    "# YOUR CODE HERE\n",
    "raise NotImplementedError()"
   ]
  },
  {
   "cell_type": "markdown",
   "metadata": {},
   "source": [
    "- Step 02: Construct rule for trimming outliers."
   ]
  },
  {
   "cell_type": "code",
   "execution_count": null,
   "metadata": {},
   "outputs": [],
   "source": [
    "# YOUR CODE HERE\n",
    "raise NotImplementedError()"
   ]
  },
  {
   "cell_type": "markdown",
   "metadata": {},
   "source": [
    "- Step 03: Trimming outliers"
   ]
  },
  {
   "cell_type": "code",
   "execution_count": null,
   "metadata": {},
   "outputs": [],
   "source": [
    "# YOUR CODE HERE\n",
    "raise NotImplementedError()"
   ]
  },
  {
   "cell_type": "markdown",
   "metadata": {},
   "source": [
    "TODO: What are the advantages and disadvantages of using Quantiles?"
   ]
  },
  {
   "cell_type": "markdown",
   "metadata": {},
   "source": [
    "YOUR ANSWER HERE"
   ]
  },
  {
   "cell_type": "markdown",
   "metadata": {},
   "source": [
    "## Feature scaling techniques (2 pts)"
   ]
  },
  {
   "cell_type": "markdown",
   "metadata": {},
   "source": [
    "As you know, in any dataset, there are also many different attributes. And the attributes can have different magnitudes, and statistical information includes variances, standard deviations, mean values, etc. The difference in the scale or magnitude of attributes can actually affect statistical models, such as:\n",
    "- The dominance of large-scale variables\n",
    "- Gradient descent algorithm for convergence\n",
    "- Eclidean distance affects similarity among features."
   ]
  },
  {
   "cell_type": "markdown",
   "metadata": {},
   "source": [
    "In this section, I give you some techniques that can be applied in some situations."
   ]
  },
  {
   "cell_type": "markdown",
   "metadata": {},
   "source": [
    "### Standardisation"
   ]
  },
  {
   "cell_type": "markdown",
   "metadata": {},
   "source": [
    "Standardization is the processing of centering the variable at zero and standardizing the data variance to 1. Now, I will you an example for numerical variable in `raw_df` and visualize on `payloads_mass` attributes."
   ]
  },
  {
   "cell_type": "markdown",
   "metadata": {},
   "source": [
    "- Step 01: Init"
   ]
  },
  {
   "cell_type": "code",
   "execution_count": null,
   "metadata": {},
   "outputs": [],
   "source": [
    "scaler = StandardScaler()"
   ]
  },
  {
   "cell_type": "markdown",
   "metadata": {},
   "source": [
    "- Step 02: Fitting"
   ]
  },
  {
   "cell_type": "code",
   "execution_count": null,
   "metadata": {},
   "outputs": [],
   "source": [
    "scaler.fit(raw_df.drop([\"uct_time\"], axis=1))"
   ]
  },
  {
   "cell_type": "markdown",
   "metadata": {},
   "source": [
    "- Step 03: Transform data"
   ]
  },
  {
   "cell_type": "code",
   "execution_count": null,
   "metadata": {},
   "outputs": [],
   "source": [
    "raw_df_scaled = scaler.transform(raw_df.drop([\"uct_time\"], axis=1))\n",
    "raw_df_scaled = pd.DataFrame(raw_df_scaled, columns = raw_df.drop([\"uct_time\"], axis=1).columns)"
   ]
  },
  {
   "cell_type": "markdown",
   "metadata": {},
   "source": [
    "- Step 04: Test"
   ]
  },
  {
   "cell_type": "code",
   "execution_count": null,
   "metadata": {},
   "outputs": [],
   "source": [
    "raw_df_scaled.head()"
   ]
  },
  {
   "cell_type": "code",
   "execution_count": null,
   "metadata": {},
   "outputs": [],
   "source": [
    "fig, axes = plt.subplots(1, 2)\n",
    "\n",
    "raw_df[\"payloads_mass\"].plot(kind=\"kde\", ax=axes[0], color=\"red\")\n",
    "axes[0].set_title(\"Payloads mass before using Standardisation\")\n",
    "\n",
    "raw_df_scaled[\"payloads_mass\"].plot(kind=\"kde\", ax=axes[1], color=\"blue\")\n",
    "axes[1].set_title(\"Payloads mass after using Standardisation\")\n",
    "\n",
    "fig.suptitle(\"Comparing payloads mass before - after scaled.\")\n",
    "\n",
    "plt.show()"
   ]
  },
  {
   "cell_type": "markdown",
   "metadata": {},
   "source": [
    "**TODO: Describe your observation from chart**"
   ]
  },
  {
   "cell_type": "markdown",
   "metadata": {},
   "source": [
    "YOUR ANSWER HERE"
   ]
  },
  {
   "cell_type": "markdown",
   "metadata": {},
   "source": [
    "### Min/Max Scaling"
   ]
  },
  {
   "cell_type": "markdown",
   "metadata": {},
   "source": [
    "Min/max scaling subtracts each value by the minimum value, and then divide the result by the difference of minimum and maximum value in the dataset."
   ]
  },
  {
   "cell_type": "markdown",
   "metadata": {},
   "source": [
    "TODO: Use `sckit-learn` for applying min/max scaling to the `payloads_mass` column."
   ]
  },
  {
   "cell_type": "code",
   "execution_count": null,
   "metadata": {},
   "outputs": [],
   "source": [
    "# YOUR CODE HERE\n",
    "# raise NotImplementedError()"
   ]
  },
  {
   "cell_type": "markdown",
   "metadata": {},
   "source": [
    "**TODO: After visualizing the results, describe your observation from chart**"
   ]
  },
  {
   "cell_type": "markdown",
   "metadata": {},
   "source": [
    "YOUR ANSWER HERE"
   ]
  },
  {
   "cell_type": "markdown",
   "metadata": {},
   "source": [
    "### Mean Normalization"
   ]
  },
  {
   "cell_type": "markdown",
   "metadata": {},
   "source": [
    "Mean normalization is very similar to min/max scaling."
   ]
  },
  {
   "cell_type": "markdown",
   "metadata": {},
   "source": [
    "**TODO: Tell me what is the difference between mean normalization and min/ max scaling.**\n",
    "\n",
    "*Give your obervation here*"
   ]
  },
  {
   "cell_type": "markdown",
   "metadata": {},
   "source": [
    "TODO: Use `sckit-learn` for applying mean normalization to the `payloads_mass` column."
   ]
  },
  {
   "cell_type": "code",
   "execution_count": null,
   "metadata": {},
   "outputs": [],
   "source": [
    "# YOUR CODE HERE\n",
    "# raise NotImplementedError()"
   ]
  },
  {
   "cell_type": "markdown",
   "metadata": {},
   "source": [
    "**TODO: After visualizing the results, describe your observation from chart**"
   ]
  },
  {
   "cell_type": "markdown",
   "metadata": {},
   "source": [
    "YOUR ANSWER HERE"
   ]
  },
  {
   "cell_type": "markdown",
   "metadata": {},
   "source": [
    "### Maximum Absolute Scaling"
   ]
  },
  {
   "cell_type": "markdown",
   "metadata": {},
   "source": [
    "Maximum absolute scaling is probably the simplest of all the scaling techniques. In maximum absolute scaling, each data point is simply divided by the maximum value."
   ]
  },
  {
   "cell_type": "markdown",
   "metadata": {},
   "source": [
    "TODO: Use `sckit-learn` for applying maximum absolute scaling to the `payloads_mass` column."
   ]
  },
  {
   "cell_type": "code",
   "execution_count": null,
   "metadata": {},
   "outputs": [],
   "source": [
    "# YOUR CODE HERE\n",
    "# raise NotImplementedError()"
   ]
  },
  {
   "cell_type": "markdown",
   "metadata": {},
   "source": [
    "**TODO: After visualizing the results, describe your observation from chart**"
   ]
  },
  {
   "cell_type": "markdown",
   "metadata": {},
   "source": [
    "YOUR ANSWER HERE"
   ]
  },
  {
   "cell_type": "markdown",
   "metadata": {},
   "source": [
    "### Median and Quantile Scaling"
   ]
  },
  {
   "cell_type": "markdown",
   "metadata": {},
   "source": [
    "In median and quantile scaling, the mean of the dataset is subtracted from all the data points, and the result is divided by the difference between the first quartile and the 3rd quartile."
   ]
  },
  {
   "cell_type": "markdown",
   "metadata": {},
   "source": [
    "TODO: Use `sckit-learn` for applying median and quantile scaling to the `payloads_mass` column."
   ]
  },
  {
   "cell_type": "code",
   "execution_count": null,
   "metadata": {},
   "outputs": [],
   "source": [
    "# YOUR CODE HERE\n",
    "# raise NotImplementedError()"
   ]
  },
  {
   "cell_type": "markdown",
   "metadata": {},
   "source": [
    "**TODO: After visualizing the results, describe your observation from chart**"
   ]
  },
  {
   "cell_type": "markdown",
   "metadata": {},
   "source": [
    "YOUR ANSWER HERE"
   ]
  },
  {
   "cell_type": "markdown",
   "metadata": {},
   "source": [
    "### Vector Unit Length Scaling"
   ]
  },
  {
   "cell_type": "markdown",
   "metadata": {},
   "source": [
    "In unit length scaling, a new feature vector is created by dividing feature vector by the Manhattan distance (l1 norm), or by the Euclidian distance (l2 norm)."
   ]
  },
  {
   "cell_type": "markdown",
   "metadata": {},
   "source": [
    "TODO: Use `sckit-learn` for applying vector unit length scaling to the `payloads_mass` column."
   ]
  },
  {
   "cell_type": "code",
   "execution_count": null,
   "metadata": {},
   "outputs": [],
   "source": [
    "# YOUR CODE HERE\n",
    "# raise NotImplementedError()"
   ]
  },
  {
   "cell_type": "markdown",
   "metadata": {},
   "source": [
    "**TODO: After visualizing the results, describe your observation from chart**"
   ]
  },
  {
   "cell_type": "markdown",
   "metadata": {},
   "source": [
    "YOUR ANSWER HERE"
   ]
  },
  {
   "cell_type": "markdown",
   "metadata": {},
   "source": [
    "### When and where to apply these normalization techniques?"
   ]
  },
  {
   "cell_type": "markdown",
   "metadata": {},
   "source": [
    "**Question**: After these a bund of normalization techniques, tell me when and where to apply these normalization techniques?"
   ]
  },
  {
   "cell_type": "markdown",
   "metadata": {},
   "source": [
    "YOUR ANSWER HERE"
   ]
  },
  {
   "cell_type": "markdown",
   "metadata": {},
   "source": [
    "End of your lab 01."
   ]
  }
 ],
 "metadata": {
  "kernelspec": {
   "display_name": "Python 3 (ipykernel)",
   "language": "python",
   "name": "python3"
  },
  "language_info": {
   "codemirror_mode": {
    "name": "ipython",
    "version": 3
   },
   "file_extension": ".py",
   "mimetype": "text/x-python",
   "name": "python",
   "nbconvert_exporter": "python",
   "pygments_lexer": "ipython3",
   "version": "3.9.18"
  }
 },
 "nbformat": 4,
 "nbformat_minor": 4
}
